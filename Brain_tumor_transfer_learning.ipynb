{
  "nbformat": 4,
  "nbformat_minor": 0,
  "metadata": {
    "accelerator": "GPU",
    "colab": {
      "provenance": []
    },
    "kernelspec": {
      "display_name": "Python 3",
      "name": "python3"
    },
    "language_info": {
      "name": "python"
    }
  },
  "cells": [
    {
      "cell_type": "code",
      "metadata": {
        "colab": {
          "base_uri": "https://localhost:8080/"
        },
        "id": "DZzy-EtxdgKp",
        "outputId": "54417d2b-61ee-42a0-db64-6d1d9654d749"
      },
      "source": [
        "from google.colab import drive\n",
        "drive.mount('/content/drive')"
      ],
      "execution_count": null,
      "outputs": [
        {
          "output_type": "stream",
          "name": "stdout",
          "text": [
            "Mounted at /content/drive\n"
          ]
        }
      ]
    },
    {
      "cell_type": "code",
      "source": [
        "! ls '/content/drive/Shareddrives/Datasets/mrinmoy/brain_tumor/train/1' | wc -l\n",
        "! ls '/content/drive/Shareddrives/Datasets/mrinmoy/brain_tumor/train/2' | wc -l\n",
        "! ls '/content/drive/Shareddrives/Datasets/mrinmoy/brain_tumor/train/3' | wc -l\n",
        "! ls '/content/drive/Shareddrives/Datasets/mrinmoy/brain_tumor/validation/1' | wc -l\n",
        "! ls '/content/drive/Shareddrives/Datasets/mrinmoy/brain_tumor/validation/2' | wc -l\n",
        "! ls '/content/drive/Shareddrives/Datasets/mrinmoy/brain_tumor/validation/3' | wc -l\n",
        "! ls '/content/drive/Shareddrives/Datasets/mrinmoy/brain_tumor/test/1' | wc -l\n",
        "! ls '/content/drive/Shareddrives/Datasets/mrinmoy/brain_tumor/test/2' | wc -l\n",
        "! ls '/content/drive/Shareddrives/Datasets/mrinmoy/brain_tumor/test/3' | wc -l"
      ],
      "metadata": {
        "colab": {
          "base_uri": "https://localhost:8080/"
        },
        "id": "gbMDnmHv-gXo",
        "outputId": "83304c54-23d9-45f3-a5f3-5abd54fa6ab0"
      },
      "execution_count": null,
      "outputs": [
        {
          "output_type": "stream",
          "name": "stdout",
          "text": [
            "567\n",
            "1142\n",
            "745\n",
            "70\n",
            "141\n",
            "92\n",
            "71\n",
            "143\n",
            "93\n"
          ]
        }
      ]
    },
    {
      "cell_type": "markdown",
      "source": [
        "# imports\n"
      ],
      "metadata": {
        "id": "zruO9uQL_FWa"
      }
    },
    {
      "cell_type": "code",
      "metadata": {
        "id": "GYIfDiE1_HPv"
      },
      "source": [
        "import numpy as np\n",
        "import os\n",
        "import matplotlib.pyplot as plt\n",
        "import seaborn as sns\n",
        "\n",
        "from numpy.random import seed\n",
        "\n",
        "\n",
        "# from tensorflow.python.keras.applications import vgg16\n",
        "# from tensorflow.python.keras.applications.vgg16 import preprocess_input\n",
        "# from tensorflow.python.keras.preprocessing.image import ImageDataGenerator, load_img\n",
        "#from tensorflow.python.keras.callbacks import ModelCheckpoint\n",
        "# from tensorflow.python.keras import layers, models, Model,optimizers\n",
        "\n",
        "from sklearn.metrics import classification_report, confusion_matrix, accuracy_score\n",
        "from sklearn.metrics import plot_confusion_matrix\n",
        "\n",
        "#from tensorflow.keras import optimizers\n",
        "\n",
        "#from keras.optimizers import Adam\n",
        "\n",
        "from keras import optimizers\n",
        "\n",
        "\n",
        "\n",
        "import keras\n",
        "from sklearn import metrics\n",
        "import tensorflow as tf\n",
        "from keras.layers import Input, Lambda, Dense, Flatten,GlobalAveragePooling2D,BatchNormalization,Dropout,Activation\n",
        "from keras.models import Model\n",
        "# from keras.applications.densenet201 import DenseNet121\n",
        "from keras.applications.vgg19 import VGG19\n",
        "#from tensorflow.keras.applications.resnet50 import ResNet50\n",
        "from keras.applications.vgg16 import preprocess_input\n",
        "from keras.preprocessing import image\n",
        "from keras.preprocessing.image import ImageDataGenerator\n",
        "from keras.models import Sequential\n",
        "import numpy as np\n",
        "from glob import glob\n",
        "import matplotlib.pyplot as plt\n",
        "import numpy as np\n",
        "import pandas as pd\n",
        "import os\n",
        "import matplotlib.pyplot as plt\n",
        "\n",
        "# from tensorflow.keras import optimizers\n",
        "# from tensorflow.keras.utils import to_categorical\n",
        "# from tensorflow.keras.preprocessing.image import load_img, img_to_array\n",
        "# from tensorflow.python.keras.preprocessing.image import ImageDataGenerator\n",
        "\n",
        "# from IPython.display import Image, display\n",
        "# import matplotlib.pyplot as plt\n",
        "# import matplotlib.cm as cm\n",
        "\n",
        "# from sklearn.metrics import classification_report, log_loss, accuracy_score,confusion_matrix\n",
        "# from sklearn.model_selection import train_test_split\n",
        "# from IPython.display import Image"
      ],
      "execution_count": null,
      "outputs": []
    },
    {
      "cell_type": "code",
      "metadata": {
        "id": "swL-5nId_HPv"
      },
      "source": [
        "train_data_dir = '/content/drive/Shareddrives/Datasets/mrinmoy/brain_tumor/train' \n",
        "val_data_dir ='/content/drive/Shareddrives/Datasets/mrinmoy/brain_tumor/test'\n",
        "test_data_dir = '/content/drive/Shareddrives/Datasets/mrinmoy/brain_tumor/validation'"
      ],
      "execution_count": null,
      "outputs": []
    },
    {
      "cell_type": "markdown",
      "metadata": {
        "id": "8ELGwE-n_HPw"
      },
      "source": []
    },
    {
      "cell_type": "code",
      "metadata": {
        "colab": {
          "base_uri": "https://localhost:8080/"
        },
        "id": "Y-tFL2Js_HPw",
        "outputId": "0ec08b7b-3eee-4873-fe02-a5c8155d8366"
      },
      "source": [
        "img_height, img_width = 224,224\n",
        "conv_base =VGG19(weights='imagenet', include_top=False, pooling='max', input_shape = (img_width, img_height, 3))"
      ],
      "execution_count": null,
      "outputs": [
        {
          "output_type": "stream",
          "name": "stdout",
          "text": [
            "Downloading data from https://storage.googleapis.com/tensorflow/keras-applications/vgg19/vgg19_weights_tf_dim_ordering_tf_kernels_notop.h5\n",
            "80142336/80134624 [==============================] - 0s 0us/step\n",
            "80150528/80134624 [==============================] - 0s 0us/step\n"
          ]
        }
      ]
    },
    {
      "cell_type": "code",
      "metadata": {
        "colab": {
          "base_uri": "https://localhost:8080/"
        },
        "outputId": "722f0402-2e9c-4eef-e56a-cd5e8dc3f1bd",
        "id": "0P2CkZK7_HPx"
      },
      "source": [
        "for layer in conv_base.layers:\n",
        "    print(layer, layer.trainable)"
      ],
      "execution_count": null,
      "outputs": [
        {
          "output_type": "stream",
          "name": "stdout",
          "text": [
            "<keras.engine.input_layer.InputLayer object at 0x7fb3cc100bd0> True\n",
            "<keras.layers.convolutional.Conv2D object at 0x7fb3cbbb4ad0> True\n",
            "<keras.layers.convolutional.Conv2D object at 0x7fb3cb30e490> True\n",
            "<keras.layers.pooling.MaxPooling2D object at 0x7fb3c314cbd0> True\n",
            "<keras.layers.convolutional.Conv2D object at 0x7fb3c06ff1d0> True\n",
            "<keras.layers.convolutional.Conv2D object at 0x7fb3c06ffc90> True\n",
            "<keras.layers.pooling.MaxPooling2D object at 0x7fb3c07065d0> True\n",
            "<keras.layers.convolutional.Conv2D object at 0x7fb3c070aed0> True\n",
            "<keras.layers.convolutional.Conv2D object at 0x7fb3c0711550> True\n",
            "<keras.layers.convolutional.Conv2D object at 0x7fb3c070e5d0> True\n",
            "<keras.layers.convolutional.Conv2D object at 0x7fb3c0720150> True\n",
            "<keras.layers.pooling.MaxPooling2D object at 0x7fb3c072a410> True\n",
            "<keras.layers.convolutional.Conv2D object at 0x7fb3c0725f90> True\n",
            "<keras.layers.convolutional.Conv2D object at 0x7fb3c0706950> True\n",
            "<keras.layers.convolutional.Conv2D object at 0x7fb3c06b7410> True\n",
            "<keras.layers.convolutional.Conv2D object at 0x7fb3c06bbc10> True\n",
            "<keras.layers.pooling.MaxPooling2D object at 0x7fb3c071b8d0> True\n",
            "<keras.layers.convolutional.Conv2D object at 0x7fb3c06bd850> True\n",
            "<keras.layers.convolutional.Conv2D object at 0x7fb3c06cb250> True\n",
            "<keras.layers.convolutional.Conv2D object at 0x7fb3c0720ed0> True\n",
            "<keras.layers.convolutional.Conv2D object at 0x7fb3c06d61d0> True\n",
            "<keras.layers.pooling.MaxPooling2D object at 0x7fb3c06df050> True\n",
            "<keras.layers.pooling.GlobalMaxPooling2D object at 0x7fb3c06d6690> True\n"
          ]
        }
      ]
    },
    {
      "cell_type": "code",
      "metadata": {
        "colab": {
          "base_uri": "https://localhost:8080/",
          "height": 298
        },
        "outputId": "e9f4f229-c877-4568-c3c8-68582a6a910b",
        "id": "Gs44dc3L_HPx"
      },
      "source": [
        "category_names = sorted(os.listdir(train_data_dir))\n",
        "nb_categories = len(category_names)\n",
        "img_pr_cat = []\n",
        "for category in category_names:\n",
        "    folder = train_data_dir + '/' + category\n",
        "    img_pr_cat.append(len(os.listdir(folder)))\n",
        "sns.barplot(y=category_names, x=img_pr_cat).set_title(\"Number of training images per category:\")"
      ],
      "execution_count": null,
      "outputs": [
        {
          "output_type": "execute_result",
          "data": {
            "text/plain": [
              "Text(0.5, 1.0, 'Number of training images per category:')"
            ]
          },
          "metadata": {},
          "execution_count": 6
        },
        {
          "output_type": "display_data",
          "data": {
            "text/plain": [
              "<Figure size 432x288 with 1 Axes>"
            ],
            "image/png": "[encoded data removed]"
          },
          "metadata": {
            "needs_background": "light"
          }
        }
      ]
    },
    {
      "cell_type": "code",
      "metadata": {
        "colab": {
          "base_uri": "https://localhost:8080/"
        },
        "outputId": "3bbb944d-88eb-4167-c67d-f8cc5a5057c7",
        "id": "--vNsEer_HPx"
      },
      "source": [
        "model = Sequential()\n",
        "model.add(conv_base)\n",
        "model.add(Dense(nb_categories, activation='softmax'))\n",
        "model.summary()\n",
        "\n",
        "\n",
        "# for layer in conv_base.layers:\n",
        "#   layer.trainable = False\n",
        "  \n",
        "\n",
        "  \n",
        "\n",
        "# #folders = glob('/content/drive/My Drive/datasets_image/brain_tumor/train/*')\n",
        "  \n",
        "\n",
        "\n",
        "# x = Flatten()(conv_base.output)\n",
        "\n",
        "# prediction = Dense(nb_categories, activation='softmax')(x)\n",
        "\n",
        "# model = Model(inputs=conv_base.input, outputs=prediction)\n",
        "\n",
        "\n",
        "# model.summary()"
      ],
      "execution_count": null,
      "outputs": [
        {
          "output_type": "stream",
          "name": "stdout",
          "text": [
            "Model: \"sequential\"\n",
            "_________________________________________________________________\n",
            " Layer (type)                Output Shape              Param #   \n",
            "=================================================================\n",
            " vgg19 (Functional)          (None, 512)               20024384  \n",
            "                                                                 \n",
            " dense (Dense)               (None, 3)                 1539      \n",
            "                                                                 \n",
            "=================================================================\n",
            "Total params: 20,025,923\n",
            "Trainable params: 20,025,923\n",
            "Non-trainable params: 0\n",
            "_________________________________________________________________\n"
          ]
        }
      ]
    },
    {
      "cell_type": "code",
      "metadata": {
        "id": "Dd8hqK1L_HPy"
      },
      "source": [
        "#Number of images to load at each iteration\n",
        "batch_size = 32\n",
        "# only rescaling\n",
        "train_datagen = ImageDataGenerator(\n",
        "        rescale=1./255,\n",
        "        rotation_range=10,\n",
        "        zoom_range=0.1,\n",
        "        width_shift_range=0.1,\n",
        "        height_shift_range=0.1,\n",
        "        horizontal_flip=False,\n",
        "        brightness_range = (0.9,1.1),\n",
        "        fill_mode='nearest'\n",
        "        )\n",
        "test_datagen =  ImageDataGenerator(\n",
        "    rescale=1./255\n",
        ")"
      ],
      "execution_count": null,
      "outputs": []
    },
    {
      "cell_type": "code",
      "metadata": {
        "colab": {
          "base_uri": "https://localhost:8080/"
        },
        "outputId": "6342ad5a-ebcb-4a52-d688-41fd9216986f",
        "id": "D6lYWcyP_HPy"
      },
      "source": [
        "print('Total number of images for \"training\":')\n",
        "train_generator = train_datagen.flow_from_directory(\n",
        "train_data_dir,\n",
        "target_size = (img_height, img_width),\n",
        "batch_size = batch_size, \n",
        "class_mode = \"categorical\")\n",
        "print('Total number of images for \"validation\":')\n",
        "val_generator = test_datagen.flow_from_directory(\n",
        "val_data_dir,\n",
        "target_size = (img_height, img_width),\n",
        "batch_size = batch_size,\n",
        "class_mode = \"categorical\",\n",
        "shuffle=False)\n",
        "print('Total number of images for \"testing\":')\n",
        "test_generator = test_datagen.flow_from_directory(\n",
        "test_data_dir,\n",
        "target_size = (img_height, img_width),\n",
        "batch_size = batch_size,\n",
        "class_mode = \"categorical\",\n",
        "shuffle=False)"
      ],
      "execution_count": null,
      "outputs": [
        {
          "output_type": "stream",
          "name": "stdout",
          "text": [
            "Total number of images for \"training\":\n",
            "Found 2454 images belonging to 3 classes.\n",
            "Total number of images for \"validation\":\n",
            "Found 307 images belonging to 3 classes.\n",
            "Total number of images for \"testing\":\n",
            "Found 303 images belonging to 4 classes.\n"
          ]
        }
      ]
    },
    {
      "cell_type": "code",
      "metadata": {
        "id": "UUon9Zc9_HPy"
      },
      "source": [],
      "execution_count": null,
      "outputs": []
    },
    {
      "cell_type": "code",
      "metadata": {
        "id": "usv3BbjL_HPy"
      },
      "source": [],
      "execution_count": null,
      "outputs": []
    },
    {
      "cell_type": "code",
      "metadata": {
        "id": "VR3SR3Mu_HPy"
      },
      "source": [],
      "execution_count": null,
      "outputs": []
    },
    {
      "cell_type": "code",
      "metadata": {
        "id": "fINR_J_H_HPy"
      },
      "source": [
        "learning_rate = .00001\n",
        "epochs =100\n",
        "#checkpoint = ModelCheckpoint(\"sign_classifier.h5\", monitor = 'val_acc', verbose=1, save_best_only=True, save_weights_only=False, mode='auto', period=1)\n",
        "model.compile(loss=\"categorical_crossentropy\", optimizer=tf.keras.optimizers.Adam(learning_rate=learning_rate), metrics = ['acc','AUC'])\n",
        "\n",
        "\n"
      ],
      "execution_count": null,
      "outputs": []
    },
    {
      "cell_type": "code",
      "metadata": {
        "id": "dvWb5oeM_HPy"
      },
      "source": [],
      "execution_count": null,
      "outputs": []
    },
    {
      "cell_type": "code",
      "metadata": {
        "colab": {
          "base_uri": "https://localhost:8080/"
        },
        "outputId": "ef0acecf-8755-4891-ff06-8f5e256d34c6",
        "id": "rci69izc_HPz"
      },
      "source": [
        "history = model.fit_generator(train_generator, \n",
        "                              epochs=epochs, \n",
        "                              shuffle=True, \n",
        "                              validation_data=val_generator.\n",
        "                              #callbacks=[checkpoint]\n",
        "                              )"
      ],
      "execution_count": null,
      "outputs": [
        {
          "output_type": "stream",
          "name": "stderr",
          "text": [
            "/usr/local/lib/python3.7/dist-packages/ipykernel_launcher.py:4: UserWarning: `Model.fit_generator` is deprecated and will be removed in a future version. Please use `Model.fit`, which supports generators.\n",
            "  after removing the cwd from sys.path.\n"
          ]
        },
        {
          "output_type": "stream",
          "name": "stdout",
          "text": [
            "Epoch 1/100\n",
            "77/77 [==============================] - 338s 4s/step - loss: 0.7063 - acc: 0.6850 - auc: 0.8647 - val_loss: 0.8572 - val_acc: 0.5896 - val_auc: 0.7935\n",
            "Epoch 2/100\n",
            "77/77 [==============================] - 49s 635ms/step - loss: 0.3068 - acc: 0.8810 - auc: 0.9754 - val_loss: 0.9133 - val_acc: 0.5635 - val_auc: 0.8038\n",
            "Epoch 3/100\n",
            "77/77 [==============================] - 50s 644ms/step - loss: 0.2148 - acc: 0.9156 - auc: 0.9872 - val_loss: 1.7099 - val_acc: 0.5570 - val_auc: 0.7382\n",
            "Epoch 4/100\n",
            "77/77 [==============================] - 49s 630ms/step - loss: 0.1367 - acc: 0.9491 - auc: 0.9946 - val_loss: 1.2180 - val_acc: 0.5896 - val_auc: 0.8034\n",
            "Epoch 5/100\n",
            "77/77 [==============================] - 49s 629ms/step - loss: 0.0900 - acc: 0.9690 - auc: 0.9979 - val_loss: 1.3837 - val_acc: 0.5668 - val_auc: 0.7789\n",
            "Epoch 6/100\n",
            "77/77 [==============================] - 49s 630ms/step - loss: 0.0752 - acc: 0.9694 - auc: 0.9984 - val_loss: 1.4531 - val_acc: 0.5537 - val_auc: 0.7940\n",
            "Epoch 7/100\n",
            "77/77 [==============================] - 50s 641ms/step - loss: 0.0460 - acc: 0.9829 - auc: 0.9994 - val_loss: 1.7542 - val_acc: 0.5896 - val_auc: 0.7769\n",
            "Epoch 8/100\n",
            "77/77 [==============================] - 49s 628ms/step - loss: 0.0589 - acc: 0.9813 - auc: 0.9987 - val_loss: 1.8902 - val_acc: 0.5472 - val_auc: 0.7454\n",
            "Epoch 9/100\n",
            "77/77 [==============================] - 49s 628ms/step - loss: 0.0351 - acc: 0.9906 - auc: 0.9997 - val_loss: 1.8588 - val_acc: 0.5733 - val_auc: 0.7715\n",
            "Epoch 10/100\n",
            "77/77 [==============================] - 49s 627ms/step - loss: 0.0368 - acc: 0.9866 - auc: 0.9996 - val_loss: 2.1292 - val_acc: 0.5537 - val_auc: 0.7567\n",
            "Epoch 11/100\n",
            "77/77 [==============================] - 49s 638ms/step - loss: 0.0315 - acc: 0.9919 - auc: 0.9994 - val_loss: 2.5701 - val_acc: 0.5603 - val_auc: 0.7495\n",
            "Epoch 12/100\n",
            "77/77 [==============================] - 49s 632ms/step - loss: 0.0196 - acc: 0.9919 - auc: 0.9999 - val_loss: 2.8518 - val_acc: 0.5733 - val_auc: 0.7387\n",
            "Epoch 13/100\n",
            "77/77 [==============================] - 48s 623ms/step - loss: 0.0492 - acc: 0.9841 - auc: 0.9990 - val_loss: 2.1488 - val_acc: 0.5505 - val_auc: 0.7469\n",
            "Epoch 14/100\n",
            "77/77 [==============================] - 49s 637ms/step - loss: 0.0291 - acc: 0.9898 - auc: 0.9998 - val_loss: 3.0577 - val_acc: 0.5700 - val_auc: 0.7237\n",
            "Epoch 15/100\n",
            "77/77 [==============================] - 48s 622ms/step - loss: 0.0141 - acc: 0.9971 - auc: 0.9999 - val_loss: 2.3042 - val_acc: 0.5798 - val_auc: 0.7617\n",
            "Epoch 16/100\n",
            "77/77 [==============================] - 48s 624ms/step - loss: 0.0095 - acc: 0.9971 - auc: 1.0000 - val_loss: 2.6359 - val_acc: 0.5896 - val_auc: 0.7621\n",
            "Epoch 17/100\n",
            "77/77 [==============================] - 48s 621ms/step - loss: 0.0214 - acc: 0.9927 - auc: 0.9999 - val_loss: 2.2771 - val_acc: 0.5733 - val_auc: 0.7610\n",
            "Epoch 18/100\n",
            "77/77 [==============================] - 49s 635ms/step - loss: 0.0484 - acc: 0.9813 - auc: 0.9993 - val_loss: 2.2198 - val_acc: 0.5700 - val_auc: 0.7607\n",
            "Epoch 19/100\n",
            "77/77 [==============================] - 48s 623ms/step - loss: 0.0098 - acc: 0.9980 - auc: 1.0000 - val_loss: 2.8091 - val_acc: 0.5603 - val_auc: 0.7479\n",
            "Epoch 20/100\n",
            "77/77 [==============================] - 48s 624ms/step - loss: 0.0093 - acc: 0.9976 - auc: 1.0000 - val_loss: 2.3739 - val_acc: 0.5961 - val_auc: 0.7679\n",
            "Epoch 21/100\n",
            "77/77 [==============================] - 48s 620ms/step - loss: 0.0083 - acc: 0.9980 - auc: 1.0000 - val_loss: 3.4090 - val_acc: 0.5603 - val_auc: 0.7240\n",
            "Epoch 22/100\n",
            "77/77 [==============================] - 49s 631ms/step - loss: 0.0080 - acc: 0.9984 - auc: 1.0000 - val_loss: 2.7643 - val_acc: 0.6026 - val_auc: 0.7626\n",
            "Epoch 23/100\n",
            "77/77 [==============================] - 48s 623ms/step - loss: 0.0216 - acc: 0.9939 - auc: 0.9998 - val_loss: 2.1989 - val_acc: 0.6580 - val_auc: 0.7800\n",
            "Epoch 24/100\n",
            "77/77 [==============================] - 48s 620ms/step - loss: 0.0284 - acc: 0.9894 - auc: 0.9998 - val_loss: 3.1833 - val_acc: 0.5505 - val_auc: 0.7176\n",
            "Epoch 25/100\n",
            "77/77 [==============================] - 48s 622ms/step - loss: 0.0054 - acc: 0.9996 - auc: 1.0000 - val_loss: 2.5316 - val_acc: 0.5733 - val_auc: 0.7671\n",
            "Epoch 26/100\n",
            "77/77 [==============================] - 49s 626ms/step - loss: 0.0027 - acc: 0.9992 - auc: 1.0000 - val_loss: 3.6964 - val_acc: 0.5700 - val_auc: 0.7299\n",
            "Epoch 27/100\n",
            "77/77 [==============================] - 48s 618ms/step - loss: 0.0020 - acc: 1.0000 - auc: 1.0000 - val_loss: 3.7229 - val_acc: 0.5570 - val_auc: 0.7145\n",
            "Epoch 28/100\n",
            "77/77 [==============================] - 49s 626ms/step - loss: 0.0022 - acc: 0.9996 - auc: 1.0000 - val_loss: 3.1497 - val_acc: 0.5896 - val_auc: 0.7451\n",
            "Epoch 29/100\n",
            "77/77 [==============================] - 49s 625ms/step - loss: 0.0278 - acc: 0.9890 - auc: 0.9998 - val_loss: 2.9802 - val_acc: 0.5635 - val_auc: 0.7255\n",
            "Epoch 30/100\n",
            "77/77 [==============================] - 48s 620ms/step - loss: 0.0174 - acc: 0.9935 - auc: 0.9999 - val_loss: 2.7556 - val_acc: 0.5700 - val_auc: 0.7419\n",
            "Epoch 31/100\n",
            "77/77 [==============================] - 48s 624ms/step - loss: 0.0071 - acc: 0.9976 - auc: 1.0000 - val_loss: 4.8257 - val_acc: 0.5440 - val_auc: 0.6824\n",
            "Epoch 32/100\n",
            "77/77 [==============================] - 49s 637ms/step - loss: 0.0154 - acc: 0.9951 - auc: 0.9999 - val_loss: 2.7779 - val_acc: 0.6059 - val_auc: 0.7543\n",
            "Epoch 33/100\n",
            "77/77 [==============================] - 48s 620ms/step - loss: 0.0100 - acc: 0.9963 - auc: 1.0000 - val_loss: 3.3810 - val_acc: 0.5798 - val_auc: 0.7158\n",
            "Epoch 34/100\n",
            "77/77 [==============================] - 48s 621ms/step - loss: 0.0031 - acc: 0.9992 - auc: 1.0000 - val_loss: 3.2857 - val_acc: 0.5733 - val_auc: 0.7323\n",
            "Epoch 35/100\n",
            "77/77 [==============================] - 48s 623ms/step - loss: 7.5138e-04 - acc: 1.0000 - auc: 1.0000 - val_loss: 3.7992 - val_acc: 0.5537 - val_auc: 0.7275\n",
            "Epoch 36/100\n",
            "77/77 [==============================] - 49s 635ms/step - loss: 0.0036 - acc: 0.9992 - auc: 1.0000 - val_loss: 3.8785 - val_acc: 0.5700 - val_auc: 0.7254\n",
            "Epoch 37/100\n",
            "77/77 [==============================] - 48s 618ms/step - loss: 0.0026 - acc: 0.9996 - auc: 1.0000 - val_loss: 2.6928 - val_acc: 0.5961 - val_auc: 0.7631\n",
            "Epoch 38/100\n",
            "77/77 [==============================] - 48s 619ms/step - loss: 4.8621e-04 - acc: 1.0000 - auc: 1.0000 - val_loss: 3.9942 - val_acc: 0.5537 - val_auc: 0.7197\n",
            "Epoch 39/100\n",
            "77/77 [==============================] - 49s 631ms/step - loss: 0.0011 - acc: 1.0000 - auc: 1.0000 - val_loss: 3.0314 - val_acc: 0.6026 - val_auc: 0.7467\n",
            "Epoch 40/100\n",
            "77/77 [==============================] - 48s 618ms/step - loss: 0.0044 - acc: 0.9992 - auc: 1.0000 - val_loss: 4.3072 - val_acc: 0.5733 - val_auc: 0.7160\n",
            "Epoch 41/100\n",
            "77/77 [==============================] - 48s 622ms/step - loss: 0.0178 - acc: 0.9943 - auc: 0.9999 - val_loss: 2.8168 - val_acc: 0.5603 - val_auc: 0.7175\n",
            "Epoch 42/100\n",
            "77/77 [==============================] - 48s 623ms/step - loss: 0.0102 - acc: 0.9963 - auc: 1.0000 - val_loss: 3.6360 - val_acc: 0.5765 - val_auc: 0.7262\n",
            "Epoch 43/100\n",
            "77/77 [==============================] - 49s 628ms/step - loss: 0.0066 - acc: 0.9980 - auc: 1.0000 - val_loss: 3.2620 - val_acc: 0.6059 - val_auc: 0.7422\n",
            "Epoch 44/100\n",
            "77/77 [==============================] - 48s 619ms/step - loss: 0.0234 - acc: 0.9923 - auc: 0.9998 - val_loss: 2.8749 - val_acc: 0.5407 - val_auc: 0.7265\n",
            "Epoch 45/100\n",
            "77/77 [==============================] - 48s 619ms/step - loss: 0.0185 - acc: 0.9927 - auc: 0.9999 - val_loss: 3.2416 - val_acc: 0.5603 - val_auc: 0.7157\n",
            "Epoch 46/100\n",
            "77/77 [==============================] - 48s 620ms/step - loss: 0.0028 - acc: 0.9988 - auc: 1.0000 - val_loss: 3.0784 - val_acc: 0.5961 - val_auc: 0.7409\n",
            "Epoch 47/100\n",
            "77/77 [==============================] - 48s 617ms/step - loss: 0.0057 - acc: 0.9984 - auc: 1.0000 - val_loss: 3.1642 - val_acc: 0.5733 - val_auc: 0.7296\n",
            "Epoch 48/100\n",
            "77/77 [==============================] - 48s 623ms/step - loss: 0.0051 - acc: 0.9980 - auc: 1.0000 - val_loss: 5.5581 - val_acc: 0.5049 - val_auc: 0.6577\n",
            "Epoch 49/100\n",
            "77/77 [==============================] - 48s 617ms/step - loss: 0.0119 - acc: 0.9955 - auc: 1.0000 - val_loss: 4.9443 - val_acc: 0.5505 - val_auc: 0.6862\n",
            "Epoch 50/100\n",
            "77/77 [==============================] - 48s 618ms/step - loss: 0.0038 - acc: 0.9992 - auc: 1.0000 - val_loss: 3.4961 - val_acc: 0.5537 - val_auc: 0.7183\n",
            "Epoch 51/100\n",
            "77/77 [==============================] - 49s 626ms/step - loss: 0.0054 - acc: 0.9976 - auc: 1.0000 - val_loss: 4.5186 - val_acc: 0.5537 - val_auc: 0.7006\n",
            "Epoch 52/100\n",
            "77/77 [==============================] - 48s 620ms/step - loss: 0.0041 - acc: 0.9992 - auc: 1.0000 - val_loss: 3.4171 - val_acc: 0.5896 - val_auc: 0.7432\n",
            "Epoch 53/100\n",
            "77/77 [==============================] - 48s 619ms/step - loss: 0.0012 - acc: 1.0000 - auc: 1.0000 - val_loss: 4.4029 - val_acc: 0.5733 - val_auc: 0.7112\n",
            "Epoch 54/100\n",
            "77/77 [==============================] - 48s 623ms/step - loss: 0.0034 - acc: 0.9996 - auc: 1.0000 - val_loss: 4.3466 - val_acc: 0.5961 - val_auc: 0.7258\n",
            "Epoch 55/100\n",
            "77/77 [==============================] - 48s 623ms/step - loss: 0.0018 - acc: 0.9992 - auc: 1.0000 - val_loss: 3.3871 - val_acc: 0.6124 - val_auc: 0.7558\n",
            "Epoch 56/100\n",
            "77/77 [==============================] - 48s 621ms/step - loss: 0.0010 - acc: 1.0000 - auc: 1.0000 - val_loss: 4.2706 - val_acc: 0.5928 - val_auc: 0.7325\n",
            "Epoch 57/100\n",
            "77/77 [==============================] - 48s 620ms/step - loss: 7.6459e-04 - acc: 1.0000 - auc: 1.0000 - val_loss: 3.3466 - val_acc: 0.6287 - val_auc: 0.7589\n",
            "Epoch 58/100\n",
            "77/77 [==============================] - 48s 617ms/step - loss: 0.0230 - acc: 0.9927 - auc: 0.9993 - val_loss: 3.7958 - val_acc: 0.5570 - val_auc: 0.6944\n",
            "Epoch 59/100\n",
            "77/77 [==============================] - 48s 618ms/step - loss: 0.0096 - acc: 0.9971 - auc: 1.0000 - val_loss: 2.6581 - val_acc: 0.5896 - val_auc: 0.7532\n",
            "Epoch 60/100\n",
            "77/77 [==============================] - 48s 619ms/step - loss: 0.0115 - acc: 0.9955 - auc: 1.0000 - val_loss: 5.5003 - val_acc: 0.5277 - val_auc: 0.6834\n",
            "Epoch 61/100\n",
            "77/77 [==============================] - 48s 614ms/step - loss: 0.0079 - acc: 0.9971 - auc: 1.0000 - val_loss: 2.8201 - val_acc: 0.6254 - val_auc: 0.7811\n",
            "Epoch 62/100\n",
            "77/77 [==============================] - 48s 618ms/step - loss: 0.0030 - acc: 0.9992 - auc: 1.0000 - val_loss: 4.3414 - val_acc: 0.5309 - val_auc: 0.7075\n",
            "Epoch 63/100\n",
            "77/77 [==============================] - 48s 619ms/step - loss: 0.0182 - acc: 0.9943 - auc: 0.9996 - val_loss: 2.6223 - val_acc: 0.5765 - val_auc: 0.7553\n",
            "Epoch 64/100\n",
            "77/77 [==============================] - 48s 621ms/step - loss: 0.0070 - acc: 0.9980 - auc: 1.0000 - val_loss: 3.5583 - val_acc: 0.5603 - val_auc: 0.7372\n",
            "Epoch 65/100\n",
            "77/77 [==============================] - 48s 622ms/step - loss: 6.0205e-04 - acc: 1.0000 - auc: 1.0000 - val_loss: 3.8157 - val_acc: 0.5537 - val_auc: 0.7283\n",
            "Epoch 66/100\n",
            "77/77 [==============================] - 48s 623ms/step - loss: 0.0029 - acc: 0.9984 - auc: 1.0000 - val_loss: 3.5875 - val_acc: 0.5831 - val_auc: 0.7381\n",
            "Epoch 67/100\n",
            "77/77 [==============================] - 48s 620ms/step - loss: 0.0015 - acc: 0.9996 - auc: 1.0000 - val_loss: 4.9905 - val_acc: 0.5375 - val_auc: 0.6975\n",
            "Epoch 68/100\n",
            "77/77 [==============================] - 48s 618ms/step - loss: 4.4261e-04 - acc: 1.0000 - auc: 1.0000 - val_loss: 4.3403 - val_acc: 0.5700 - val_auc: 0.7103\n",
            "Epoch 69/100\n",
            "77/77 [==============================] - 48s 622ms/step - loss: 2.9690e-04 - acc: 1.0000 - auc: 1.0000 - val_loss: 4.7430 - val_acc: 0.5700 - val_auc: 0.7098\n",
            "Epoch 70/100\n",
            "77/77 [==============================] - 48s 624ms/step - loss: 1.3360e-04 - acc: 1.0000 - auc: 1.0000 - val_loss: 4.6432 - val_acc: 0.5798 - val_auc: 0.7208\n",
            "Epoch 71/100\n",
            "77/77 [==============================] - 48s 622ms/step - loss: 1.9276e-04 - acc: 1.0000 - auc: 1.0000 - val_loss: 4.5995 - val_acc: 0.5831 - val_auc: 0.7231\n",
            "Epoch 72/100\n",
            "77/77 [==============================] - 49s 627ms/step - loss: 1.2220e-04 - acc: 1.0000 - auc: 1.0000 - val_loss: 4.7998 - val_acc: 0.5798 - val_auc: 0.7230\n",
            "Epoch 73/100\n",
            "77/77 [==============================] - 50s 639ms/step - loss: 2.9675e-04 - acc: 1.0000 - auc: 1.0000 - val_loss: 5.4953 - val_acc: 0.5440 - val_auc: 0.6871\n",
            "Epoch 74/100\n",
            "77/77 [==============================] - 49s 627ms/step - loss: 0.0024 - acc: 0.9992 - auc: 1.0000 - val_loss: 4.0819 - val_acc: 0.5537 - val_auc: 0.7194\n",
            "Epoch 75/100\n",
            "77/77 [==============================] - 49s 630ms/step - loss: 0.0246 - acc: 0.9914 - auc: 0.9995 - val_loss: 2.7323 - val_acc: 0.5570 - val_auc: 0.7293\n",
            "Epoch 76/100\n",
            "77/77 [==============================] - 49s 632ms/step - loss: 0.0090 - acc: 0.9963 - auc: 1.0000 - val_loss: 2.4380 - val_acc: 0.6287 - val_auc: 0.7848\n",
            "Epoch 77/100\n",
            "77/77 [==============================] - 49s 626ms/step - loss: 0.0240 - acc: 0.9919 - auc: 0.9996 - val_loss: 3.3767 - val_acc: 0.5635 - val_auc: 0.7216\n",
            "Epoch 78/100\n",
            "77/77 [==============================] - 48s 623ms/step - loss: 0.0036 - acc: 0.9988 - auc: 1.0000 - val_loss: 3.4446 - val_acc: 0.5635 - val_auc: 0.7365\n",
            "Epoch 79/100\n",
            "77/77 [==============================] - 49s 627ms/step - loss: 7.7588e-04 - acc: 1.0000 - auc: 1.0000 - val_loss: 4.3921 - val_acc: 0.5505 - val_auc: 0.7055\n",
            "Epoch 80/100\n",
            "77/77 [==============================] - 49s 630ms/step - loss: 8.2201e-04 - acc: 1.0000 - auc: 1.0000 - val_loss: 4.4427 - val_acc: 0.5603 - val_auc: 0.7057\n",
            "Epoch 81/100\n",
            "77/77 [==============================] - 49s 628ms/step - loss: 3.6606e-04 - acc: 1.0000 - auc: 1.0000 - val_loss: 4.7056 - val_acc: 0.5472 - val_auc: 0.7045\n",
            "Epoch 82/100\n",
            "77/77 [==============================] - 48s 622ms/step - loss: 5.6526e-04 - acc: 1.0000 - auc: 1.0000 - val_loss: 4.7635 - val_acc: 0.5635 - val_auc: 0.7148\n",
            "Epoch 83/100\n",
            "77/77 [==============================] - 49s 626ms/step - loss: 1.5547e-04 - acc: 1.0000 - auc: 1.0000 - val_loss: 4.5630 - val_acc: 0.5570 - val_auc: 0.7250\n",
            "Epoch 84/100\n",
            "77/77 [==============================] - 49s 630ms/step - loss: 9.0507e-05 - acc: 1.0000 - auc: 1.0000 - val_loss: 5.1061 - val_acc: 0.5635 - val_auc: 0.7111\n",
            "Epoch 85/100\n",
            "77/77 [==============================] - 53s 686ms/step - loss: 9.4485e-05 - acc: 1.0000 - auc: 1.0000 - val_loss: 4.6999 - val_acc: 0.5603 - val_auc: 0.7208\n",
            "Epoch 86/100\n",
            "77/77 [==============================] - 51s 647ms/step - loss: 9.4710e-04 - acc: 0.9996 - auc: 1.0000 - val_loss: 4.2353 - val_acc: 0.5863 - val_auc: 0.7312\n",
            "Epoch 87/100\n",
            "77/77 [==============================] - 50s 639ms/step - loss: 1.6796e-04 - acc: 1.0000 - auc: 1.0000 - val_loss: 5.5506 - val_acc: 0.5537 - val_auc: 0.6972\n",
            "Epoch 88/100\n",
            "77/77 [==============================] - 49s 628ms/step - loss: 0.0137 - acc: 0.9947 - auc: 0.9999 - val_loss: 5.9761 - val_acc: 0.5212 - val_auc: 0.6759\n",
            "Epoch 89/100\n",
            "77/77 [==============================] - 48s 627ms/step - loss: 0.0188 - acc: 0.9902 - auc: 0.9999 - val_loss: 3.5133 - val_acc: 0.5700 - val_auc: 0.7320\n",
            "Epoch 90/100\n",
            "77/77 [==============================] - 48s 622ms/step - loss: 0.0028 - acc: 0.9996 - auc: 1.0000 - val_loss: 4.5577 - val_acc: 0.5472 - val_auc: 0.6992\n",
            "Epoch 91/100\n",
            "77/77 [==============================] - 48s 624ms/step - loss: 6.2113e-04 - acc: 1.0000 - auc: 1.0000 - val_loss: 3.2267 - val_acc: 0.5928 - val_auc: 0.7486\n",
            "Epoch 92/100\n",
            "77/77 [==============================] - 48s 623ms/step - loss: 7.1311e-04 - acc: 1.0000 - auc: 1.0000 - val_loss: 5.7296 - val_acc: 0.5440 - val_auc: 0.6910\n",
            "Epoch 93/100\n",
            "77/77 [==============================] - 48s 618ms/step - loss: 0.0216 - acc: 0.9931 - auc: 0.9996 - val_loss: 4.3577 - val_acc: 0.5375 - val_auc: 0.6847\n",
            "Epoch 94/100\n",
            "77/77 [==============================] - 48s 621ms/step - loss: 0.0046 - acc: 0.9996 - auc: 1.0000 - val_loss: 2.8676 - val_acc: 0.5733 - val_auc: 0.7608\n",
            "Epoch 95/100\n",
            "77/77 [==============================] - 49s 630ms/step - loss: 0.0027 - acc: 0.9992 - auc: 1.0000 - val_loss: 3.3812 - val_acc: 0.5472 - val_auc: 0.7309\n",
            "Epoch 96/100\n",
            "77/77 [==============================] - 48s 622ms/step - loss: 0.0020 - acc: 1.0000 - auc: 1.0000 - val_loss: 4.3080 - val_acc: 0.5668 - val_auc: 0.7085\n",
            "Epoch 97/100\n",
            "77/77 [==============================] - 48s 622ms/step - loss: 3.3070e-04 - acc: 1.0000 - auc: 1.0000 - val_loss: 4.0766 - val_acc: 0.5603 - val_auc: 0.7185\n",
            "Epoch 98/100\n",
            "77/77 [==============================] - 48s 621ms/step - loss: 2.2723e-04 - acc: 1.0000 - auc: 1.0000 - val_loss: 4.2481 - val_acc: 0.5603 - val_auc: 0.7237\n",
            "Epoch 99/100\n",
            "77/77 [==============================] - 48s 621ms/step - loss: 2.5376e-04 - acc: 1.0000 - auc: 1.0000 - val_loss: 4.3593 - val_acc: 0.5603 - val_auc: 0.7147\n",
            "Epoch 100/100\n",
            "77/77 [==============================] - 48s 622ms/step - loss: 7.1054e-05 - acc: 1.0000 - auc: 1.0000 - val_loss: 4.4176 - val_acc: 0.5570 - val_auc: 0.7176\n"
          ]
        }
      ]
    },
    {
      "cell_type": "code",
      "metadata": {
        "colab": {
          "base_uri": "https://localhost:8080/",
          "height": 809
        },
        "outputId": "7e2b8231-a1f6-4175-e52d-e70d0d5e4d5c",
        "id": "AogOnWXB_HPz"
      },
      "source": [
        "acc = history.history['acc']\n",
        "val_acc = history.history['val_acc']\n",
        "loss = history.history['loss']\n",
        "val_loss = history.history['val_loss']\n",
        "AUC = history.history['auc']\n",
        "val_AUC = history.history['val_auc']\n",
        "\n",
        "epochs = range(1,len(acc)+1)\n",
        "\n",
        "plt.figure()\n",
        "plt.plot(epochs, acc, 'b', label = 'Training accuracy')\n",
        "plt.plot(epochs, val_acc, 'r', label='Validation accuracy')\n",
        "plt.title('Training and validation accuracy')\n",
        "plt.legend()\n",
        "plt.ylim([0, 1.1])\n",
        "plt.savefig('Accuracy.png')\n",
        "\n",
        "plt.figure()\n",
        "plt.plot(epochs, loss, 'b', label = 'Training loss')\n",
        "plt.plot(epochs, val_loss, 'r', label='Validation loss')\n",
        "plt.title('Training and validation loss')\n",
        "plt.legend()\n",
        "plt.ylim([0, 1.1])\n",
        "plt.savefig('Loss.png')\n",
        "\n",
        "plt.figure()\n",
        "plt.plot(epochs, AUC, 'b', label = 'Training AUC')\n",
        "plt.plot(epochs, val_AUC, 'r', label='Validation AUC')\n",
        "plt.title('Training and validation AUC')\n",
        "plt.legend()\n",
        "plt.ylim([0, 1.1])\n",
        "plt.savefig('AUC.png')\n"
      ],
      "execution_count": null,
      "outputs": [
        {
          "output_type": "display_data",
          "data": {
            "text/plain": [
              "<Figure size 432x288 with 1 Axes>"
            ],
            "image/png": "[encoded data removed]"
          },
          "metadata": {
            "needs_background": "light"
          }
        },
        {
          "output_type": "display_data",
          "data": {
            "text/plain": [
              "<Figure size 432x288 with 1 Axes>"
            ],
            "image/png": "[encoded data removed]"
          },
          "metadata": {
            "needs_background": "light"
          }
        },
        {
          "output_type": "display_data",
          "data": {
            "text/plain": [
              "<Figure size 432x288 with 1 Axes>"
            ],
            "image/png": "[encoded data removed]"
          },
          "metadata": {
            "needs_background": "light"
          }
        }
      ]
    },
    {
      "cell_type": "code",
      "metadata": {
        "id": "63UhTGrz_HPz"
      },
      "source": [
        "import numpy as np\n",
        "import matplotlib.pyplot as plt\n",
        "def plot_confusion_matrix(cm, classes, figname,\n",
        " normalize=False,\n",
        " title='Confusion matrix',\n",
        " cmap=plt.cm.Blues):\n",
        "#  “””\n",
        "#  This function prints and plots the confusion matrix.\n",
        "#  Normalization can be applied by setting `normalize=True`.\n",
        "#  “””\n",
        " import numpy as np\n",
        " import matplotlib.pyplot as plt\n",
        " import itertools\n",
        " if normalize:\n",
        "  cm = cm.astype('float')/cm.sum(axis=1)[:, np.newaxis]\n",
        "  print('Normalized confusion matrix')\n",
        " else:\n",
        "  print('Confusion matrix, without normalization')\n",
        "  \n",
        " plt.figure(figsize=(8,8))\n",
        " plt.imshow(cm, interpolation='nearest', cmap=cmap)\n",
        " plt.title(title)\n",
        " #plt.colorbar()\n",
        " tick_marks = np.arange(len(classes))\n",
        " plt.xticks(tick_marks, classes, rotation=90)\n",
        " plt.yticks(tick_marks, classes)\n",
        " fmt = '.2f' if normalize else 'd'\n",
        " thresh = cm.max() / 2.\n",
        " for i, j in itertools.product(range(cm.shape[0]), range(cm.shape[1])):\n",
        "  plt.text(j, i, format(cm[i, j], fmt),\n",
        "  horizontalalignment='center',\n",
        "  color='white' if cm[i, j] > thresh else 'black')\n",
        " plt.ylabel('True label')\n",
        " plt.xlabel('Predicted label')\n",
        " plt.tight_layout()\n",
        " plt.savefig(figname)"
      ],
      "execution_count": null,
      "outputs": []
    },
    {
      "cell_type": "code",
      "metadata": {
        "colab": {
          "base_uri": "https://localhost:8080/"
        },
        "outputId": "b0cdda9b-ae92-4c24-fe64-109f9816b266",
        "id": "XE7XLe_4_HPz"
      },
      "source": [
        "Y_pred = model.predict_generator(test_generator)\n",
        "y_pred = np.argmax(Y_pred, axis=1)\n",
        "\n",
        "cm = confusion_matrix(test_generator.classes, y_pred)\n",
        "#plot_confusion_matrix(cm, labels = category_names, title='Confusion Matrix', normalize=False, figname = 'Confusion_matrix_concrete.jpg')\n",
        "#plot_confusion_matrix(cm, labels = category_names,  normalize=False)#, figname = 'Confusion_matrix_concrete.jpg', title='Confusion Matrix'\n",
        "\n",
        "#plot_confusion_matrix(X = test_generator.classes, y_true = y_pred,labels= category_names, normalize=False)"
      ],
      "execution_count": null,
      "outputs": [
        {
          "output_type": "stream",
          "name": "stderr",
          "text": [
            "/usr/local/lib/python3.7/dist-packages/ipykernel_launcher.py:1: UserWarning: `Model.predict_generator` is deprecated and will be removed in a future version. Please use `Model.predict`, which supports generators.\n",
            "  \"\"\"Entry point for launching an IPython kernel.\n"
          ]
        }
      ]
    },
    {
      "cell_type": "code",
      "metadata": {
        "colab": {
          "base_uri": "https://localhost:8080/"
        },
        "outputId": "533bb42a-3be1-4e71-da91-d967518d6441",
        "id": "46h-2wqH_HPz"
      },
      "source": [
        "print(cm)"
      ],
      "execution_count": null,
      "outputs": [
        {
          "output_type": "stream",
          "name": "stdout",
          "text": [
            "[[  0   0   0   0]\n",
            " [ 57   1  12   0]\n",
            " [  0 141   0   0]\n",
            " [  3   0  89   0]]\n"
          ]
        }
      ]
    },
    {
      "cell_type": "code",
      "metadata": {
        "colab": {
          "base_uri": "https://localhost:8080/"
        },
        "outputId": "578a81be-4a23-44e8-d00e-79151d4d7ab3",
        "id": "S2MpZSJA_HP0"
      },
      "source": [
        "accuracy = accuracy_score(test_generator.classes, y_pred)\n",
        "print(\"Accuracy in test set: %0.1f%% \" % (accuracy * 100))"
      ],
      "execution_count": null,
      "outputs": [
        {
          "output_type": "stream",
          "name": "stdout",
          "text": [
            "Accuracy in test set: 0.3% \n"
          ]
        }
      ]
    },
    {
      "cell_type": "code",
      "metadata": {
        "colab": {
          "base_uri": "https://localhost:8080/"
        },
        "outputId": "c1ead3c3-c690-4523-f79e-31470d4803ba",
        "id": "k-BQFPcE_HP0"
      },
      "source": [
        "confusion_metri=metrics.classification_report(test_generator.classes, y_pred,target_names=category_names)\n",
        "print(confusion_metri)"
      ],
      "execution_count": null,
      "outputs": [
        {
          "output_type": "error",
          "ename": "ValueError",
          "evalue": "ignored",
          "traceback": [
            "\u001b[0;31m---------------------------------------------------------------------------\u001b[0m",
            "\u001b[0;31mValueError\u001b[0m                                Traceback (most recent call last)",
            "\u001b[0;32m<ipython-input-17-16f024ff64e7>\u001b[0m in \u001b[0;36m<module>\u001b[0;34m\u001b[0m\n\u001b[0;32m----> 1\u001b[0;31m \u001b[0mconfusion_metri\u001b[0m\u001b[0;34m=\u001b[0m\u001b[0mmetrics\u001b[0m\u001b[0;34m.\u001b[0m\u001b[0mclassification_report\u001b[0m\u001b[0;34m(\u001b[0m\u001b[0mtest_generator\u001b[0m\u001b[0;34m.\u001b[0m\u001b[0mclasses\u001b[0m\u001b[0;34m,\u001b[0m \u001b[0my_pred\u001b[0m\u001b[0;34m,\u001b[0m\u001b[0mtarget_names\u001b[0m\u001b[0;34m=\u001b[0m\u001b[0mcategory_names\u001b[0m\u001b[0;34m)\u001b[0m\u001b[0;34m\u001b[0m\u001b[0;34m\u001b[0m\u001b[0m\n\u001b[0m\u001b[1;32m      2\u001b[0m \u001b[0mprint\u001b[0m\u001b[0;34m(\u001b[0m\u001b[0mconfusion_metri\u001b[0m\u001b[0;34m)\u001b[0m\u001b[0;34m\u001b[0m\u001b[0;34m\u001b[0m\u001b[0m\n",
            "\u001b[0;32m/usr/local/lib/python3.7/dist-packages/sklearn/metrics/_classification.py\u001b[0m in \u001b[0;36mclassification_report\u001b[0;34m(y_true, y_pred, labels, target_names, sample_weight, digits, output_dict, zero_division)\u001b[0m\n\u001b[1;32m   2133\u001b[0m                 \u001b[0;34m\"Number of classes, {0}, does not match size of \"\u001b[0m\u001b[0;34m\u001b[0m\u001b[0;34m\u001b[0m\u001b[0m\n\u001b[1;32m   2134\u001b[0m                 \u001b[0;34m\"target_names, {1}. Try specifying the labels \"\u001b[0m\u001b[0;34m\u001b[0m\u001b[0;34m\u001b[0m\u001b[0m\n\u001b[0;32m-> 2135\u001b[0;31m                 \u001b[0;34m\"parameter\"\u001b[0m\u001b[0;34m.\u001b[0m\u001b[0mformat\u001b[0m\u001b[0;34m(\u001b[0m\u001b[0mlen\u001b[0m\u001b[0;34m(\u001b[0m\u001b[0mlabels\u001b[0m\u001b[0;34m)\u001b[0m\u001b[0;34m,\u001b[0m \u001b[0mlen\u001b[0m\u001b[0;34m(\u001b[0m\u001b[0mtarget_names\u001b[0m\u001b[0;34m)\u001b[0m\u001b[0;34m)\u001b[0m\u001b[0;34m\u001b[0m\u001b[0;34m\u001b[0m\u001b[0m\n\u001b[0m\u001b[1;32m   2136\u001b[0m             )\n\u001b[1;32m   2137\u001b[0m     \u001b[0;32mif\u001b[0m \u001b[0mtarget_names\u001b[0m \u001b[0;32mis\u001b[0m \u001b[0;32mNone\u001b[0m\u001b[0;34m:\u001b[0m\u001b[0;34m\u001b[0m\u001b[0;34m\u001b[0m\u001b[0m\n",
            "\u001b[0;31mValueError\u001b[0m: Number of classes, 4, does not match size of target_names, 3. Try specifying the labels parameter"
          ]
        }
      ]
    },
    {
      "cell_type": "markdown",
      "source": [
        "#unzip command"
      ],
      "metadata": {
        "id": "_JXTA5Yt_CMW"
      }
    },
    {
      "cell_type": "code",
      "source": [
        "# ! unzip '/content/drive/Shareddrives/Datasets/brain_tumor-20221003T172736Z-001.zip' -d '/content/drive/Shareddrives/Datasets/mrinmoy'"
      ],
      "metadata": {
        "id": "s9V_VpymUFYG"
      },
      "execution_count": null,
      "outputs": []
    },
    {
      "cell_type": "markdown",
      "source": [
        "#import"
      ],
      "metadata": {
        "id": "KwRTvCiV_D4X"
      }
    },
    {
      "cell_type": "code",
      "metadata": {
        "id": "o_oYEYRe5omj"
      },
      "source": [
        "import numpy as np\n",
        "import os\n",
        "import matplotlib.pyplot as plt\n",
        "import seaborn as sns\n",
        "\n",
        "from numpy.random import seed\n",
        "\n",
        "\n",
        "# from tensorflow.python.keras.applications import vgg16\n",
        "# from tensorflow.python.keras.applications.vgg16 import preprocess_input\n",
        "# from tensorflow.python.keras.preprocessing.image import ImageDataGenerator, load_img\n",
        "#from tensorflow.python.keras.callbacks import ModelCheckpoint\n",
        "# from tensorflow.python.keras import layers, models, Model,optimizers\n",
        "\n",
        "from sklearn.metrics import classification_report, confusion_matrix, accuracy_score\n",
        "from sklearn.metrics import plot_confusion_matrix\n",
        "\n",
        "#from tensorflow.keras import optimizers\n",
        "\n",
        "#from keras.optimizers import Adam\n",
        "\n",
        "from keras import optimizers\n",
        "\n",
        "\n",
        "\n",
        "import keras\n",
        "from sklearn import metrics\n",
        "import tensorflow as tf\n",
        "from keras.layers import Input, Lambda, Dense, Flatten,GlobalAveragePooling2D,BatchNormalization,Dropout,Activation\n",
        "from keras.models import Model\n",
        "# from keras.applications.densenet201 import DenseNet121\n",
        "from keras.applications.vgg19 import VGG19\n",
        "from keras.applications.resnet import ResNet50\n",
        "from keras.applications.resnet import ResNet101\n",
        "from keras.applications.resnet import ResNet152\n",
        "#from tensorflow.keras.applications.resnet50 import ResNet50\n",
        "from keras.applications.vgg16 import preprocess_input\n",
        "from keras.preprocessing import image\n",
        "from keras.preprocessing.image import ImageDataGenerator\n",
        "from keras.models import Sequential\n",
        "import numpy as np\n",
        "from glob import glob\n",
        "import matplotlib.pyplot as plt\n",
        "import numpy as np\n",
        "import pandas as pd\n",
        "import os\n",
        "import matplotlib.pyplot as plt\n",
        "import tensorflow\n",
        "from tensorflow.keras import optimizers\n",
        "from tensorflow.keras.utils import to_categorical\n",
        "from tensorflow.keras.preprocessing.image import load_img, img_to_array\n",
        "from tensorflow.keras.preprocessing.image import ImageDataGenerator\n",
        "\n",
        "# from IPython.display import Image, display\n",
        "import matplotlib.pyplot as plt\n",
        "import matplotlib.cm as cm\n",
        "\n",
        "from sklearn.metrics import classification_report, log_loss, accuracy_score,confusion_matrix\n",
        "from sklearn.model_selection import train_test_split\n",
        "from IPython.display import Image"
      ],
      "execution_count": null,
      "outputs": []
    },
    {
      "cell_type": "code",
      "source": [
        "import cv2\n",
        "img = cv2.imread('/content/drive/Shareddrives/Datasets/mrinmoy/brain_tumor/test/1/3043.png')\n",
        "img.shape"
      ],
      "metadata": {
        "colab": {
          "base_uri": "https://localhost:8080/"
        },
        "id": "5p70vplbUhUA",
        "outputId": "0d3aaba4-d59f-43ad-8ff5-2161daed9761"
      },
      "execution_count": null,
      "outputs": [
        {
          "output_type": "execute_result",
          "data": {
            "text/plain": [
              "(512, 512, 3)"
            ]
          },
          "metadata": {},
          "execution_count": 52
        }
      ]
    },
    {
      "cell_type": "code",
      "metadata": {
        "id": "fwt2HeqqguWF"
      },
      "source": [
        "train_data_dir = '/content/drive/Shareddrives/Datasets/mrinmoy/brain_tumor/train' \n",
        "val_data_dir ='/content/drive/Shareddrives/Datasets/mrinmoy/brain_tumor/test'\n",
        "test_data_dir = '/content/drive/Shareddrives/Datasets/mrinmoy/brain_tumor/validation'"
      ],
      "execution_count": null,
      "outputs": []
    },
    {
      "cell_type": "markdown",
      "metadata": {
        "id": "bj13B0Wn7uRx"
      },
      "source": []
    },
    {
      "cell_type": "code",
      "metadata": {
        "id": "F189rP_Ggugf"
      },
      "source": [
        "img_height, img_width = 224,224\n",
        "conv_base =ResNet50(weights='imagenet', include_top=False, pooling='max', input_shape = (img_width, img_height, 3))"
      ],
      "execution_count": null,
      "outputs": []
    },
    {
      "cell_type": "code",
      "metadata": {
        "colab": {
          "base_uri": "https://localhost:8080/"
        },
        "id": "p2gF5wIfguji",
        "outputId": "9cfd8a42-af10-4b70-c619-488efbb6c73c"
      },
      "source": [
        "for layer in conv_base.layers:\n",
        "    print(layer, layer.trainable)"
      ],
      "execution_count": null,
      "outputs": [
        {
          "output_type": "stream",
          "name": "stdout",
          "text": [
            "<keras.engine.input_layer.InputLayer object at 0x7fb211d2ef90> True\n",
            "<keras.layers.convolutional.ZeroPadding2D object at 0x7fb3dad961d0> True\n",
            "<keras.layers.convolutional.Conv2D object at 0x7fb3dadf92d0> True\n",
            "<keras.layers.normalization.batch_normalization.BatchNormalization object at 0x7fb49f34bc90> True\n",
            "<keras.layers.core.activation.Activation object at 0x7fb20f68b6d0> True\n",
            "<keras.layers.convolutional.ZeroPadding2D object at 0x7fb3dad57d50> True\n",
            "<keras.layers.pooling.MaxPooling2D object at 0x7fb49f2a2a10> True\n",
            "<keras.layers.convolutional.Conv2D object at 0x7fb54fdcbc10> True\n",
            "<keras.layers.normalization.batch_normalization.BatchNormalization object at 0x7fb211df7fd0> True\n",
            "<keras.layers.core.activation.Activation object at 0x7fb211da3b50> True\n",
            "<keras.layers.convolutional.Conv2D object at 0x7fb49f137b90> True\n",
            "<keras.layers.normalization.batch_normalization.BatchNormalization object at 0x7fb49f116e50> True\n",
            "<keras.layers.core.activation.Activation object at 0x7fb49f104c90> True\n",
            "<keras.layers.convolutional.Conv2D object at 0x7fb49f11e810> True\n",
            "<keras.layers.convolutional.Conv2D object at 0x7fb49f0c19d0> True\n",
            "<keras.layers.normalization.batch_normalization.BatchNormalization object at 0x7fb49f11ef90> True\n",
            "<keras.layers.normalization.batch_normalization.BatchNormalization object at 0x7fb49f0cde90> True\n",
            "<keras.layers.merge.Add object at 0x7fb49f0c3390> True\n",
            "<keras.layers.core.activation.Activation object at 0x7fb49f6e0c50> True\n",
            "<keras.layers.convolutional.Conv2D object at 0x7fb49f0d4850> True\n",
            "<keras.layers.normalization.batch_normalization.BatchNormalization object at 0x7fb49f0dcb90> True\n",
            "<keras.layers.core.activation.Activation object at 0x7fb49f0dcd50> True\n",
            "<keras.layers.convolutional.Conv2D object at 0x7fb49f1049d0> True\n",
            "<keras.layers.normalization.batch_normalization.BatchNormalization object at 0x7fb49f0dc6d0> True\n",
            "<keras.layers.core.activation.Activation object at 0x7fb3db1af0d0> True\n",
            "<keras.layers.convolutional.Conv2D object at 0x7fb456849ad0> True\n",
            "<keras.layers.normalization.batch_normalization.BatchNormalization object at 0x7fb49f0cd1d0> True\n",
            "<keras.layers.merge.Add object at 0x7fb211d94350> True\n",
            "<keras.layers.core.activation.Activation object at 0x7fb49f0e6110> True\n",
            "<keras.layers.convolutional.Conv2D object at 0x7fb49f12ba10> True\n",
            "<keras.layers.normalization.batch_normalization.BatchNormalization object at 0x7fb49f104310> True\n",
            "<keras.layers.core.activation.Activation object at 0x7fb49f0f3ad0> True\n",
            "<keras.layers.convolutional.Conv2D object at 0x7fb49f0f3410> True\n",
            "<keras.layers.normalization.batch_normalization.BatchNormalization object at 0x7fb49f0f37d0> True\n",
            "<keras.layers.core.activation.Activation object at 0x7fb49f08c290> True\n",
            "<keras.layers.convolutional.Conv2D object at 0x7fb49f0863d0> True\n",
            "<keras.layers.normalization.batch_normalization.BatchNormalization object at 0x7fb49f08ce90> True\n",
            "<keras.layers.merge.Add object at 0x7fb49f09c7d0> True\n",
            "<keras.layers.core.activation.Activation object at 0x7fb49f092810> True\n",
            "<keras.layers.convolutional.Conv2D object at 0x7fb49f0ac790> True\n",
            "<keras.layers.normalization.batch_normalization.BatchNormalization object at 0x7fb49f0ac110> True\n",
            "<keras.layers.core.activation.Activation object at 0x7fb49f0b6c90> True\n",
            "<keras.layers.convolutional.Conv2D object at 0x7fb49f0b14d0> True\n",
            "<keras.layers.normalization.batch_normalization.BatchNormalization object at 0x7fb49f0a5290> True\n",
            "<keras.layers.core.activation.Activation object at 0x7fb49f04f3d0> True\n",
            "<keras.layers.convolutional.Conv2D object at 0x7fb49f07fad0> True\n",
            "<keras.layers.convolutional.Conv2D object at 0x7fb49f0547d0> True\n",
            "<keras.layers.normalization.batch_normalization.BatchNormalization object at 0x7fb49f097550> True\n",
            "<keras.layers.normalization.batch_normalization.BatchNormalization object at 0x7fb49f0a5d50> True\n",
            "<keras.layers.merge.Add object at 0x7fb49f0690d0> True\n",
            "<keras.layers.core.activation.Activation object at 0x7fb49f069c50> True\n",
            "<keras.layers.convolutional.Conv2D object at 0x7fb49f064e10> True\n",
            "<keras.layers.normalization.batch_normalization.BatchNormalization object at 0x7fb49f064fd0> True\n",
            "<keras.layers.core.activation.Activation object at 0x7fb49f07e550> True\n",
            "<keras.layers.convolutional.Conv2D object at 0x7fb49f044d10> True\n",
            "<keras.layers.normalization.batch_normalization.BatchNormalization object at 0x7fb49f07e050> True\n",
            "<keras.layers.core.activation.Activation object at 0x7fb49f0086d0> True\n",
            "<keras.layers.convolutional.Conv2D object at 0x7fb49f00fa10> True\n",
            "<keras.layers.normalization.batch_normalization.BatchNormalization object at 0x7fb49f00f710> True\n",
            "<keras.layers.merge.Add object at 0x7fb49f01e290> True\n",
            "<keras.layers.core.activation.Activation object at 0x7fb49f01ef10> True\n",
            "<keras.layers.convolutional.Conv2D object at 0x7fb49f0297d0> True\n",
            "<keras.layers.normalization.batch_normalization.BatchNormalization object at 0x7fb49f01e110> True\n",
            "<keras.layers.core.activation.Activation object at 0x7fb49f064b50> True\n",
            "<keras.layers.convolutional.Conv2D object at 0x7fb49f00fe90> True\n",
            "<keras.layers.normalization.batch_normalization.BatchNormalization object at 0x7fb49f003290> True\n",
            "<keras.layers.core.activation.Activation object at 0x7fb49f05fc90> True\n",
            "<keras.layers.convolutional.Conv2D object at 0x7fb49f048050> True\n",
            "<keras.layers.normalization.batch_normalization.BatchNormalization object at 0x7fb49f044850> True\n",
            "<keras.layers.merge.Add object at 0x7fb49f086950> True\n",
            "<keras.layers.core.activation.Activation object at 0x7fb49f0861d0> True\n",
            "<keras.layers.convolutional.Conv2D object at 0x7fb49f0f8a90> True\n",
            "<keras.layers.normalization.batch_normalization.BatchNormalization object at 0x7fb49f0ef690> True\n",
            "<keras.layers.core.activation.Activation object at 0x7fb211d2c710> True\n",
            "<keras.layers.convolutional.Conv2D object at 0x7fb49f04ff90> True\n",
            "<keras.layers.normalization.batch_normalization.BatchNormalization object at 0x7fb49f061410> True\n",
            "<keras.layers.core.activation.Activation object at 0x7fb49f036410> True\n",
            "<keras.layers.convolutional.Conv2D object at 0x7fb49f11eb10> True\n",
            "<keras.layers.normalization.batch_normalization.BatchNormalization object at 0x7fb49f036590> True\n",
            "<keras.layers.merge.Add object at 0x7fb20fe8b150> True\n",
            "<keras.layers.core.activation.Activation object at 0x7fb20fe8bf10> True\n",
            "<keras.layers.convolutional.Conv2D object at 0x7fb20fea06d0> True\n",
            "<keras.layers.normalization.batch_normalization.BatchNormalization object at 0x7fb20fe94710> True\n",
            "<keras.layers.core.activation.Activation object at 0x7fb49f0319d0> True\n",
            "<keras.layers.convolutional.Conv2D object at 0x7fb20fea01d0> True\n",
            "<keras.layers.normalization.batch_normalization.BatchNormalization object at 0x7fb20feafc10> True\n",
            "<keras.layers.core.activation.Activation object at 0x7fb20fea6650> True\n",
            "<keras.layers.convolutional.Conv2D object at 0x7fb20fe84f50> True\n",
            "<keras.layers.convolutional.Conv2D object at 0x7fb20feafe10> True\n",
            "<keras.layers.normalization.batch_normalization.BatchNormalization object at 0x7fb49f13d350> True\n",
            "<keras.layers.normalization.batch_normalization.BatchNormalization object at 0x7fb20fe456d0> True\n",
            "<keras.layers.merge.Add object at 0x7fb20feb98d0> True\n",
            "<keras.layers.core.activation.Activation object at 0x7fb20fe45fd0> True\n",
            "<keras.layers.convolutional.Conv2D object at 0x7fb20fe51050> True\n",
            "<keras.layers.normalization.batch_normalization.BatchNormalization object at 0x7fb20fe53610> True\n",
            "<keras.layers.core.activation.Activation object at 0x7fb20fe539d0> True\n",
            "<keras.layers.convolutional.Conv2D object at 0x7fb20fea6850> True\n",
            "<keras.layers.normalization.batch_normalization.BatchNormalization object at 0x7fb20fe53b50> True\n",
            "<keras.layers.core.activation.Activation object at 0x7fb20fe60510> True\n",
            "<keras.layers.convolutional.Conv2D object at 0x7fb20fe6c550> True\n",
            "<keras.layers.normalization.batch_normalization.BatchNormalization object at 0x7fb20fe7a5d0> True\n",
            "<keras.layers.merge.Add object at 0x7fb20fe7ae10> True\n",
            "<keras.layers.core.activation.Activation object at 0x7fb20fe7ab10> True\n",
            "<keras.layers.convolutional.Conv2D object at 0x7fb20fe6c710> True\n",
            "<keras.layers.normalization.batch_normalization.BatchNormalization object at 0x7fb20fe9be50> True\n",
            "<keras.layers.core.activation.Activation object at 0x7fb20fe45a50> True\n",
            "<keras.layers.convolutional.Conv2D object at 0x7fb20fe94950> True\n",
            "<keras.layers.normalization.batch_normalization.BatchNormalization object at 0x7fb20fe6c9d0> True\n",
            "<keras.layers.core.activation.Activation object at 0x7fb49f03aa10> True\n",
            "<keras.layers.convolutional.Conv2D object at 0x7fb49f03af90> True\n",
            "<keras.layers.normalization.batch_normalization.BatchNormalization object at 0x7fb20fe91690> True\n",
            "<keras.layers.merge.Add object at 0x7fb49f040d50> True\n",
            "<keras.layers.core.activation.Activation object at 0x7fb49f05f1d0> True\n",
            "<keras.layers.convolutional.Conv2D object at 0x7fb49f07fb90> True\n",
            "<keras.layers.normalization.batch_normalization.BatchNormalization object at 0x7fb3dadaf950> True\n",
            "<keras.layers.core.activation.Activation object at 0x7fb20fe02ad0> True\n",
            "<keras.layers.convolutional.Conv2D object at 0x7fb49f064590> True\n",
            "<keras.layers.normalization.batch_normalization.BatchNormalization object at 0x7fb20fe9da90> True\n",
            "<keras.layers.core.activation.Activation object at 0x7fb20fe16750> True\n",
            "<keras.layers.convolutional.Conv2D object at 0x7fb49f06edd0> True\n",
            "<keras.layers.normalization.batch_normalization.BatchNormalization object at 0x7fb20fe16950> True\n",
            "<keras.layers.merge.Add object at 0x7fb20fe2a2d0> True\n",
            "<keras.layers.core.activation.Activation object at 0x7fb20fe116d0> True\n",
            "<keras.layers.convolutional.Conv2D object at 0x7fb20fe2a450> True\n",
            "<keras.layers.normalization.batch_normalization.BatchNormalization object at 0x7fb20fe25890> True\n",
            "<keras.layers.core.activation.Activation object at 0x7fb20fdc2b10> True\n",
            "<keras.layers.convolutional.Conv2D object at 0x7fb20fe25990> True\n",
            "<keras.layers.normalization.batch_normalization.BatchNormalization object at 0x7fb20fdc2b50> True\n",
            "<keras.layers.core.activation.Activation object at 0x7fb20fdd0a50> True\n",
            "<keras.layers.convolutional.Conv2D object at 0x7fb20fe34e10> True\n",
            "<keras.layers.normalization.batch_normalization.BatchNormalization object at 0x7fb20fdd0d10> True\n",
            "<keras.layers.merge.Add object at 0x7fb20fddad10> True\n",
            "<keras.layers.core.activation.Activation object at 0x7fb20fdda650> True\n",
            "<keras.layers.convolutional.Conv2D object at 0x7fb20fde6590> True\n",
            "<keras.layers.normalization.batch_normalization.BatchNormalization object at 0x7fb20fde67d0> True\n",
            "<keras.layers.core.activation.Activation object at 0x7fb20fd7f250> True\n",
            "<keras.layers.convolutional.Conv2D object at 0x7fb20fd7fa50> True\n",
            "<keras.layers.normalization.batch_normalization.BatchNormalization object at 0x7fb20fdf1310> True\n",
            "<keras.layers.core.activation.Activation object at 0x7fb20fde65d0> True\n",
            "<keras.layers.convolutional.Conv2D object at 0x7fb20fdf9110> True\n",
            "<keras.layers.normalization.batch_normalization.BatchNormalization object at 0x7fb49f137190> True\n",
            "<keras.layers.merge.Add object at 0x7fb20fda2f10> True\n",
            "<keras.layers.core.activation.Activation object at 0x7fb20fda2850> True\n",
            "<keras.layers.convolutional.Conv2D object at 0x7fb20fd7fe10> True\n",
            "<keras.layers.normalization.batch_normalization.BatchNormalization object at 0x7fb20fde6250> True\n",
            "<keras.layers.core.activation.Activation object at 0x7fb20fdda850> True\n",
            "<keras.layers.convolutional.Conv2D object at 0x7fb20fdcc890> True\n",
            "<keras.layers.normalization.batch_normalization.BatchNormalization object at 0x7fb20fdc2950> True\n",
            "<keras.layers.core.activation.Activation object at 0x7fb20fe2e810> True\n",
            "<keras.layers.convolutional.Conv2D object at 0x7fb20fda6b90> True\n",
            "<keras.layers.convolutional.Conv2D object at 0x7fb20fe2ab10> True\n",
            "<keras.layers.normalization.batch_normalization.BatchNormalization object at 0x7fb20fdac7d0> True\n",
            "<keras.layers.normalization.batch_normalization.BatchNormalization object at 0x7fb20fe8b4d0> True\n",
            "<keras.layers.merge.Add object at 0x7fb20fe1a710> True\n",
            "<keras.layers.core.activation.Activation object at 0x7fb49f0a0a90> True\n",
            "<keras.layers.convolutional.Conv2D object at 0x7fb49f036bd0> True\n",
            "<keras.layers.normalization.batch_normalization.BatchNormalization object at 0x7fb20fe7e0d0> True\n",
            "<keras.layers.core.activation.Activation object at 0x7fb20feb93d0> True\n",
            "<keras.layers.convolutional.Conv2D object at 0x7fb20fe2ef50> True\n",
            "<keras.layers.normalization.batch_normalization.BatchNormalization object at 0x7fb49f061150> True\n",
            "<keras.layers.core.activation.Activation object at 0x7fb20fd45dd0> True\n",
            "<keras.layers.convolutional.Conv2D object at 0x7fb20fd45810> True\n",
            "<keras.layers.normalization.batch_normalization.BatchNormalization object at 0x7fb20fdb8fd0> True\n",
            "<keras.layers.merge.Add object at 0x7fb20fd5b110> True\n",
            "<keras.layers.core.activation.Activation object at 0x7fb20fd54a50> True\n",
            "<keras.layers.convolutional.Conv2D object at 0x7fb20fd612d0> True\n",
            "<keras.layers.normalization.batch_normalization.BatchNormalization object at 0x7fb20fd6ab90> True\n",
            "<keras.layers.core.activation.Activation object at 0x7fb20fd6add0> True\n",
            "<keras.layers.convolutional.Conv2D object at 0x7fb20fd6acd0> True\n",
            "<keras.layers.normalization.batch_normalization.BatchNormalization object at 0x7fb20fd6a8d0> True\n",
            "<keras.layers.core.activation.Activation object at 0x7fb20fd76ed0> True\n",
            "<keras.layers.convolutional.Conv2D object at 0x7fb20fd76bd0> True\n",
            "<keras.layers.normalization.batch_normalization.BatchNormalization object at 0x7fb20fd74890> True\n",
            "<keras.layers.merge.Add object at 0x7fb20fd11210> True\n",
            "<keras.layers.core.activation.Activation object at 0x7fb20fd09ed0> True\n",
            "<keras.layers.pooling.GlobalMaxPooling2D object at 0x7fb20fd8c210> True\n"
          ]
        }
      ]
    },
    {
      "cell_type": "code",
      "metadata": {
        "colab": {
          "base_uri": "https://localhost:8080/",
          "height": 298
        },
        "id": "FVC0iXKM6VdF",
        "outputId": "edc1f03f-c1ce-42bc-97ab-fce7453c2a2e"
      },
      "source": [
        "category_names = sorted(os.listdir(train_data_dir))\n",
        "nb_categories = len(category_names)\n",
        "img_pr_cat = []\n",
        "for category in category_names:\n",
        "    folder = train_data_dir + '/' + category\n",
        "    img_pr_cat.append(len(os.listdir(folder)))\n",
        "sns.barplot(y=category_names, x=img_pr_cat).set_title(\"Number of training images per category:\")"
      ],
      "execution_count": null,
      "outputs": [
        {
          "output_type": "execute_result",
          "data": {
            "text/plain": [
              "Text(0.5, 1.0, 'Number of training images per category:')"
            ]
          },
          "metadata": {},
          "execution_count": 56
        },
        {
          "output_type": "display_data",
          "data": {
            "text/plain": [
              "<Figure size 432x288 with 1 Axes>"
            ],
            "image/png": "[encoded data removed]"
          },
          "metadata": {
            "needs_background": "light"
          }
        }
      ]
    },
    {
      "cell_type": "code",
      "metadata": {
        "colab": {
          "base_uri": "https://localhost:8080/"
        },
        "id": "Fyh_r6PugunI",
        "outputId": "46c23406-c054-46be-ec92-13ea58a9335d"
      },
      "source": [
        "model = Sequential()\n",
        "model.add(conv_base)\n",
        "model.add(Dense(nb_categories, activation='softmax'))\n",
        "model.summary()\n",
        "\n",
        "\n",
        "# for layer in conv_base.layers:\n",
        "#   layer.trainable = False\n",
        "  \n",
        "\n",
        "  \n",
        "\n",
        "# #folders = glob('/content/drive/My Drive/datasets_image/brain_tumor/train/*')\n",
        "  \n",
        "\n",
        "\n",
        "# x = Flatten()(conv_base.output)\n",
        "\n",
        "# prediction = Dense(nb_categories, activation='softmax')(x)\n",
        "\n",
        "# model = Model(inputs=conv_base.input, outputs=prediction)\n",
        "\n",
        "\n",
        "# model.summary()"
      ],
      "execution_count": null,
      "outputs": [
        {
          "output_type": "stream",
          "name": "stdout",
          "text": [
            "Model: \"sequential_3\"\n",
            "_________________________________________________________________\n",
            " Layer (type)                Output Shape              Param #   \n",
            "=================================================================\n",
            " resnet50 (Functional)       (None, 2048)              23587712  \n",
            "                                                                 \n",
            " dense_3 (Dense)             (None, 3)                 6147      \n",
            "                                                                 \n",
            "=================================================================\n",
            "Total params: 23,593,859\n",
            "Trainable params: 23,540,739\n",
            "Non-trainable params: 53,120\n",
            "_________________________________________________________________\n"
          ]
        }
      ]
    },
    {
      "cell_type": "code",
      "metadata": {
        "id": "s-SdOLzXguoT"
      },
      "source": [
        "#Number of images to load at each iteration\n",
        "batch_size = 32\n",
        "# only rescaling\n",
        "train_datagen = ImageDataGenerator(\n",
        "        rescale=1./255,\n",
        "        rotation_range=10,\n",
        "        zoom_range=0.1,\n",
        "        width_shift_range=0.1,\n",
        "        height_shift_range=0.1,\n",
        "        horizontal_flip=False,\n",
        "        brightness_range = (0.9,1.1),\n",
        "        fill_mode='nearest'\n",
        "        )\n",
        "test_datagen =  ImageDataGenerator(\n",
        "    rescale=1./255\n",
        ")"
      ],
      "execution_count": null,
      "outputs": []
    },
    {
      "cell_type": "code",
      "metadata": {
        "colab": {
          "base_uri": "https://localhost:8080/"
        },
        "id": "lAVWtR1qgurk",
        "outputId": "f5f157f6-349d-41be-c9bb-0f2f50ba769e"
      },
      "source": [
        "print('Total number of images for \"training\":')\n",
        "train_generator = train_datagen.flow_from_directory(\n",
        "train_data_dir,\n",
        "target_size = (img_height, img_width),\n",
        "batch_size = batch_size, \n",
        "class_mode = \"categorical\")\n",
        "print('Total number of images for \"validation\":')\n",
        "val_generator = test_datagen.flow_from_directory(\n",
        "val_data_dir,\n",
        "target_size = (img_height, img_width),\n",
        "batch_size = batch_size,\n",
        "class_mode = \"categorical\",\n",
        "shuffle=False)\n",
        "print('Total number of images for \"testing\":')\n",
        "test_generator = test_datagen.flow_from_directory(\n",
        "test_data_dir,\n",
        "target_size = (img_height, img_width),\n",
        "batch_size = batch_size,\n",
        "class_mode = \"categorical\",\n",
        "shuffle=False)"
      ],
      "execution_count": null,
      "outputs": [
        {
          "output_type": "stream",
          "name": "stdout",
          "text": [
            "Total number of images for \"training\":\n",
            "Found 303 images belonging to 3 classes.\n",
            "Total number of images for \"validation\":\n",
            "Found 63 images belonging to 3 classes.\n",
            "Total number of images for \"testing\":\n",
            "Found 63 images belonging to 3 classes.\n"
          ]
        }
      ]
    },
    {
      "cell_type": "code",
      "metadata": {
        "id": "OgL91jhK85nF"
      },
      "source": [],
      "execution_count": null,
      "outputs": []
    },
    {
      "cell_type": "code",
      "metadata": {
        "id": "xaFvgSon85w6"
      },
      "source": [],
      "execution_count": null,
      "outputs": []
    },
    {
      "cell_type": "code",
      "metadata": {
        "id": "j6pY0AxD85yI"
      },
      "source": [],
      "execution_count": null,
      "outputs": []
    },
    {
      "cell_type": "code",
      "metadata": {
        "id": "06WSsfNX851f"
      },
      "source": [],
      "execution_count": null,
      "outputs": []
    },
    {
      "cell_type": "code",
      "metadata": {
        "id": "xV0nd-vX4cJk"
      },
      "source": [
        "learning_rate = .00001\n",
        "epochs =1000\n",
        "#checkpoint = ModelCheckpoint(\"sign_classifier.h5\", monitor = 'val_acc', verbose=1, save_best_only=True, save_weights_only=False, mode='auto', period=1)\n",
        "model.compile(loss=\"categorical_crossentropy\", optimizer=tf.keras.optimizers.Adam(learning_rate=learning_rate), metrics = ['acc','AUC'])\n",
        "\n",
        "\n"
      ],
      "execution_count": null,
      "outputs": []
    },
    {
      "cell_type": "code",
      "metadata": {
        "id": "TgNs-k5m84tQ"
      },
      "source": [],
      "execution_count": null,
      "outputs": []
    },
    {
      "cell_type": "code",
      "metadata": {
        "id": "McWPq_Kt4cLO",
        "colab": {
          "base_uri": "https://localhost:8080/"
        },
        "outputId": "24e7c5d1-6436-469e-db38-925b888b2a7c"
      },
      "source": [
        "history = model.fit_generator(train_generator, \n",
        "                              epochs=epochs, \n",
        "                              shuffle=True, \n",
        "                              validation_data=val_generator,\n",
        "                              callbacks=[keras.callbacks.EarlyStopping(monitor=\"val_loss\",patience=30,verbose=2,restore_best_weights=True)])"
      ],
      "execution_count": null,
      "outputs": [
        {
          "output_type": "stream",
          "name": "stderr",
          "text": [
            "/usr/local/lib/python3.7/dist-packages/ipykernel_launcher.py:5: UserWarning: `Model.fit_generator` is deprecated and will be removed in a future version. Please use `Model.fit`, which supports generators.\n",
            "  \"\"\"\n"
          ]
        },
        {
          "output_type": "stream",
          "name": "stdout",
          "text": [
            "Epoch 1/1000\n",
            "10/10 [==============================] - 16s 1s/step - loss: 7.9716 - acc: 0.3663 - auc: 0.5386 - val_loss: 2.3099 - val_acc: 0.3333 - val_auc: 0.5311\n",
            "Epoch 2/1000\n",
            "10/10 [==============================] - 9s 892ms/step - loss: 1.6862 - acc: 0.6535 - auc: 0.8274 - val_loss: 3.1857 - val_acc: 0.3333 - val_auc: 0.4681\n",
            "Epoch 3/1000\n",
            "10/10 [==============================] - 9s 891ms/step - loss: 0.7520 - acc: 0.7987 - auc: 0.9318 - val_loss: 4.2275 - val_acc: 0.3333 - val_auc: 0.4713\n",
            "Epoch 4/1000\n",
            "10/10 [==============================] - 9s 884ms/step - loss: 0.5148 - acc: 0.8944 - auc: 0.9572 - val_loss: 5.2587 - val_acc: 0.3333 - val_auc: 0.4548\n",
            "Epoch 5/1000\n",
            "10/10 [==============================] - 9s 899ms/step - loss: 0.2916 - acc: 0.9340 - auc: 0.9791 - val_loss: 6.6020 - val_acc: 0.3333 - val_auc: 0.4931\n",
            "Epoch 6/1000\n",
            "10/10 [==============================] - 9s 957ms/step - loss: 0.1975 - acc: 0.9505 - auc: 0.9899 - val_loss: 7.2986 - val_acc: 0.3333 - val_auc: 0.4613\n",
            "Epoch 7/1000\n",
            "10/10 [==============================] - 9s 884ms/step - loss: 0.1795 - acc: 0.9604 - auc: 0.9878 - val_loss: 7.8072 - val_acc: 0.3333 - val_auc: 0.4608\n",
            "Epoch 8/1000\n",
            "10/10 [==============================] - 9s 888ms/step - loss: 0.1339 - acc: 0.9802 - auc: 0.9899 - val_loss: 8.3521 - val_acc: 0.3333 - val_auc: 0.4933\n",
            "Epoch 9/1000\n",
            "10/10 [==============================] - 9s 894ms/step - loss: 0.0864 - acc: 0.9604 - auc: 0.9984 - val_loss: 8.8421 - val_acc: 0.3333 - val_auc: 0.4708\n",
            "Epoch 10/1000\n",
            "10/10 [==============================] - 9s 951ms/step - loss: 0.0654 - acc: 0.9769 - auc: 0.9991 - val_loss: 8.6667 - val_acc: 0.3333 - val_auc: 0.5163\n",
            "Epoch 11/1000\n",
            "10/10 [==============================] - 9s 896ms/step - loss: 0.1003 - acc: 0.9670 - auc: 0.9955 - val_loss: 8.8532 - val_acc: 0.3333 - val_auc: 0.5139\n",
            "Epoch 12/1000\n",
            "10/10 [==============================] - 9s 951ms/step - loss: 0.0465 - acc: 0.9802 - auc: 0.9972 - val_loss: 9.2401 - val_acc: 0.3333 - val_auc: 0.5272\n",
            "Epoch 13/1000\n",
            "10/10 [==============================] - 10s 979ms/step - loss: 0.1017 - acc: 0.9736 - auc: 0.9942 - val_loss: 9.2390 - val_acc: 0.3333 - val_auc: 0.5271\n",
            "Epoch 14/1000\n",
            "10/10 [==============================] - 9s 893ms/step - loss: 0.1051 - acc: 0.9703 - auc: 0.9939 - val_loss: 9.8293 - val_acc: 0.3333 - val_auc: 0.5256\n",
            "Epoch 15/1000\n",
            "10/10 [==============================] - 9s 896ms/step - loss: 0.0250 - acc: 0.9901 - auc: 0.9999 - val_loss: 10.5288 - val_acc: 0.3333 - val_auc: 0.5108\n",
            "Epoch 16/1000\n",
            "10/10 [==============================] - 9s 960ms/step - loss: 0.0487 - acc: 0.9802 - auc: 0.9996 - val_loss: 10.9272 - val_acc: 0.3333 - val_auc: 0.4989\n",
            "Epoch 17/1000\n",
            "10/10 [==============================] - 9s 890ms/step - loss: 0.0240 - acc: 0.9967 - auc: 0.9998 - val_loss: 11.0465 - val_acc: 0.3333 - val_auc: 0.5115\n",
            "Epoch 18/1000\n",
            "10/10 [==============================] - 9s 890ms/step - loss: 0.0448 - acc: 0.9901 - auc: 0.9974 - val_loss: 11.1077 - val_acc: 0.3333 - val_auc: 0.5108\n",
            "Epoch 19/1000\n",
            "10/10 [==============================] - 9s 904ms/step - loss: 0.0129 - acc: 0.9934 - auc: 1.0000 - val_loss: 11.2746 - val_acc: 0.3333 - val_auc: 0.5180\n",
            "Epoch 20/1000\n",
            "10/10 [==============================] - 9s 893ms/step - loss: 0.1260 - acc: 0.9736 - auc: 0.9937 - val_loss: 11.0464 - val_acc: 0.3333 - val_auc: 0.5089\n",
            "Epoch 21/1000\n",
            "10/10 [==============================] - 9s 893ms/step - loss: 0.0368 - acc: 0.9868 - auc: 0.9997 - val_loss: 10.8129 - val_acc: 0.3333 - val_auc: 0.5229\n",
            "Epoch 22/1000\n",
            "10/10 [==============================] - 9s 889ms/step - loss: 0.0254 - acc: 0.9901 - auc: 0.9998 - val_loss: 11.1108 - val_acc: 0.3333 - val_auc: 0.5143\n",
            "Epoch 23/1000\n",
            "10/10 [==============================] - 9s 887ms/step - loss: 0.0394 - acc: 0.9901 - auc: 0.9996 - val_loss: 11.6038 - val_acc: 0.3333 - val_auc: 0.5269\n",
            "Epoch 24/1000\n",
            "10/10 [==============================] - 9s 893ms/step - loss: 0.0226 - acc: 0.9967 - auc: 0.9999 - val_loss: 12.1683 - val_acc: 0.3333 - val_auc: 0.5042\n",
            "Epoch 25/1000\n",
            "10/10 [==============================] - 9s 876ms/step - loss: 0.0150 - acc: 0.9934 - auc: 0.9999 - val_loss: 12.6167 - val_acc: 0.3333 - val_auc: 0.5038\n",
            "Epoch 26/1000\n",
            "10/10 [==============================] - 9s 888ms/step - loss: 0.0149 - acc: 0.9934 - auc: 0.9999 - val_loss: 12.9239 - val_acc: 0.3333 - val_auc: 0.4974\n",
            "Epoch 27/1000\n",
            "10/10 [==============================] - 9s 890ms/step - loss: 0.0201 - acc: 0.9934 - auc: 0.9999 - val_loss: 12.9916 - val_acc: 0.3333 - val_auc: 0.4974\n",
            "Epoch 28/1000\n",
            "10/10 [==============================] - 9s 884ms/step - loss: 0.0118 - acc: 0.9934 - auc: 1.0000 - val_loss: 13.0460 - val_acc: 0.3333 - val_auc: 0.4960\n",
            "Epoch 29/1000\n",
            "10/10 [==============================] - 9s 895ms/step - loss: 0.0184 - acc: 0.9967 - auc: 0.9999 - val_loss: 13.0724 - val_acc: 0.3333 - val_auc: 0.4934\n",
            "Epoch 30/1000\n",
            "10/10 [==============================] - 10s 1s/step - loss: 0.0114 - acc: 0.9967 - auc: 1.0000 - val_loss: 13.5005 - val_acc: 0.3333 - val_auc: 0.4947\n",
            "Epoch 31/1000\n",
            "10/10 [==============================] - ETA: 0s - loss: 0.0290 - acc: 0.9934 - auc: 0.9974Restoring model weights from the end of the best epoch: 1.\n",
            "10/10 [==============================] - 9s 909ms/step - loss: 0.0290 - acc: 0.9934 - auc: 0.9974 - val_loss: 13.6417 - val_acc: 0.3333 - val_auc: 0.4934\n",
            "Epoch 31: early stopping\n"
          ]
        }
      ]
    },
    {
      "cell_type": "code",
      "metadata": {
        "id": "lqUllhT64cNe",
        "colab": {
          "base_uri": "https://localhost:8080/",
          "height": 809
        },
        "outputId": "3dd70714-707a-41dd-ca42-1bf963e4fd0d"
      },
      "source": [
        "acc = history.history['acc']\n",
        "val_acc = history.history['val_acc']\n",
        "loss = history.history['loss']\n",
        "val_loss = history.history['val_loss']\n",
        "AUC = history.history['auc']\n",
        "val_AUC = history.history['val_auc']\n",
        "\n",
        "epochs = range(1,len(acc)+1)\n",
        "\n",
        "plt.figure()\n",
        "plt.plot(epochs, acc, 'b', label = 'Training accuracy')\n",
        "plt.plot(epochs, val_acc, 'r', label='Validation accuracy')\n",
        "plt.title('Training and validation accuracy')\n",
        "plt.legend()\n",
        "plt.ylim([0, 1.1])\n",
        "plt.savefig('Accuracy.png')\n",
        "\n",
        "plt.figure()\n",
        "plt.plot(epochs, loss, 'b', label = 'Training loss')\n",
        "plt.plot(epochs, val_loss, 'r', label='Validation loss')\n",
        "plt.title('Training and validation loss')\n",
        "plt.legend()\n",
        "plt.ylim([0, 1.1])\n",
        "plt.savefig('Loss.png')\n",
        "\n",
        "plt.figure()\n",
        "plt.plot(epochs, AUC, 'b', label = 'Training AUC')\n",
        "plt.plot(epochs, val_AUC, 'r', label='Validation AUC')\n",
        "plt.title('Training and validation AUC')\n",
        "plt.legend()\n",
        "plt.ylim([0, 1.1])\n",
        "plt.savefig('AUC.png')\n"
      ],
      "execution_count": null,
      "outputs": [
        {
          "output_type": "display_data",
          "data": {
            "text/plain": [
              "<Figure size 432x288 with 1 Axes>"
            ],
            "image/png": "[encoded data removed]"
          },
          "metadata": {
            "needs_background": "light"
          }
        },
        {
          "output_type": "display_data",
          "data": {
            "text/plain": [
              "<Figure size 432x288 with 1 Axes>"
            ],
            "image/png": "[encoded data removed]"
          },
          "metadata": {
            "needs_background": "light"
          }
        },
        {
          "output_type": "display_data",
          "data": {
            "text/plain": [
              "<Figure size 432x288 with 1 Axes>"
            ],
            "image/png": "[encoded data removed]"
          },
          "metadata": {
            "needs_background": "light"
          }
        }
      ]
    },
    {
      "cell_type": "code",
      "metadata": {
        "id": "DgEnmcBSPF5f"
      },
      "source": [
        "import numpy as np\n",
        "import matplotlib.pyplot as plt\n",
        "def plot_confusion_matrix(cm, classes, figname,\n",
        " normalize=False,\n",
        " title='Confusion matrix',\n",
        " cmap=plt.cm.Blues):\n",
        "#  “””\n",
        "#  This function prints and plots the confusion matrix.\n",
        "#  Normalization can be applied by setting `normalize=True`.\n",
        "#  “””\n",
        " import numpy as np\n",
        " import matplotlib.pyplot as plt\n",
        " import itertools\n",
        " if normalize:\n",
        "  cm = cm.astype('float')/cm.sum(axis=1)[:, np.newaxis]\n",
        "  print('Normalized confusion matrix')\n",
        " else:\n",
        "  print('Confusion matrix, without normalization')\n",
        "  \n",
        " plt.figure(figsize=(8,8))\n",
        " plt.imshow(cm, interpolation='nearest', cmap=cmap)\n",
        " plt.title(title)\n",
        " #plt.colorbar()\n",
        " tick_marks = np.arange(len(classes))\n",
        " plt.xticks(tick_marks, classes, rotation=90)\n",
        " plt.yticks(tick_marks, classes)\n",
        " fmt = '.2f' if normalize else 'd'\n",
        " thresh = cm.max() / 2.\n",
        " for i, j in itertools.product(range(cm.shape[0]), range(cm.shape[1])):\n",
        "  plt.text(j, i, format(cm[i, j], fmt),\n",
        "  horizontalalignment='center',\n",
        "  color='white' if cm[i, j] > thresh else 'black')\n",
        " plt.ylabel('True label')\n",
        " plt.xlabel('Predicted label')\n",
        " plt.tight_layout()\n",
        " plt.savefig(figname)"
      ],
      "execution_count": null,
      "outputs": []
    },
    {
      "cell_type": "code",
      "metadata": {
        "id": "2NzLJYEwgut7",
        "colab": {
          "base_uri": "https://localhost:8080/"
        },
        "outputId": "952b4abf-8079-48b4-beb9-b00bc1ea91ab"
      },
      "source": [
        "Y_pred = model.predict_generator(test_generator)\n",
        "y_pred = np.argmax(Y_pred, axis=1)\n",
        "\n",
        "cm = confusion_matrix(test_generator.classes, y_pred)\n",
        "#plot_confusion_matrix(cm, labels = category_names, title='Confusion Matrix', normalize=False, figname = 'Confusion_matrix_concrete.jpg')\n",
        "#plot_confusion_matrix(cm, labels = category_names,  normalize=False)#, figname = 'Confusion_matrix_concrete.jpg', title='Confusion Matrix'\n",
        "\n",
        "#plot_confusion_matrix(X = test_generator.classes, y_true = y_pred,labels= category_names, normalize=False)"
      ],
      "execution_count": null,
      "outputs": [
        {
          "output_type": "stream",
          "name": "stderr",
          "text": [
            "/usr/local/lib/python3.7/dist-packages/ipykernel_launcher.py:1: UserWarning: `Model.predict_generator` is deprecated and will be removed in a future version. Please use `Model.predict`, which supports generators.\n",
            "  \"\"\"Entry point for launching an IPython kernel.\n"
          ]
        }
      ]
    },
    {
      "cell_type": "code",
      "metadata": {
        "id": "qGHunA1f4xHk",
        "colab": {
          "base_uri": "https://localhost:8080/"
        },
        "outputId": "e8adca62-554b-4c72-f9db-f1106616aa97"
      },
      "source": [
        "print(cm)"
      ],
      "execution_count": null,
      "outputs": [
        {
          "output_type": "stream",
          "name": "stdout",
          "text": [
            "[[21  0  0]\n",
            " [21  0  0]\n",
            " [21  0  0]]\n"
          ]
        }
      ]
    },
    {
      "cell_type": "markdown",
      "source": [
        "# Resnet50 performance"
      ],
      "metadata": {
        "id": "EOWD9hnWU-Fx"
      }
    },
    {
      "cell_type": "code",
      "metadata": {
        "id": "VGzZSuBC4xNw",
        "colab": {
          "base_uri": "https://localhost:8080/"
        },
        "outputId": "7f22dbf1-136e-4650-a992-a772dfcfbcd0"
      },
      "source": [
        "accuracy = accuracy_score(test_generator.classes, y_pred)\n",
        "print(\"Accuracy in test set: %0.1f%% \" % (accuracy * 100))"
      ],
      "execution_count": null,
      "outputs": [
        {
          "output_type": "stream",
          "name": "stdout",
          "text": [
            "Accuracy in test set: 33.3% \n"
          ]
        }
      ]
    },
    {
      "cell_type": "code",
      "metadata": {
        "id": "HX0kXDMx4xO-",
        "colab": {
          "base_uri": "https://localhost:8080/"
        },
        "outputId": "3fbb4eb0-c4b6-4a9f-c170-37a3ac46250a"
      },
      "source": [
        "confusion_metri=metrics.classification_report(test_generator.classes, y_pred,target_names=category_names)\n",
        "print(confusion_metri)"
      ],
      "execution_count": null,
      "outputs": [
        {
          "output_type": "stream",
          "name": "stdout",
          "text": [
            "              precision    recall  f1-score   support\n",
            "\n",
            "           1       0.33      1.00      0.50        21\n",
            "           2       0.00      0.00      0.00        21\n",
            "           3       0.00      0.00      0.00        21\n",
            "\n",
            "    accuracy                           0.33        63\n",
            "   macro avg       0.11      0.33      0.17        63\n",
            "weighted avg       0.11      0.33      0.17        63\n",
            "\n"
          ]
        },
        {
          "output_type": "stream",
          "name": "stderr",
          "text": [
            "/usr/local/lib/python3.7/dist-packages/sklearn/metrics/_classification.py:1318: UndefinedMetricWarning: Precision and F-score are ill-defined and being set to 0.0 in labels with no predicted samples. Use `zero_division` parameter to control this behavior.\n",
            "  _warn_prf(average, modifier, msg_start, len(result))\n",
            "/usr/local/lib/python3.7/dist-packages/sklearn/metrics/_classification.py:1318: UndefinedMetricWarning: Precision and F-score are ill-defined and being set to 0.0 in labels with no predicted samples. Use `zero_division` parameter to control this behavior.\n",
            "  _warn_prf(average, modifier, msg_start, len(result))\n",
            "/usr/local/lib/python3.7/dist-packages/sklearn/metrics/_classification.py:1318: UndefinedMetricWarning: Precision and F-score are ill-defined and being set to 0.0 in labels with no predicted samples. Use `zero_division` parameter to control this behavior.\n",
            "  _warn_prf(average, modifier, msg_start, len(result))\n"
          ]
        }
      ]
    },
    {
      "cell_type": "markdown",
      "source": [
        "# another model"
      ],
      "metadata": {
        "id": "E8F5A3e-IbbJ"
      }
    },
    {
      "cell_type": "code",
      "source": [],
      "metadata": {
        "id": "E9LIgz3fIdJe"
      },
      "execution_count": null,
      "outputs": []
    },
    {
      "cell_type": "markdown",
      "metadata": {
        "id": "9_CltrP7Idgv"
      },
      "source": []
    },
    {
      "cell_type": "code",
      "metadata": {
        "id": "kQWz3jmPIdgv"
      },
      "source": [
        "img_height, img_width = 224,224\n",
        "conv_base =ResNet101(weights='imagenet', include_top=False, pooling='max', input_shape = (img_width, img_height, 3))"
      ],
      "execution_count": null,
      "outputs": []
    },
    {
      "cell_type": "code",
      "metadata": {
        "colab": {
          "base_uri": "https://localhost:8080/"
        },
        "outputId": "de5d919e-d409-4c4e-f062-7496c3d61916",
        "id": "jVZVwWApIdgw"
      },
      "source": [
        "for layer in conv_base.layers:\n",
        "    print(layer, layer.trainable)"
      ],
      "execution_count": null,
      "outputs": [
        {
          "output_type": "stream",
          "name": "stdout",
          "text": [
            "<keras.engine.input_layer.InputLayer object at 0x7fb211d2ed90> True\n",
            "<keras.layers.convolutional.ZeroPadding2D object at 0x7fb49f16ae90> True\n",
            "<keras.layers.convolutional.Conv2D object at 0x7fb20dfffc10> True\n",
            "<keras.layers.normalization.batch_normalization.BatchNormalization object at 0x7fb20e008210> True\n",
            "<keras.layers.core.activation.Activation object at 0x7fb20dfff550> True\n",
            "<keras.layers.convolutional.ZeroPadding2D object at 0x7fb20e350590> True\n",
            "<keras.layers.pooling.MaxPooling2D object at 0x7fb20e012a10> True\n",
            "<keras.layers.convolutional.Conv2D object at 0x7fb20e2a8350> True\n",
            "<keras.layers.normalization.batch_normalization.BatchNormalization object at 0x7fb20e016d50> True\n",
            "<keras.layers.core.activation.Activation object at 0x7fb20e2a83d0> True\n",
            "<keras.layers.convolutional.Conv2D object at 0x7fb20e0241d0> True\n",
            "<keras.layers.normalization.batch_normalization.BatchNormalization object at 0x7fb20e01bb50> True\n",
            "<keras.layers.core.activation.Activation object at 0x7fb20e037a10> True\n",
            "<keras.layers.convolutional.Conv2D object at 0x7fb20e008f90> True\n",
            "<keras.layers.convolutional.Conv2D object at 0x7fb20e029f10> True\n",
            "<keras.layers.normalization.batch_normalization.BatchNormalization object at 0x7fb49ef58c90> True\n",
            "<keras.layers.normalization.batch_normalization.BatchNormalization object at 0x7fb20e0378d0> True\n",
            "<keras.layers.merge.Add object at 0x7fb20dfc6a10> True\n",
            "<keras.layers.core.activation.Activation object at 0x7fb20dfbbd10> True\n",
            "<keras.layers.convolutional.Conv2D object at 0x7fb20dfbf8d0> True\n",
            "<keras.layers.normalization.batch_normalization.BatchNormalization object at 0x7fb20dfc6e50> True\n",
            "<keras.layers.core.activation.Activation object at 0x7fb20dfd9490> True\n",
            "<keras.layers.convolutional.Conv2D object at 0x7fb20dfd9790> True\n",
            "<keras.layers.normalization.batch_normalization.BatchNormalization object at 0x7fb20dfd9e10> True\n",
            "<keras.layers.core.activation.Activation object at 0x7fb20e0374d0> True\n",
            "<keras.layers.convolutional.Conv2D object at 0x7fb20e02f650> True\n",
            "<keras.layers.normalization.batch_normalization.BatchNormalization object at 0x7fb20e01ef10> True\n",
            "<keras.layers.merge.Add object at 0x7fb20dfe1a50> True\n",
            "<keras.layers.core.activation.Activation object at 0x7fb20dfe1790> True\n",
            "<keras.layers.convolutional.Conv2D object at 0x7fb20dfed3d0> True\n",
            "<keras.layers.normalization.batch_normalization.BatchNormalization object at 0x7fb20dfe6d10> True\n",
            "<keras.layers.core.activation.Activation object at 0x7fb20e01b110> True\n",
            "<keras.layers.convolutional.Conv2D object at 0x7fb20df7c450> True\n",
            "<keras.layers.normalization.batch_normalization.BatchNormalization object at 0x7fb20df7c990> True\n",
            "<keras.layers.core.activation.Activation object at 0x7fb20dfe6650> True\n",
            "<keras.layers.convolutional.Conv2D object at 0x7fb20dff7d90> True\n",
            "<keras.layers.normalization.batch_normalization.BatchNormalization object at 0x7fb20df87990> True\n",
            "<keras.layers.merge.Add object at 0x7fb20df7ca10> True\n",
            "<keras.layers.core.activation.Activation object at 0x7fb20df7ca90> True\n",
            "<keras.layers.convolutional.Conv2D object at 0x7fb20dfb9910> True\n",
            "<keras.layers.normalization.batch_normalization.BatchNormalization object at 0x7fb20dfaa950> True\n",
            "<keras.layers.core.activation.Activation object at 0x7fb20df3e590> True\n",
            "<keras.layers.convolutional.Conv2D object at 0x7fb20dfb9b10> True\n",
            "<keras.layers.normalization.batch_normalization.BatchNormalization object at 0x7fb20df41090> True\n",
            "<keras.layers.core.activation.Activation object at 0x7fb20df4db50> True\n",
            "<keras.layers.convolutional.Conv2D object at 0x7fb20dfa74d0> True\n",
            "<keras.layers.convolutional.Conv2D object at 0x7fb20df3ea50> True\n",
            "<keras.layers.normalization.batch_normalization.BatchNormalization object at 0x7fb20df9e210> True\n",
            "<keras.layers.normalization.batch_normalization.BatchNormalization object at 0x7fb20dfb1f10> True\n",
            "<keras.layers.merge.Add object at 0x7fb20df5e850> True\n",
            "<keras.layers.core.activation.Activation object at 0x7fb20df5ee10> True\n",
            "<keras.layers.convolutional.Conv2D object at 0x7fb20df68110> True\n",
            "<keras.layers.normalization.batch_normalization.BatchNormalization object at 0x7fb20df6ef10> True\n",
            "<keras.layers.core.activation.Activation object at 0x7fb20df6e790> True\n",
            "<keras.layers.convolutional.Conv2D object at 0x7fb20df6ec90> True\n",
            "<keras.layers.normalization.batch_normalization.BatchNormalization object at 0x7fb20df6eb90> True\n",
            "<keras.layers.core.activation.Activation object at 0x7fb20defd3d0> True\n",
            "<keras.layers.convolutional.Conv2D object at 0x7fb20df029d0> True\n",
            "<keras.layers.normalization.batch_normalization.BatchNormalization object at 0x7fb20df3eb10> True\n",
            "<keras.layers.merge.Add object at 0x7fb20df14fd0> True\n",
            "<keras.layers.core.activation.Activation object at 0x7fb20df14910> True\n",
            "<keras.layers.convolutional.Conv2D object at 0x7fb20df10410> True\n",
            "<keras.layers.normalization.batch_normalization.BatchNormalization object at 0x7fb20df2d1d0> True\n",
            "<keras.layers.core.activation.Activation object at 0x7fb20df2df50> True\n",
            "<keras.layers.convolutional.Conv2D object at 0x7fb20df2df10> True\n",
            "<keras.layers.normalization.batch_normalization.BatchNormalization object at 0x7fb20df2d6d0> True\n",
            "<keras.layers.core.activation.Activation object at 0x7fb20df5ab90> True\n",
            "<keras.layers.convolutional.Conv2D object at 0x7fb20df76c90> True\n",
            "<keras.layers.normalization.batch_normalization.BatchNormalization object at 0x7fb20df028d0> True\n",
            "<keras.layers.merge.Add object at 0x7fb20df94150> True\n",
            "<keras.layers.core.activation.Activation object at 0x7fb20df43390> True\n",
            "<keras.layers.convolutional.Conv2D object at 0x7fb20df90e10> True\n",
            "<keras.layers.normalization.batch_normalization.BatchNormalization object at 0x7fb20df411d0> True\n",
            "<keras.layers.core.activation.Activation object at 0x7fb20dfcf810> True\n",
            "<keras.layers.convolutional.Conv2D object at 0x7fb20dfe1c10> True\n",
            "<keras.layers.normalization.batch_normalization.BatchNormalization object at 0x7fb20e01e350> True\n",
            "<keras.layers.core.activation.Activation object at 0x7fb20df1f090> True\n",
            "<keras.layers.convolutional.Conv2D object at 0x7fb20e0128d0> True\n",
            "<keras.layers.normalization.batch_normalization.BatchNormalization object at 0x7fb20df1f9d0> True\n",
            "<keras.layers.merge.Add object at 0x7fb20debbf50> True\n",
            "<keras.layers.core.activation.Activation object at 0x7fb20debbe50> True\n",
            "<keras.layers.convolutional.Conv2D object at 0x7fb20dedb1d0> True\n",
            "<keras.layers.normalization.batch_normalization.BatchNormalization object at 0x7fb20ded1950> True\n",
            "<keras.layers.core.activation.Activation object at 0x7fb20ded8f50> True\n",
            "<keras.layers.convolutional.Conv2D object at 0x7fb20def49d0> True\n",
            "<keras.layers.normalization.batch_normalization.BatchNormalization object at 0x7fb20dedbad0> True\n",
            "<keras.layers.core.activation.Activation object at 0x7fb20dee6a50> True\n",
            "<keras.layers.convolutional.Conv2D object at 0x7fb20dec3950> True\n",
            "<keras.layers.convolutional.Conv2D object at 0x7fb20dee8f50> True\n",
            "<keras.layers.normalization.batch_normalization.BatchNormalization object at 0x7fb20debebd0> True\n",
            "<keras.layers.normalization.batch_normalization.BatchNormalization object at 0x7fb20def4f10> True\n",
            "<keras.layers.merge.Add object at 0x7fb20de85810> True\n",
            "<keras.layers.core.activation.Activation object at 0x7fb20de7a490> True\n",
            "<keras.layers.convolutional.Conv2D object at 0x7fb20deeff90> True\n",
            "<keras.layers.normalization.batch_normalization.BatchNormalization object at 0x7fb20de8dc10> True\n",
            "<keras.layers.core.activation.Activation object at 0x7fb20de91ed0> True\n",
            "<keras.layers.convolutional.Conv2D object at 0x7fb20de977d0> True\n",
            "<keras.layers.normalization.batch_normalization.BatchNormalization object at 0x7fb20de97a10> True\n",
            "<keras.layers.core.activation.Activation object at 0x7fb20dea60d0> True\n",
            "<keras.layers.convolutional.Conv2D object at 0x7fb20dea6990> True\n",
            "<keras.layers.normalization.batch_normalization.BatchNormalization object at 0x7fb20de3d190> True\n",
            "<keras.layers.merge.Add object at 0x7fb20de3d9d0> True\n",
            "<keras.layers.core.activation.Activation object at 0x7fb20deb5a50> True\n",
            "<keras.layers.convolutional.Conv2D object at 0x7fb20de82450> True\n",
            "<keras.layers.normalization.batch_normalization.BatchNormalization object at 0x7fb20de4c2d0> True\n",
            "<keras.layers.core.activation.Activation object at 0x7fb20de4a710> True\n",
            "<keras.layers.convolutional.Conv2D object at 0x7fb20de4a390> True\n",
            "<keras.layers.normalization.batch_normalization.BatchNormalization object at 0x7fb20de7a3d0> True\n",
            "<keras.layers.core.activation.Activation object at 0x7fb20ee3bf90> True\n",
            "<keras.layers.convolutional.Conv2D object at 0x7fb49ef3f510> True\n",
            "<keras.layers.normalization.batch_normalization.BatchNormalization object at 0x7fb20de4acd0> True\n",
            "<keras.layers.merge.Add object at 0x7fb20dead910> True\n",
            "<keras.layers.core.activation.Activation object at 0x7fb20df25190> True\n",
            "<keras.layers.convolutional.Conv2D object at 0x7fb20dfcbd90> True\n",
            "<keras.layers.normalization.batch_normalization.BatchNormalization object at 0x7fb20e2a8310> True\n",
            "<keras.layers.core.activation.Activation object at 0x7fb20e28a3d0> True\n",
            "<keras.layers.convolutional.Conv2D object at 0x7fb20e2950d0> True\n",
            "<keras.layers.normalization.batch_normalization.BatchNormalization object at 0x7fb20e27f0d0> True\n",
            "<keras.layers.core.activation.Activation object at 0x7fb20dfd9fd0> True\n",
            "<keras.layers.convolutional.Conv2D object at 0x7fb20e295a10> True\n",
            "<keras.layers.normalization.batch_normalization.BatchNormalization object at 0x7fb20e253e90> True\n",
            "<keras.layers.merge.Add object at 0x7fb20e29bf90> True\n",
            "<keras.layers.core.activation.Activation object at 0x7fb20e30d310> True\n",
            "<keras.layers.convolutional.Conv2D object at 0x7fb20e303590> True\n",
            "<keras.layers.normalization.batch_normalization.BatchNormalization object at 0x7fb20e2c0590> True\n",
            "<keras.layers.core.activation.Activation object at 0x7fb20e3967d0> True\n",
            "<keras.layers.convolutional.Conv2D object at 0x7fb20e2b4090> True\n",
            "<keras.layers.normalization.batch_normalization.BatchNormalization object at 0x7fb20e350c90> True\n",
            "<keras.layers.core.activation.Activation object at 0x7fb20c24a9d0> True\n",
            "<keras.layers.convolutional.Conv2D object at 0x7fb20e33b690> True\n",
            "<keras.layers.normalization.batch_normalization.BatchNormalization object at 0x7fb20e328f50> True\n",
            "<keras.layers.merge.Add object at 0x7fb20faccd10> True\n",
            "<keras.layers.core.activation.Activation object at 0x7fb20c1b59d0> True\n",
            "<keras.layers.convolutional.Conv2D object at 0x7fb20e3ac750> True\n",
            "<keras.layers.normalization.batch_normalization.BatchNormalization object at 0x7fb20fd61590> True\n",
            "<keras.layers.core.activation.Activation object at 0x7fb20fabd390> True\n",
            "<keras.layers.convolutional.Conv2D object at 0x7fb20e31fa10> True\n",
            "<keras.layers.normalization.batch_normalization.BatchNormalization object at 0x7fb20fac16d0> True\n",
            "<keras.layers.core.activation.Activation object at 0x7fb20fb12c50> True\n",
            "<keras.layers.convolutional.Conv2D object at 0x7fb20fb12d50> True\n",
            "<keras.layers.normalization.batch_normalization.BatchNormalization object at 0x7fb20fb6f5d0> True\n",
            "<keras.layers.merge.Add object at 0x7fb20fb7b450> True\n",
            "<keras.layers.core.activation.Activation object at 0x7fb20fb7b650> True\n",
            "<keras.layers.convolutional.Conv2D object at 0x7fb20fb30610> True\n",
            "<keras.layers.normalization.batch_normalization.BatchNormalization object at 0x7fb20fc85fd0> True\n",
            "<keras.layers.core.activation.Activation object at 0x7fb20fc8cc90> True\n",
            "<keras.layers.convolutional.Conv2D object at 0x7fb20fc85550> True\n",
            "<keras.layers.normalization.batch_normalization.BatchNormalization object at 0x7fb20fb1c890> True\n",
            "<keras.layers.core.activation.Activation object at 0x7fb20fbb0290> True\n",
            "<keras.layers.convolutional.Conv2D object at 0x7fb20c1b5b50> True\n",
            "<keras.layers.normalization.batch_normalization.BatchNormalization object at 0x7fb20e2c86d0> True\n",
            "<keras.layers.merge.Add object at 0x7fb20e2c00d0> True\n",
            "<keras.layers.core.activation.Activation object at 0x7fb20fb12790> True\n",
            "<keras.layers.convolutional.Conv2D object at 0x7fb20c1a2750> True\n",
            "<keras.layers.normalization.batch_normalization.BatchNormalization object at 0x7fb20e2ac510> True\n",
            "<keras.layers.core.activation.Activation object at 0x7fb20dea2f50> True\n",
            "<keras.layers.convolutional.Conv2D object at 0x7fb20fdac650> True\n",
            "<keras.layers.normalization.batch_normalization.BatchNormalization object at 0x7fb49f029550> True\n",
            "<keras.layers.core.activation.Activation object at 0x7fb49f733210> True\n",
            "<keras.layers.convolutional.Conv2D object at 0x7fb49f7331d0> True\n",
            "<keras.layers.normalization.batch_normalization.BatchNormalization object at 0x7fb49f7a1890> True\n",
            "<keras.layers.merge.Add object at 0x7fb49f724610> True\n",
            "<keras.layers.core.activation.Activation object at 0x7fb49f01eb50> True\n",
            "<keras.layers.convolutional.Conv2D object at 0x7fb49f7d71d0> True\n",
            "<keras.layers.normalization.batch_normalization.BatchNormalization object at 0x7fb49f7e1410> True\n",
            "<keras.layers.core.activation.Activation object at 0x7fb49f7e8550> True\n",
            "<keras.layers.convolutional.Conv2D object at 0x7fb49f6ce190> True\n",
            "<keras.layers.normalization.batch_normalization.BatchNormalization object at 0x7fb211752b50> True\n",
            "<keras.layers.core.activation.Activation object at 0x7fb49f73b3d0> True\n",
            "<keras.layers.convolutional.Conv2D object at 0x7fb49f6c2510> True\n",
            "<keras.layers.normalization.batch_normalization.BatchNormalization object at 0x7fb20ee78310> True\n",
            "<keras.layers.merge.Add object at 0x7fb3dba0a350> True\n",
            "<keras.layers.core.activation.Activation object at 0x7fb3dba0a550> True\n",
            "<keras.layers.convolutional.Conv2D object at 0x7fb457242790> True\n",
            "<keras.layers.normalization.batch_normalization.BatchNormalization object at 0x7fb4570af5d0> True\n",
            "<keras.layers.core.activation.Activation object at 0x7fb4570af950> True\n",
            "<keras.layers.convolutional.Conv2D object at 0x7fb4572423d0> True\n",
            "<keras.layers.normalization.batch_normalization.BatchNormalization object at 0x7fb4571ebf50> True\n",
            "<keras.layers.core.activation.Activation object at 0x7fb457187a90> True\n",
            "<keras.layers.convolutional.Conv2D object at 0x7fb457187510> True\n",
            "<keras.layers.normalization.batch_normalization.BatchNormalization object at 0x7fb45604e490> True\n",
            "<keras.layers.merge.Add object at 0x7fb3dab86cd0> True\n",
            "<keras.layers.core.activation.Activation object at 0x7fb3dab860d0> True\n",
            "<keras.layers.convolutional.Conv2D object at 0x7fb4564906d0> True\n",
            "<keras.layers.normalization.batch_normalization.BatchNormalization object at 0x7fb45643b750> True\n",
            "<keras.layers.core.activation.Activation object at 0x7fb45643bb90> True\n",
            "<keras.layers.convolutional.Conv2D object at 0x7fb45716c050> True\n",
            "<keras.layers.normalization.batch_normalization.BatchNormalization object at 0x7fb4570a1f90> True\n",
            "<keras.layers.core.activation.Activation object at 0x7fb49f6c2fd0> True\n",
            "<keras.layers.convolutional.Conv2D object at 0x7fb4570c3790> True\n",
            "<keras.layers.normalization.batch_normalization.BatchNormalization object at 0x7fb49f7ca950> True\n",
            "<keras.layers.merge.Add object at 0x7fb49f7a1090> True\n",
            "<keras.layers.core.activation.Activation object at 0x7fb49f7b4f10> True\n",
            "<keras.layers.convolutional.Conv2D object at 0x7fb20e2d7590> True\n",
            "<keras.layers.normalization.batch_normalization.BatchNormalization object at 0x7fb20fe75e50> True\n",
            "<keras.layers.core.activation.Activation object at 0x7fb20e347e90> True\n",
            "<keras.layers.convolutional.Conv2D object at 0x7fb20e3b36d0> True\n",
            "<keras.layers.normalization.batch_normalization.BatchNormalization object at 0x7fb3f5f15610> True\n",
            "<keras.layers.core.activation.Activation object at 0x7fb49f72e950> True\n",
            "<keras.layers.convolutional.Conv2D object at 0x7fb49f72e890> True\n",
            "<keras.layers.normalization.batch_normalization.BatchNormalization object at 0x7fb4b02f3c10> True\n",
            "<keras.layers.merge.Add object at 0x7fb4c60602d0> True\n",
            "<keras.layers.core.activation.Activation object at 0x7fb49f7520d0> True\n",
            "<keras.layers.convolutional.Conv2D object at 0x7fb5300dd0d0> True\n",
            "<keras.layers.normalization.batch_normalization.BatchNormalization object at 0x7fb4b02efbd0> True\n",
            "<keras.layers.core.activation.Activation object at 0x7fb530134490> True\n",
            "<keras.layers.convolutional.Conv2D object at 0x7fb4b031b5d0> True\n",
            "<keras.layers.normalization.batch_normalization.BatchNormalization object at 0x7fb4c656bc10> True\n",
            "<keras.layers.core.activation.Activation object at 0x7fb4b02c7290> True\n",
            "<keras.layers.convolutional.Conv2D object at 0x7fb4c6422850> True\n",
            "<keras.layers.normalization.batch_normalization.BatchNormalization object at 0x7fb4c60c4610> True\n",
            "<keras.layers.merge.Add object at 0x7fb457591c90> True\n",
            "<keras.layers.core.activation.Activation object at 0x7fb457591290> True\n",
            "<keras.layers.convolutional.Conv2D object at 0x7fb49f6d8590> True\n",
            "<keras.layers.normalization.batch_normalization.BatchNormalization object at 0x7fb49f7611d0> True\n",
            "<keras.layers.core.activation.Activation object at 0x7fb21176dc50> True\n",
            "<keras.layers.convolutional.Conv2D object at 0x7fb49f761f10> True\n",
            "<keras.layers.normalization.batch_normalization.BatchNormalization object at 0x7fb211e3b810> True\n",
            "<keras.layers.core.activation.Activation object at 0x7fb211e00c90> True\n",
            "<keras.layers.convolutional.Conv2D object at 0x7fb211e1ec90> True\n",
            "<keras.layers.normalization.batch_normalization.BatchNormalization object at 0x7fb211ec6890> True\n",
            "<keras.layers.merge.Add object at 0x7fb211e76f10> True\n",
            "<keras.layers.core.activation.Activation object at 0x7fb211e76e10> True\n",
            "<keras.layers.convolutional.Conv2D object at 0x7fb2140a3210> True\n",
            "<keras.layers.normalization.batch_normalization.BatchNormalization object at 0x7fb211e0e810> True\n",
            "<keras.layers.core.activation.Activation object at 0x7fb211f468d0> True\n",
            "<keras.layers.convolutional.Conv2D object at 0x7fb211ed13d0> True\n",
            "<keras.layers.normalization.batch_normalization.BatchNormalization object at 0x7fb211e3b9d0> True\n",
            "<keras.layers.core.activation.Activation object at 0x7fb49f6d8e50> True\n",
            "<keras.layers.convolutional.Conv2D object at 0x7fb211dce710> True\n",
            "<keras.layers.normalization.batch_normalization.BatchNormalization object at 0x7fb4b02ef2d0> True\n",
            "<keras.layers.merge.Add object at 0x7fb49f752d10> True\n",
            "<keras.layers.core.activation.Activation object at 0x7fb5300dd550> True\n",
            "<keras.layers.convolutional.Conv2D object at 0x7fb3dba12110> True\n",
            "<keras.layers.normalization.batch_normalization.BatchNormalization object at 0x7fb49f0dcb10> True\n",
            "<keras.layers.core.activation.Activation object at 0x7fb49f7c3ad0> True\n",
            "<keras.layers.convolutional.Conv2D object at 0x7fb3dba0a290> True\n",
            "<keras.layers.normalization.batch_normalization.BatchNormalization object at 0x7fb211f01dd0> True\n",
            "<keras.layers.core.activation.Activation object at 0x7fb211eb0cd0> True\n",
            "<keras.layers.convolutional.Conv2D object at 0x7fb211eb0310> True\n",
            "<keras.layers.normalization.batch_normalization.BatchNormalization object at 0x7fb211e44f10> True\n",
            "<keras.layers.merge.Add object at 0x7fb211d2db90> True\n",
            "<keras.layers.core.activation.Activation object at 0x7fb211d82a90> True\n",
            "<keras.layers.convolutional.Conv2D object at 0x7fb211d27b90> True\n",
            "<keras.layers.normalization.batch_normalization.BatchNormalization object at 0x7fb211d245d0> True\n",
            "<keras.layers.core.activation.Activation object at 0x7fb211e6ed10> True\n",
            "<keras.layers.convolutional.Conv2D object at 0x7fb211d27a90> True\n",
            "<keras.layers.normalization.batch_normalization.BatchNormalization object at 0x7fb3f5f60550> True\n",
            "<keras.layers.core.activation.Activation object at 0x7fb49f129b10> True\n",
            "<keras.layers.convolutional.Conv2D object at 0x7fb49f129090> True\n",
            "<keras.layers.normalization.batch_normalization.BatchNormalization object at 0x7fb49f191910> True\n",
            "<keras.layers.merge.Add object at 0x7fb49f1f2c10> True\n",
            "<keras.layers.core.activation.Activation object at 0x7fb49f191f10> True\n",
            "<keras.layers.convolutional.Conv2D object at 0x7fb49f237650> True\n",
            "<keras.layers.normalization.batch_normalization.BatchNormalization object at 0x7fb49f215b10> True\n",
            "<keras.layers.core.activation.Activation object at 0x7fb49f237950> True\n",
            "<keras.layers.convolutional.Conv2D object at 0x7fb49f211f10> True\n",
            "<keras.layers.normalization.batch_normalization.BatchNormalization object at 0x7fb49f260dd0> True\n",
            "<keras.layers.core.activation.Activation object at 0x7fb49f252fd0> True\n",
            "<keras.layers.convolutional.Conv2D object at 0x7fb49f2522d0> True\n",
            "<keras.layers.normalization.batch_normalization.BatchNormalization object at 0x7fb49f243f90> True\n",
            "<keras.layers.merge.Add object at 0x7fb49f2adcd0> True\n",
            "<keras.layers.core.activation.Activation object at 0x7fb49f211ad0> True\n",
            "<keras.layers.convolutional.Conv2D object at 0x7fb49f2a7d90> True\n",
            "<keras.layers.normalization.batch_normalization.BatchNormalization object at 0x7fb49f2a2490> True\n",
            "<keras.layers.core.activation.Activation object at 0x7fb49f2975d0> True\n",
            "<keras.layers.convolutional.Conv2D object at 0x7fb49f297a50> True\n",
            "<keras.layers.normalization.batch_normalization.BatchNormalization object at 0x7fb49f27ec10> True\n",
            "<keras.layers.core.activation.Activation object at 0x7fb20f68bdd0> True\n",
            "<keras.layers.convolutional.Conv2D object at 0x7fb49f252290> True\n",
            "<keras.layers.normalization.batch_normalization.BatchNormalization object at 0x7fb49f1afbd0> True\n",
            "<keras.layers.merge.Add object at 0x7fb211d28cd0> True\n",
            "<keras.layers.core.activation.Activation object at 0x7fb211d2c650> True\n",
            "<keras.layers.convolutional.Conv2D object at 0x7fb211e23b90> True\n",
            "<keras.layers.normalization.batch_normalization.BatchNormalization object at 0x7fb20fbb0390> True\n",
            "<keras.layers.core.activation.Activation object at 0x7fb211ec6790> True\n",
            "<keras.layers.convolutional.Conv2D object at 0x7fb3dba12b50> True\n",
            "<keras.layers.normalization.batch_normalization.BatchNormalization object at 0x7fb49f2060d0> True\n",
            "<keras.layers.core.activation.Activation object at 0x7fb49f295950> True\n",
            "<keras.layers.convolutional.Conv2D object at 0x7fb49f20a550> True\n",
            "<keras.layers.normalization.batch_normalization.BatchNormalization object at 0x7fb49f28ba10> True\n",
            "<keras.layers.merge.Add object at 0x7fb49f2fb7d0> True\n",
            "<keras.layers.core.activation.Activation object at 0x7fb49f2fb150> True\n",
            "<keras.layers.convolutional.Conv2D object at 0x7fb49f2f9bd0> True\n",
            "<keras.layers.normalization.batch_normalization.BatchNormalization object at 0x7fb49f2f0c90> True\n",
            "<keras.layers.core.activation.Activation object at 0x7fb49f2f0910> True\n",
            "<keras.layers.convolutional.Conv2D object at 0x7fb49f2f3810> True\n",
            "<keras.layers.normalization.batch_normalization.BatchNormalization object at 0x7fb49f2d6f10> True\n",
            "<keras.layers.core.activation.Activation object at 0x7fb49f2c56d0> True\n",
            "<keras.layers.convolutional.Conv2D object at 0x7fb49f2bf650> True\n",
            "<keras.layers.normalization.batch_normalization.BatchNormalization object at 0x7fb49f33bad0> True\n",
            "<keras.layers.merge.Add object at 0x7fb49f326990> True\n",
            "<keras.layers.core.activation.Activation object at 0x7fb49f3267d0> True\n",
            "<keras.layers.convolutional.Conv2D object at 0x7fb49f31c190> True\n",
            "<keras.layers.normalization.batch_normalization.BatchNormalization object at 0x7fb49f313cd0> True\n",
            "<keras.layers.core.activation.Activation object at 0x7fb49f313bd0> True\n",
            "<keras.layers.convolutional.Conv2D object at 0x7fb49f3184d0> True\n",
            "<keras.layers.normalization.batch_normalization.BatchNormalization object at 0x7fb49f305d10> True\n",
            "<keras.layers.core.activation.Activation object at 0x7fb49f373750> True\n",
            "<keras.layers.convolutional.Conv2D object at 0x7fb49f36cf90> True\n",
            "<keras.layers.normalization.batch_normalization.BatchNormalization object at 0x7fb49f37b150> True\n",
            "<keras.layers.merge.Add object at 0x7fb49f353550> True\n",
            "<keras.layers.core.activation.Activation object at 0x7fb49f3539d0> True\n",
            "<keras.layers.convolutional.Conv2D object at 0x7fb49f34b890> True\n",
            "<keras.layers.normalization.batch_normalization.BatchNormalization object at 0x7fb49f3489d0> True\n",
            "<keras.layers.core.activation.Activation object at 0x7fb49f342350> True\n",
            "<keras.layers.convolutional.Conv2D object at 0x7fb49f35af10> True\n",
            "<keras.layers.normalization.batch_normalization.BatchNormalization object at 0x7fb49f366bd0> True\n",
            "<keras.layers.core.activation.Activation object at 0x7fb49f333c90> True\n",
            "<keras.layers.convolutional.Conv2D object at 0x7fb49f31c990> True\n",
            "<keras.layers.normalization.batch_normalization.BatchNormalization object at 0x7fb49f2bf8d0> True\n",
            "<keras.layers.merge.Add object at 0x7fb49f2f9110> True\n",
            "<keras.layers.core.activation.Activation object at 0x7fb49f283650> True\n",
            "<keras.layers.convolutional.Conv2D object at 0x7fb3f5f60910> True\n",
            "<keras.layers.normalization.batch_normalization.BatchNormalization object at 0x7fb49cffcad0> True\n",
            "<keras.layers.core.activation.Activation object at 0x7fb49f1d0b10> True\n",
            "<keras.layers.convolutional.Conv2D object at 0x7fb4b02f3c50> True\n",
            "<keras.layers.normalization.batch_normalization.BatchNormalization object at 0x7fb49f2df990> True\n",
            "<keras.layers.core.activation.Activation object at 0x7fb49f397e50> True\n",
            "<keras.layers.convolutional.Conv2D object at 0x7fb49f28e810> True\n",
            "<keras.layers.convolutional.Conv2D object at 0x7fb49f397050> True\n",
            "<keras.layers.normalization.batch_normalization.BatchNormalization object at 0x7fb211e60fd0> True\n",
            "<keras.layers.normalization.batch_normalization.BatchNormalization object at 0x7fb49f3a5a50> True\n",
            "<keras.layers.merge.Add object at 0x7fb49f38b150> True\n",
            "<keras.layers.core.activation.Activation object at 0x7fb49f3a1bd0> True\n",
            "<keras.layers.convolutional.Conv2D object at 0x7fb49f385a90> True\n",
            "<keras.layers.normalization.batch_normalization.BatchNormalization object at 0x7fb49f385290> True\n",
            "<keras.layers.core.activation.Activation object at 0x7fb49f3df1d0> True\n",
            "<keras.layers.convolutional.Conv2D object at 0x7fb49f385d50> True\n",
            "<keras.layers.normalization.batch_normalization.BatchNormalization object at 0x7fb49f3c3f90> True\n",
            "<keras.layers.core.activation.Activation object at 0x7fb49f46cdd0> True\n",
            "<keras.layers.convolutional.Conv2D object at 0x7fb49f46c710> True\n",
            "<keras.layers.normalization.batch_normalization.BatchNormalization object at 0x7fb49f4fb050> True\n",
            "<keras.layers.merge.Add object at 0x7fb49f57dd10> True\n",
            "<keras.layers.core.activation.Activation object at 0x7fb49f4d4950> True\n",
            "<keras.layers.convolutional.Conv2D object at 0x7fb49f57d8d0> True\n",
            "<keras.layers.normalization.batch_normalization.BatchNormalization object at 0x7fb49f6e0290> True\n",
            "<keras.layers.core.activation.Activation object at 0x7fb49f4f7c90> True\n",
            "<keras.layers.convolutional.Conv2D object at 0x7fb49f4f7d10> True\n",
            "<keras.layers.normalization.batch_normalization.BatchNormalization object at 0x7fb49f154510> True\n",
            "<keras.layers.core.activation.Activation object at 0x7fb49f146d10> True\n",
            "<keras.layers.convolutional.Conv2D object at 0x7fb49f146550> True\n",
            "<keras.layers.normalization.batch_normalization.BatchNormalization object at 0x7fb49f1467d0> True\n",
            "<keras.layers.merge.Add object at 0x7fb211e7c790> True\n",
            "<keras.layers.core.activation.Activation object at 0x7fb2114f6190> True\n",
            "<keras.layers.pooling.GlobalMaxPooling2D object at 0x7fb2114f7210> True\n"
          ]
        }
      ]
    },
    {
      "cell_type": "code",
      "metadata": {
        "colab": {
          "base_uri": "https://localhost:8080/",
          "height": 298
        },
        "outputId": "3e6b4844-4b3d-46e0-dc7c-60c0bf48cdf7",
        "id": "0c0ju8ToIdgw"
      },
      "source": [
        "category_names = sorted(os.listdir(train_data_dir))\n",
        "nb_categories = len(category_names)\n",
        "img_pr_cat = []\n",
        "for category in category_names:\n",
        "    folder = train_data_dir + '/' + category\n",
        "    img_pr_cat.append(len(os.listdir(folder)))\n",
        "sns.barplot(y=category_names, x=img_pr_cat).set_title(\"Number of training images per category:\")"
      ],
      "execution_count": null,
      "outputs": [
        {
          "output_type": "execute_result",
          "data": {
            "text/plain": [
              "Text(0.5, 1.0, 'Number of training images per category:')"
            ]
          },
          "metadata": {},
          "execution_count": 70
        },
        {
          "output_type": "display_data",
          "data": {
            "text/plain": [
              "<Figure size 432x288 with 1 Axes>"
            ],
            "image/png": "[encoded data removed]"
          },
          "metadata": {
            "needs_background": "light"
          }
        }
      ]
    },
    {
      "cell_type": "code",
      "metadata": {
        "colab": {
          "base_uri": "https://localhost:8080/"
        },
        "outputId": "c07ce1c4-0205-4d58-dbc3-c1654f1e6d01",
        "id": "xUyaN4shIdgw"
      },
      "source": [
        "model = Sequential()\n",
        "model.add(conv_base)\n",
        "model.add(Dense(nb_categories, activation='softmax'))\n",
        "model.summary()\n",
        "\n",
        "\n",
        "# for layer in conv_base.layers:\n",
        "#   layer.trainable = False\n",
        "  \n",
        "\n",
        "  \n",
        "\n",
        "# #folders = glob('/content/drive/My Drive/datasets_image/brain_tumor/train/*')\n",
        "  \n",
        "\n",
        "\n",
        "# x = Flatten()(conv_base.output)\n",
        "\n",
        "# prediction = Dense(nb_categories, activation='softmax')(x)\n",
        "\n",
        "# model = Model(inputs=conv_base.input, outputs=prediction)\n",
        "\n",
        "\n",
        "# model.summary()"
      ],
      "execution_count": null,
      "outputs": [
        {
          "output_type": "stream",
          "name": "stdout",
          "text": [
            "Model: \"sequential_4\"\n",
            "_________________________________________________________________\n",
            " Layer (type)                Output Shape              Param #   \n",
            "=================================================================\n",
            " resnet101 (Functional)      (None, 2048)              42658176  \n",
            "                                                                 \n",
            " dense_4 (Dense)             (None, 3)                 6147      \n",
            "                                                                 \n",
            "=================================================================\n",
            "Total params: 42,664,323\n",
            "Trainable params: 42,558,979\n",
            "Non-trainable params: 105,344\n",
            "_________________________________________________________________\n"
          ]
        }
      ]
    },
    {
      "cell_type": "code",
      "metadata": {
        "id": "rj5hz6jYIdgw"
      },
      "source": [
        "#Number of images to load at each iteration\n",
        "batch_size = 32\n",
        "# only rescaling\n",
        "train_datagen = ImageDataGenerator(\n",
        "        rescale=1./255,\n",
        "        rotation_range=10,\n",
        "        zoom_range=0.1,\n",
        "        width_shift_range=0.1,\n",
        "        height_shift_range=0.1,\n",
        "        horizontal_flip=False,\n",
        "        brightness_range = (0.9,1.1),\n",
        "        fill_mode='nearest'\n",
        "        )\n",
        "test_datagen =  ImageDataGenerator(\n",
        "    rescale=1./255\n",
        ")"
      ],
      "execution_count": null,
      "outputs": []
    },
    {
      "cell_type": "code",
      "metadata": {
        "colab": {
          "base_uri": "https://localhost:8080/"
        },
        "outputId": "964411a8-8251-4545-e036-b799b489243d",
        "id": "sgH7GCVeIdgw"
      },
      "source": [
        "print('Total number of images for \"training\":')\n",
        "train_generator = train_datagen.flow_from_directory(\n",
        "train_data_dir,\n",
        "target_size = (img_height, img_width),\n",
        "batch_size = batch_size, \n",
        "class_mode = \"categorical\")\n",
        "print('Total number of images for \"validation\":')\n",
        "val_generator = test_datagen.flow_from_directory(\n",
        "val_data_dir,\n",
        "target_size = (img_height, img_width),\n",
        "batch_size = batch_size,\n",
        "class_mode = \"categorical\",\n",
        "shuffle=False)\n",
        "print('Total number of images for \"testing\":')\n",
        "test_generator = test_datagen.flow_from_directory(\n",
        "test_data_dir,\n",
        "target_size = (img_height, img_width),\n",
        "batch_size = batch_size,\n",
        "class_mode = \"categorical\",\n",
        "shuffle=False)"
      ],
      "execution_count": null,
      "outputs": [
        {
          "output_type": "stream",
          "name": "stdout",
          "text": [
            "Total number of images for \"training\":\n",
            "Found 303 images belonging to 3 classes.\n",
            "Total number of images for \"validation\":\n",
            "Found 63 images belonging to 3 classes.\n",
            "Total number of images for \"testing\":\n",
            "Found 63 images belonging to 3 classes.\n"
          ]
        }
      ]
    },
    {
      "cell_type": "code",
      "metadata": {
        "id": "RRSF8WfbIdgx"
      },
      "source": [],
      "execution_count": null,
      "outputs": []
    },
    {
      "cell_type": "code",
      "metadata": {
        "id": "ceCEBn6lIdgx"
      },
      "source": [],
      "execution_count": null,
      "outputs": []
    },
    {
      "cell_type": "code",
      "metadata": {
        "id": "O0h8zaI6Idgx"
      },
      "source": [],
      "execution_count": null,
      "outputs": []
    },
    {
      "cell_type": "code",
      "metadata": {
        "id": "M74gO_jsIdgx"
      },
      "source": [],
      "execution_count": null,
      "outputs": []
    },
    {
      "cell_type": "code",
      "metadata": {
        "id": "3bD186l_Idgx"
      },
      "source": [
        "learning_rate = .00001\n",
        "epochs =1000\n",
        "#checkpoint = ModelCheckpoint(\"sign_classifier.h5\", monitor = 'val_acc', verbose=1, save_best_only=True, save_weights_only=False, mode='auto', period=1)\n",
        "model.compile(loss=\"categorical_crossentropy\", optimizer=tf.keras.optimizers.Adam(learning_rate=learning_rate), metrics = ['acc','AUC'])\n",
        "\n",
        "\n"
      ],
      "execution_count": null,
      "outputs": []
    },
    {
      "cell_type": "code",
      "metadata": {
        "id": "Lt8rAyUdIdgx"
      },
      "source": [],
      "execution_count": null,
      "outputs": []
    },
    {
      "cell_type": "code",
      "metadata": {
        "colab": {
          "base_uri": "https://localhost:8080/"
        },
        "outputId": "67b65737-740d-4a68-e105-908297278317",
        "id": "dFwVHWsCIdgx"
      },
      "source": [
        "history = model.fit_generator(train_generator, \n",
        "                              epochs=epochs, \n",
        "                              shuffle=True, \n",
        "                              validation_data=val_generator,\n",
        "                              callbacks=[keras.callbacks.EarlyStopping(monitor=\"val_loss\",patience=30,verbose=2,restore_best_weights=True)])"
      ],
      "execution_count": null,
      "outputs": [
        {
          "output_type": "stream",
          "name": "stderr",
          "text": [
            "/usr/local/lib/python3.7/dist-packages/ipykernel_launcher.py:5: UserWarning: `Model.fit_generator` is deprecated and will be removed in a future version. Please use `Model.fit`, which supports generators.\n",
            "  \"\"\"\n"
          ]
        },
        {
          "output_type": "stream",
          "name": "stdout",
          "text": [
            "Epoch 1/1000\n",
            "10/10 [==============================] - 23s 1s/step - loss: 3.4239 - acc: 0.5215 - auc: 0.6869 - val_loss: 3.5071 - val_acc: 0.3333 - val_auc: 0.4897\n",
            "Epoch 2/1000\n",
            "10/10 [==============================] - 10s 1000ms/step - loss: 0.7137 - acc: 0.8284 - auc: 0.9418 - val_loss: 3.4132 - val_acc: 0.3333 - val_auc: 0.5714\n",
            "Epoch 3/1000\n",
            "10/10 [==============================] - 10s 966ms/step - loss: 0.3296 - acc: 0.9043 - auc: 0.9769 - val_loss: 6.5342 - val_acc: 0.3333 - val_auc: 0.5000\n",
            "Epoch 4/1000\n",
            "10/10 [==============================] - 10s 971ms/step - loss: 0.2156 - acc: 0.9571 - auc: 0.9880 - val_loss: 10.7581 - val_acc: 0.3333 - val_auc: 0.5000\n",
            "Epoch 5/1000\n",
            "10/10 [==============================] - 10s 979ms/step - loss: 0.1107 - acc: 0.9604 - auc: 0.9955 - val_loss: 19.8492 - val_acc: 0.3333 - val_auc: 0.5000\n",
            "Epoch 6/1000\n",
            "10/10 [==============================] - 10s 976ms/step - loss: 0.1023 - acc: 0.9703 - auc: 0.9960 - val_loss: 28.4106 - val_acc: 0.3333 - val_auc: 0.5000\n",
            "Epoch 7/1000\n",
            "10/10 [==============================] - 10s 967ms/step - loss: 0.1149 - acc: 0.9604 - auc: 0.9938 - val_loss: 31.2850 - val_acc: 0.3333 - val_auc: 0.5000\n",
            "Epoch 8/1000\n",
            "10/10 [==============================] - 10s 965ms/step - loss: 0.0750 - acc: 0.9802 - auc: 0.9947 - val_loss: 38.2278 - val_acc: 0.3333 - val_auc: 0.5000\n",
            "Epoch 9/1000\n",
            "10/10 [==============================] - 10s 969ms/step - loss: 0.0172 - acc: 0.9901 - auc: 0.9999 - val_loss: 48.6424 - val_acc: 0.3333 - val_auc: 0.5000\n",
            "Epoch 10/1000\n",
            "10/10 [==============================] - 10s 964ms/step - loss: 0.0770 - acc: 0.9901 - auc: 0.9972 - val_loss: 58.2053 - val_acc: 0.3333 - val_auc: 0.5000\n",
            "Epoch 11/1000\n",
            "10/10 [==============================] - 10s 973ms/step - loss: 0.0670 - acc: 0.9802 - auc: 0.9946 - val_loss: 70.4426 - val_acc: 0.3333 - val_auc: 0.5000\n",
            "Epoch 12/1000\n",
            "10/10 [==============================] - 11s 1s/step - loss: 0.0272 - acc: 0.9934 - auc: 0.9998 - val_loss: 86.1321 - val_acc: 0.3333 - val_auc: 0.5000\n",
            "Epoch 13/1000\n",
            "10/10 [==============================] - 10s 973ms/step - loss: 0.0161 - acc: 0.9934 - auc: 0.9999 - val_loss: 101.8916 - val_acc: 0.3333 - val_auc: 0.5000\n",
            "Epoch 14/1000\n",
            "10/10 [==============================] - 10s 964ms/step - loss: 0.0037 - acc: 1.0000 - auc: 1.0000 - val_loss: 121.2297 - val_acc: 0.3333 - val_auc: 0.5000\n",
            "Epoch 15/1000\n",
            "10/10 [==============================] - 10s 967ms/step - loss: 0.0089 - acc: 0.9967 - auc: 1.0000 - val_loss: 136.2045 - val_acc: 0.3333 - val_auc: 0.5000\n",
            "Epoch 16/1000\n",
            "10/10 [==============================] - 10s 966ms/step - loss: 0.0276 - acc: 0.9901 - auc: 0.9998 - val_loss: 156.8146 - val_acc: 0.3333 - val_auc: 0.5000\n",
            "Epoch 17/1000\n",
            "10/10 [==============================] - 10s 968ms/step - loss: 0.0308 - acc: 0.9868 - auc: 0.9998 - val_loss: 187.0766 - val_acc: 0.3333 - val_auc: 0.5000\n",
            "Epoch 18/1000\n",
            "10/10 [==============================] - 10s 971ms/step - loss: 0.0069 - acc: 0.9967 - auc: 1.0000 - val_loss: 217.6406 - val_acc: 0.3333 - val_auc: 0.5000\n",
            "Epoch 19/1000\n",
            "10/10 [==============================] - 10s 968ms/step - loss: 0.0175 - acc: 0.9901 - auc: 0.9999 - val_loss: 249.1116 - val_acc: 0.3333 - val_auc: 0.5000\n",
            "Epoch 20/1000\n",
            "10/10 [==============================] - 10s 977ms/step - loss: 0.0080 - acc: 0.9967 - auc: 1.0000 - val_loss: 275.7125 - val_acc: 0.3333 - val_auc: 0.5000\n",
            "Epoch 21/1000\n",
            "10/10 [==============================] - 10s 974ms/step - loss: 0.0123 - acc: 0.9967 - auc: 1.0000 - val_loss: 297.6912 - val_acc: 0.3333 - val_auc: 0.5000\n",
            "Epoch 22/1000\n",
            "10/10 [==============================] - 10s 978ms/step - loss: 0.0150 - acc: 0.9901 - auc: 0.9999 - val_loss: 321.8162 - val_acc: 0.3333 - val_auc: 0.5000\n",
            "Epoch 23/1000\n",
            "10/10 [==============================] - 10s 971ms/step - loss: 0.0051 - acc: 0.9967 - auc: 1.0000 - val_loss: 351.3451 - val_acc: 0.3333 - val_auc: 0.5000\n",
            "Epoch 24/1000\n",
            "10/10 [==============================] - 10s 947ms/step - loss: 0.0054 - acc: 0.9967 - auc: 1.0000 - val_loss: 368.6673 - val_acc: 0.3333 - val_auc: 0.5000\n",
            "Epoch 25/1000\n",
            "10/10 [==============================] - 10s 968ms/step - loss: 9.4966e-04 - acc: 1.0000 - auc: 1.0000 - val_loss: 385.3824 - val_acc: 0.3333 - val_auc: 0.5000\n",
            "Epoch 26/1000\n",
            "10/10 [==============================] - 10s 973ms/step - loss: 0.0268 - acc: 0.9901 - auc: 0.9999 - val_loss: 439.2564 - val_acc: 0.3333 - val_auc: 0.5000\n",
            "Epoch 27/1000\n",
            "10/10 [==============================] - 10s 949ms/step - loss: 0.0027 - acc: 1.0000 - auc: 1.0000 - val_loss: 468.3885 - val_acc: 0.3333 - val_auc: 0.5000\n",
            "Epoch 28/1000\n",
            "10/10 [==============================] - 11s 1s/step - loss: 0.0071 - acc: 0.9967 - auc: 1.0000 - val_loss: 497.3635 - val_acc: 0.3333 - val_auc: 0.5000\n",
            "Epoch 29/1000\n",
            "10/10 [==============================] - 10s 981ms/step - loss: 0.0020 - acc: 1.0000 - auc: 1.0000 - val_loss: 514.0895 - val_acc: 0.3333 - val_auc: 0.5000\n",
            "Epoch 30/1000\n",
            "10/10 [==============================] - 10s 970ms/step - loss: 0.0055 - acc: 1.0000 - auc: 1.0000 - val_loss: 539.7297 - val_acc: 0.3333 - val_auc: 0.5000\n",
            "Epoch 31/1000\n",
            "10/10 [==============================] - 10s 945ms/step - loss: 0.0048 - acc: 1.0000 - auc: 1.0000 - val_loss: 567.8983 - val_acc: 0.3333 - val_auc: 0.5000\n",
            "Epoch 32/1000\n",
            "10/10 [==============================] - ETA: 0s - loss: 0.0027 - acc: 1.0000 - auc: 1.0000Restoring model weights from the end of the best epoch: 2.\n",
            "10/10 [==============================] - 10s 998ms/step - loss: 0.0027 - acc: 1.0000 - auc: 1.0000 - val_loss: 579.9993 - val_acc: 0.3333 - val_auc: 0.5000\n",
            "Epoch 32: early stopping\n"
          ]
        }
      ]
    },
    {
      "cell_type": "code",
      "metadata": {
        "colab": {
          "base_uri": "https://localhost:8080/",
          "height": 809
        },
        "outputId": "97dc1b38-7ed0-4f8f-ec5f-25483b608598",
        "id": "wq39fIcBIdgx"
      },
      "source": [
        "acc = history.history['acc']\n",
        "val_acc = history.history['val_acc']\n",
        "loss = history.history['loss']\n",
        "val_loss = history.history['val_loss']\n",
        "AUC = history.history['auc']\n",
        "val_AUC = history.history['val_auc']\n",
        "\n",
        "epochs = range(1,len(acc)+1)\n",
        "\n",
        "plt.figure()\n",
        "plt.plot(epochs, acc, 'b', label = 'Training accuracy')\n",
        "plt.plot(epochs, val_acc, 'r', label='Validation accuracy')\n",
        "plt.title('Training and validation accuracy')\n",
        "plt.legend()\n",
        "plt.ylim([0, 1.1])\n",
        "plt.savefig('Accuracy.png')\n",
        "\n",
        "plt.figure()\n",
        "plt.plot(epochs, loss, 'b', label = 'Training loss')\n",
        "plt.plot(epochs, val_loss, 'r', label='Validation loss')\n",
        "plt.title('Training and validation loss')\n",
        "plt.legend()\n",
        "plt.ylim([0, 1.1])\n",
        "plt.savefig('Loss.png')\n",
        "\n",
        "plt.figure()\n",
        "plt.plot(epochs, AUC, 'b', label = 'Training AUC')\n",
        "plt.plot(epochs, val_AUC, 'r', label='Validation AUC')\n",
        "plt.title('Training and validation AUC')\n",
        "plt.legend()\n",
        "plt.ylim([0, 1.1])\n",
        "plt.savefig('AUC.png')\n"
      ],
      "execution_count": null,
      "outputs": [
        {
          "output_type": "display_data",
          "data": {
            "text/plain": [
              "<Figure size 432x288 with 1 Axes>"
            ],
            "image/png": "[encoded data removed]"
          },
          "metadata": {
            "needs_background": "light"
          }
        },
        {
          "output_type": "display_data",
          "data": {
            "text/plain": [
              "<Figure size 432x288 with 1 Axes>"
            ],
            "image/png": "[encoded data removed]"
          },
          "metadata": {
            "needs_background": "light"
          }
        },
        {
          "output_type": "display_data",
          "data": {
            "text/plain": [
              "<Figure size 432x288 with 1 Axes>"
            ],
            "image/png": "[encoded data removed]"
          },
          "metadata": {
            "needs_background": "light"
          }
        }
      ]
    },
    {
      "cell_type": "code",
      "metadata": {
        "id": "bSBtb-OTIdgy"
      },
      "source": [
        "import numpy as np\n",
        "import matplotlib.pyplot as plt\n",
        "def plot_confusion_matrix(cm, classes, figname,\n",
        " normalize=False,\n",
        " title='Confusion matrix',\n",
        " cmap=plt.cm.Blues):\n",
        "#  “””\n",
        "#  This function prints and plots the confusion matrix.\n",
        "#  Normalization can be applied by setting `normalize=True`.\n",
        "#  “””\n",
        " import numpy as np\n",
        " import matplotlib.pyplot as plt\n",
        " import itertools\n",
        " if normalize:\n",
        "  cm = cm.astype('float')/cm.sum(axis=1)[:, np.newaxis]\n",
        "  print('Normalized confusion matrix')\n",
        " else:\n",
        "  print('Confusion matrix, without normalization')\n",
        "  \n",
        " plt.figure(figsize=(8,8))\n",
        " plt.imshow(cm, interpolation='nearest', cmap=cmap)\n",
        " plt.title(title)\n",
        " #plt.colorbar()\n",
        " tick_marks = np.arange(len(classes))\n",
        " plt.xticks(tick_marks, classes, rotation=90)\n",
        " plt.yticks(tick_marks, classes)\n",
        " fmt = '.2f' if normalize else 'd'\n",
        " thresh = cm.max() / 2.\n",
        " for i, j in itertools.product(range(cm.shape[0]), range(cm.shape[1])):\n",
        "  plt.text(j, i, format(cm[i, j], fmt),\n",
        "  horizontalalignment='center',\n",
        "  color='white' if cm[i, j] > thresh else 'black')\n",
        " plt.ylabel('True label')\n",
        " plt.xlabel('Predicted label')\n",
        " plt.tight_layout()\n",
        " plt.savefig(figname)"
      ],
      "execution_count": null,
      "outputs": []
    },
    {
      "cell_type": "code",
      "metadata": {
        "colab": {
          "base_uri": "https://localhost:8080/"
        },
        "outputId": "586f1ff6-a1b8-41c1-d7aa-9072fa70bbdc",
        "id": "U-VL3zmTIdgy"
      },
      "source": [
        "Y_pred = model.predict_generator(test_generator)\n",
        "y_pred = np.argmax(Y_pred, axis=1)\n",
        "\n",
        "cm = confusion_matrix(test_generator.classes, y_pred)\n",
        "#plot_confusion_matrix(cm, labels = category_names, title='Confusion Matrix', normalize=False, figname = 'Confusion_matrix_concrete.jpg')\n",
        "#plot_confusion_matrix(cm, labels = category_names,  normalize=False)#, figname = 'Confusion_matrix_concrete.jpg', title='Confusion Matrix'\n",
        "\n",
        "#plot_confusion_matrix(X = test_generator.classes, y_true = y_pred,labels= category_names, normalize=False)"
      ],
      "execution_count": null,
      "outputs": [
        {
          "output_type": "stream",
          "name": "stderr",
          "text": [
            "/usr/local/lib/python3.7/dist-packages/ipykernel_launcher.py:1: UserWarning: `Model.predict_generator` is deprecated and will be removed in a future version. Please use `Model.predict`, which supports generators.\n",
            "  \"\"\"Entry point for launching an IPython kernel.\n",
            "WARNING:tensorflow:5 out of the last 9 calls to <function Model.make_predict_function.<locals>.predict_function at 0x7fb45727c830> triggered tf.function retracing. Tracing is expensive and the excessive number of tracings could be due to (1) creating @tf.function repeatedly in a loop, (2) passing tensors with different shapes, (3) passing Python objects instead of tensors. For (1), please define your @tf.function outside of the loop. For (2), @tf.function has experimental_relax_shapes=True option that relaxes argument shapes that can avoid unnecessary retracing. For (3), please refer to https://www.tensorflow.org/guide/function#controlling_retracing and https://www.tensorflow.org/api_docs/python/tf/function for  more details.\n"
          ]
        }
      ]
    },
    {
      "cell_type": "code",
      "metadata": {
        "colab": {
          "base_uri": "https://localhost:8080/"
        },
        "outputId": "4ad91fd8-a219-4560-b88b-941ee3eb8fc7",
        "id": "T6YuA1XfIdgy"
      },
      "source": [
        "print(cm)"
      ],
      "execution_count": null,
      "outputs": [
        {
          "output_type": "stream",
          "name": "stdout",
          "text": [
            "[[ 0 21  0]\n",
            " [ 0 21  0]\n",
            " [ 0 21  0]]\n"
          ]
        }
      ]
    },
    {
      "cell_type": "markdown",
      "source": [
        "# Resnet101 performance"
      ],
      "metadata": {
        "id": "66_zhEVvVNeH"
      }
    },
    {
      "cell_type": "code",
      "metadata": {
        "colab": {
          "base_uri": "https://localhost:8080/"
        },
        "outputId": "68a162bc-ce15-454f-848e-d741de7c9c35",
        "id": "gp0MH6lWIdgy"
      },
      "source": [
        "accuracy = accuracy_score(test_generator.classes, y_pred)\n",
        "print(\"Accuracy in test set: %0.1f%% \" % (accuracy * 100))"
      ],
      "execution_count": null,
      "outputs": [
        {
          "output_type": "stream",
          "name": "stdout",
          "text": [
            "Accuracy in test set: 33.3% \n"
          ]
        }
      ]
    },
    {
      "cell_type": "code",
      "metadata": {
        "colab": {
          "base_uri": "https://localhost:8080/"
        },
        "outputId": "6c8cbb61-ef65-4d6c-8e75-b2be50317f4b",
        "id": "gxW-VK02Idgy"
      },
      "source": [
        "confusion_metri=metrics.classification_report(test_generator.classes, y_pred,target_names=category_names)\n",
        "print(confusion_metri)"
      ],
      "execution_count": null,
      "outputs": [
        {
          "output_type": "stream",
          "name": "stdout",
          "text": [
            "              precision    recall  f1-score   support\n",
            "\n",
            "           1       0.00      0.00      0.00        21\n",
            "           2       0.33      1.00      0.50        21\n",
            "           3       0.00      0.00      0.00        21\n",
            "\n",
            "    accuracy                           0.33        63\n",
            "   macro avg       0.11      0.33      0.17        63\n",
            "weighted avg       0.11      0.33      0.17        63\n",
            "\n"
          ]
        },
        {
          "output_type": "stream",
          "name": "stderr",
          "text": [
            "/usr/local/lib/python3.7/dist-packages/sklearn/metrics/_classification.py:1318: UndefinedMetricWarning: Precision and F-score are ill-defined and being set to 0.0 in labels with no predicted samples. Use `zero_division` parameter to control this behavior.\n",
            "  _warn_prf(average, modifier, msg_start, len(result))\n",
            "/usr/local/lib/python3.7/dist-packages/sklearn/metrics/_classification.py:1318: UndefinedMetricWarning: Precision and F-score are ill-defined and being set to 0.0 in labels with no predicted samples. Use `zero_division` parameter to control this behavior.\n",
            "  _warn_prf(average, modifier, msg_start, len(result))\n",
            "/usr/local/lib/python3.7/dist-packages/sklearn/metrics/_classification.py:1318: UndefinedMetricWarning: Precision and F-score are ill-defined and being set to 0.0 in labels with no predicted samples. Use `zero_division` parameter to control this behavior.\n",
            "  _warn_prf(average, modifier, msg_start, len(result))\n"
          ]
        }
      ]
    },
    {
      "cell_type": "markdown",
      "source": [
        "# another another model"
      ],
      "metadata": {
        "id": "P0-f28VfJjVJ"
      }
    },
    {
      "cell_type": "code",
      "source": [],
      "metadata": {
        "id": "CSLUApHFJlUd"
      },
      "execution_count": null,
      "outputs": []
    },
    {
      "cell_type": "markdown",
      "metadata": {
        "id": "oAwcgYtcJlge"
      },
      "source": []
    },
    {
      "cell_type": "code",
      "metadata": {
        "id": "KTVDSPWlJlge"
      },
      "source": [
        "img_height, img_width = 224,224\n",
        "conv_base =ResNet152(weights='imagenet', include_top=False, pooling='max', input_shape = (img_width, img_height, 3))"
      ],
      "execution_count": null,
      "outputs": []
    },
    {
      "cell_type": "code",
      "metadata": {
        "colab": {
          "base_uri": "https://localhost:8080/"
        },
        "outputId": "f5bc19b0-6896-4302-e798-a4c04d16ae76",
        "id": "RV84dWZTJlgf"
      },
      "source": [
        "for layer in conv_base.layers:\n",
        "    print(layer, layer.trainable)"
      ],
      "execution_count": null,
      "outputs": [
        {
          "output_type": "stream",
          "name": "stdout",
          "text": [
            "<keras.engine.input_layer.InputLayer object at 0x7fb49f16ad10> True\n",
            "<keras.layers.convolutional.ZeroPadding2D object at 0x7fb49f43ddd0> True\n",
            "<keras.layers.convolutional.Conv2D object at 0x7fb49f42c690> True\n",
            "<keras.layers.normalization.batch_normalization.BatchNormalization object at 0x7fb49f41b090> True\n",
            "<keras.layers.core.activation.Activation object at 0x7fb3f5c18dd0> True\n",
            "<keras.layers.convolutional.ZeroPadding2D object at 0x7fb20ee5f050> True\n",
            "<keras.layers.pooling.MaxPooling2D object at 0x7fb49f43b750> True\n",
            "<keras.layers.convolutional.Conv2D object at 0x7fb49f4306d0> True\n",
            "<keras.layers.normalization.batch_normalization.BatchNormalization object at 0x7fb49f43b810> True\n",
            "<keras.layers.core.activation.Activation object at 0x7fb3dabe3f10> True\n",
            "<keras.layers.convolutional.Conv2D object at 0x7fb3dabe3cd0> True\n",
            "<keras.layers.normalization.batch_normalization.BatchNormalization object at 0x7fb3dabd3f50> True\n",
            "<keras.layers.core.activation.Activation object at 0x7fb3dabddc90> True\n",
            "<keras.layers.convolutional.Conv2D object at 0x7fb49f41bf90> True\n",
            "<keras.layers.convolutional.Conv2D object at 0x7fb3dabdd5d0> True\n",
            "<keras.layers.normalization.batch_normalization.BatchNormalization object at 0x7fb49d6e3450> True\n",
            "<keras.layers.normalization.batch_normalization.BatchNormalization object at 0x7fb3dabce7d0> True\n",
            "<keras.layers.merge.Add object at 0x7fb49f42c350> True\n",
            "<keras.layers.core.activation.Activation object at 0x7fb3dabd6910> True\n",
            "<keras.layers.convolutional.Conv2D object at 0x7fb49f430cd0> True\n",
            "<keras.layers.normalization.batch_normalization.BatchNormalization object at 0x7fb49f41b710> True\n",
            "<keras.layers.core.activation.Activation object at 0x7fb49f611710> True\n",
            "<keras.layers.convolutional.Conv2D object at 0x7fb49f611c10> True\n",
            "<keras.layers.normalization.batch_normalization.BatchNormalization object at 0x7fb49f626d90> True\n",
            "<keras.layers.core.activation.Activation object at 0x7fb49f61a290> True\n",
            "<keras.layers.convolutional.Conv2D object at 0x7fb3dabce710> True\n",
            "<keras.layers.normalization.batch_normalization.BatchNormalization object at 0x7fb49f6250d0> True\n",
            "<keras.layers.merge.Add object at 0x7fb3f5d7ea50> True\n",
            "<keras.layers.core.activation.Activation object at 0x7fb49f602810> True\n",
            "<keras.layers.convolutional.Conv2D object at 0x7fb49f63ba10> True\n",
            "<keras.layers.normalization.batch_normalization.BatchNormalization object at 0x7fb49f6342d0> True\n",
            "<keras.layers.core.activation.Activation object at 0x7fb49f5bf390> True\n",
            "<keras.layers.convolutional.Conv2D object at 0x7fb49f5bfb50> True\n",
            "<keras.layers.normalization.batch_normalization.BatchNormalization object at 0x7fb49f5bfe90> True\n",
            "<keras.layers.core.activation.Activation object at 0x7fb49f5ee850> True\n",
            "<keras.layers.convolutional.Conv2D object at 0x7fb49f5ee9d0> True\n",
            "<keras.layers.normalization.batch_normalization.BatchNormalization object at 0x7fb49f5fde50> True\n",
            "<keras.layers.merge.Add object at 0x7fb49f5f47d0> True\n",
            "<keras.layers.core.activation.Activation object at 0x7fb3f4540910> True\n",
            "<keras.layers.convolutional.Conv2D object at 0x7fb49f5fd350> True\n",
            "<keras.layers.normalization.batch_normalization.BatchNormalization object at 0x7fb49f42c890> True\n",
            "<keras.layers.core.activation.Activation object at 0x7fb3f452e350> True\n",
            "<keras.layers.convolutional.Conv2D object at 0x7fb3f4549e10> True\n",
            "<keras.layers.normalization.batch_normalization.BatchNormalization object at 0x7fb3f452a650> True\n",
            "<keras.layers.core.activation.Activation object at 0x7fb3f4545150> True\n",
            "<keras.layers.convolutional.Conv2D object at 0x7fb49f5f46d0> True\n",
            "<keras.layers.convolutional.Conv2D object at 0x7fb3f452e090> True\n",
            "<keras.layers.normalization.batch_normalization.BatchNormalization object at 0x7fb3f4540850> True\n",
            "<keras.layers.normalization.batch_normalization.BatchNormalization object at 0x7fb3f4530110> True\n",
            "<keras.layers.merge.Add object at 0x7fb3f4531b90> True\n",
            "<keras.layers.core.activation.Activation object at 0x7fb211a21d10> True\n",
            "<keras.layers.convolutional.Conv2D object at 0x7fb3f4528c90> True\n",
            "<keras.layers.normalization.batch_normalization.BatchNormalization object at 0x7fb211a36f90> True\n",
            "<keras.layers.core.activation.Activation object at 0x7fb211a36d10> True\n",
            "<keras.layers.convolutional.Conv2D object at 0x7fb211a2c910> True\n",
            "<keras.layers.normalization.batch_normalization.BatchNormalization object at 0x7fb211a36350> True\n",
            "<keras.layers.core.activation.Activation object at 0x7fb211a1ef90> True\n",
            "<keras.layers.convolutional.Conv2D object at 0x7fb211a1ef50> True\n",
            "<keras.layers.normalization.batch_normalization.BatchNormalization object at 0x7fb3f4540a10> True\n",
            "<keras.layers.merge.Add object at 0x7fb3f4540990> True\n",
            "<keras.layers.core.activation.Activation object at 0x7fb49f5f2a90> True\n",
            "<keras.layers.convolutional.Conv2D object at 0x7fb211a2d390> True\n",
            "<keras.layers.normalization.batch_normalization.BatchNormalization object at 0x7fb49f5bfd10> True\n",
            "<keras.layers.core.activation.Activation object at 0x7fb49f5ca6d0> True\n",
            "<keras.layers.convolutional.Conv2D object at 0x7fb49f63ba90> True\n",
            "<keras.layers.normalization.batch_normalization.BatchNormalization object at 0x7fb49f61ad10> True\n",
            "<keras.layers.core.activation.Activation object at 0x7fb49f611490> True\n",
            "<keras.layers.convolutional.Conv2D object at 0x7fb49f626d10> True\n",
            "<keras.layers.normalization.batch_normalization.BatchNormalization object at 0x7fb49f625a50> True\n",
            "<keras.layers.merge.Add object at 0x7fb49f605b10> True\n",
            "<keras.layers.core.activation.Activation object at 0x7fb211a1f6d0> True\n",
            "<keras.layers.convolutional.Conv2D object at 0x7fb3dabf1a10> True\n",
            "<keras.layers.normalization.batch_normalization.BatchNormalization object at 0x7fb211a1f250> True\n",
            "<keras.layers.core.activation.Activation object at 0x7fb211ae8110> True\n",
            "<keras.layers.convolutional.Conv2D object at 0x7fb211acedd0> True\n",
            "<keras.layers.normalization.batch_normalization.BatchNormalization object at 0x7fb211af03d0> True\n",
            "<keras.layers.core.activation.Activation object at 0x7fb211af04d0> True\n",
            "<keras.layers.convolutional.Conv2D object at 0x7fb211aee310> True\n",
            "<keras.layers.normalization.batch_normalization.BatchNormalization object at 0x7fb211af07d0> True\n",
            "<keras.layers.merge.Add object at 0x7fb3f5c18d10> True\n",
            "<keras.layers.core.activation.Activation object at 0x7fb211aedf10> True\n",
            "<keras.layers.convolutional.Conv2D object at 0x7fb211ae2050> True\n",
            "<keras.layers.normalization.batch_normalization.BatchNormalization object at 0x7fb211addc10> True\n",
            "<keras.layers.core.activation.Activation object at 0x7fb3f5bc0390> True\n",
            "<keras.layers.convolutional.Conv2D object at 0x7fb3f5bde090> True\n",
            "<keras.layers.normalization.batch_normalization.BatchNormalization object at 0x7fb3f5bdea90> True\n",
            "<keras.layers.core.activation.Activation object at 0x7fb3f5bb3710> True\n",
            "<keras.layers.convolutional.Conv2D object at 0x7fb3f5bb3410> True\n",
            "<keras.layers.normalization.batch_normalization.BatchNormalization object at 0x7fb3f5bb3450> True\n",
            "<keras.layers.merge.Add object at 0x7fb3f5c84210> True\n",
            "<keras.layers.core.activation.Activation object at 0x7fb3f5bd5350> True\n",
            "<keras.layers.convolutional.Conv2D object at 0x7fb3f5ba5490> True\n",
            "<keras.layers.normalization.batch_normalization.BatchNormalization object at 0x7fb3f5c84d10> True\n",
            "<keras.layers.core.activation.Activation object at 0x7fb3f5c7de10> True\n",
            "<keras.layers.convolutional.Conv2D object at 0x7fb3f5c7d750> True\n",
            "<keras.layers.normalization.batch_normalization.BatchNormalization object at 0x7fb3f5c81410> True\n",
            "<keras.layers.core.activation.Activation object at 0x7fb3f5c81c50> True\n",
            "<keras.layers.convolutional.Conv2D object at 0x7fb3f5c81950> True\n",
            "<keras.layers.normalization.batch_normalization.BatchNormalization object at 0x7fb3f5c92550> True\n",
            "<keras.layers.merge.Add object at 0x7fb3f5bc0310> True\n",
            "<keras.layers.core.activation.Activation object at 0x7fb3f5bb16d0> True\n",
            "<keras.layers.convolutional.Conv2D object at 0x7fb211addc50> True\n",
            "<keras.layers.normalization.batch_normalization.BatchNormalization object at 0x7fb3f5bb10d0> True\n",
            "<keras.layers.core.activation.Activation object at 0x7fb211ae8750> True\n",
            "<keras.layers.convolutional.Conv2D object at 0x7fb211af0c50> True\n",
            "<keras.layers.normalization.batch_normalization.BatchNormalization object at 0x7fb49f602510> True\n",
            "<keras.layers.core.activation.Activation object at 0x7fb3dabed3d0> True\n",
            "<keras.layers.convolutional.Conv2D object at 0x7fb211a2c390> True\n",
            "<keras.layers.normalization.batch_normalization.BatchNormalization object at 0x7fb3f4549110> True\n",
            "<keras.layers.merge.Add object at 0x7fb3f5be1b50> True\n",
            "<keras.layers.core.activation.Activation object at 0x7fb3f5be1490> True\n",
            "<keras.layers.convolutional.Conv2D object at 0x7fb3f5c68390> True\n",
            "<keras.layers.normalization.batch_normalization.BatchNormalization object at 0x7fb3f5ca0ed0> True\n",
            "<keras.layers.core.activation.Activation object at 0x7fb211b99a10> True\n",
            "<keras.layers.convolutional.Conv2D object at 0x7fb211b99750> True\n",
            "<keras.layers.normalization.batch_normalization.BatchNormalization object at 0x7fb211b99cd0> True\n",
            "<keras.layers.core.activation.Activation object at 0x7fb211b8a0d0> True\n",
            "<keras.layers.convolutional.Conv2D object at 0x7fb211bbde10> True\n",
            "<keras.layers.normalization.batch_normalization.BatchNormalization object at 0x7fb211b8ad90> True\n",
            "<keras.layers.merge.Add object at 0x7fb211ba0dd0> True\n",
            "<keras.layers.core.activation.Activation object at 0x7fb211ba0710> True\n",
            "<keras.layers.convolutional.Conv2D object at 0x7fb4b00f1310> True\n",
            "<keras.layers.normalization.batch_normalization.BatchNormalization object at 0x7fb4b00f1f50> True\n",
            "<keras.layers.core.activation.Activation object at 0x7fb4b00f9990> True\n",
            "<keras.layers.convolutional.Conv2D object at 0x7fb4b00f1e90> True\n",
            "<keras.layers.normalization.batch_normalization.BatchNormalization object at 0x7fb4b00d7250> True\n",
            "<keras.layers.core.activation.Activation object at 0x7fb4b00c4410> True\n",
            "<keras.layers.convolutional.Conv2D object at 0x7fb4b00e4410> True\n",
            "<keras.layers.convolutional.Conv2D object at 0x7fb4b00f9950> True\n",
            "<keras.layers.normalization.batch_normalization.BatchNormalization object at 0x7fb211bb6e90> True\n",
            "<keras.layers.normalization.batch_normalization.BatchNormalization object at 0x7fb4b00c3190> True\n",
            "<keras.layers.merge.Add object at 0x7fb49c1bca90> True\n",
            "<keras.layers.core.activation.Activation object at 0x7fb49c1f6a90> True\n",
            "<keras.layers.convolutional.Conv2D object at 0x7fb49c1bc750> True\n",
            "<keras.layers.normalization.batch_normalization.BatchNormalization object at 0x7fb49c1ca6d0> True\n",
            "<keras.layers.core.activation.Activation object at 0x7fb49c1c6110> True\n",
            "<keras.layers.convolutional.Conv2D object at 0x7fb49c1c6590> True\n",
            "<keras.layers.normalization.batch_normalization.BatchNormalization object at 0x7fb49c1c6550> True\n",
            "<keras.layers.core.activation.Activation object at 0x7fb211bb6c10> True\n",
            "<keras.layers.convolutional.Conv2D object at 0x7fb4b00e4d90> True\n",
            "<keras.layers.normalization.batch_normalization.BatchNormalization object at 0x7fb211bb6650> True\n",
            "<keras.layers.merge.Add object at 0x7fb4b00c3f90> True\n",
            "<keras.layers.core.activation.Activation object at 0x7fb49c1ee4d0> True\n",
            "<keras.layers.convolutional.Conv2D object at 0x7fb3f5c8bd90> True\n",
            "<keras.layers.normalization.batch_normalization.BatchNormalization object at 0x7fb3f5c681d0> True\n",
            "<keras.layers.core.activation.Activation object at 0x7fb49f60a1d0> True\n",
            "<keras.layers.convolutional.Conv2D object at 0x7fb49f60a3d0> True\n",
            "<keras.layers.normalization.batch_normalization.BatchNormalization object at 0x7fb3f5bbcfd0> True\n",
            "<keras.layers.core.activation.Activation object at 0x7fb49f6116d0> True\n",
            "<keras.layers.convolutional.Conv2D object at 0x7fb3dabfb810> True\n",
            "<keras.layers.normalization.batch_normalization.BatchNormalization object at 0x7fb3f5c8b850> True\n",
            "<keras.layers.merge.Add object at 0x7fb49d735b50> True\n",
            "<keras.layers.core.activation.Activation object at 0x7fb4b00e0590> True\n",
            "<keras.layers.convolutional.Conv2D object at 0x7fb49d733f50> True\n",
            "<keras.layers.normalization.batch_normalization.BatchNormalization object at 0x7fb49d733a90> True\n",
            "<keras.layers.core.activation.Activation object at 0x7fb49cc04a10> True\n",
            "<keras.layers.convolutional.Conv2D object at 0x7fb49f429e10> True\n",
            "<keras.layers.normalization.batch_normalization.BatchNormalization object at 0x7fb49cc04cd0> True\n",
            "<keras.layers.core.activation.Activation object at 0x7fb49cc28510> True\n",
            "<keras.layers.convolutional.Conv2D object at 0x7fb49cc1d850> True\n",
            "<keras.layers.normalization.batch_normalization.BatchNormalization object at 0x7fb49cc31110> True\n",
            "<keras.layers.merge.Add object at 0x7fb49cc026d0> True\n",
            "<keras.layers.core.activation.Activation object at 0x7fb49cc2eb90> True\n",
            "<keras.layers.convolutional.Conv2D object at 0x7fb49cc26bd0> True\n",
            "<keras.layers.normalization.batch_normalization.BatchNormalization object at 0x7fb49cc26a50> True\n",
            "<keras.layers.core.activation.Activation object at 0x7fb49cbce310> True\n",
            "<keras.layers.convolutional.Conv2D object at 0x7fb49cbce850> True\n",
            "<keras.layers.normalization.batch_normalization.BatchNormalization object at 0x7fb49cbcef50> True\n",
            "<keras.layers.core.activation.Activation object at 0x7fb49cbe6790> True\n",
            "<keras.layers.convolutional.Conv2D object at 0x7fb49cbe6110> True\n",
            "<keras.layers.normalization.batch_normalization.BatchNormalization object at 0x7fb49cbfae50> True\n",
            "<keras.layers.merge.Add object at 0x7fb49cbc9090> True\n",
            "<keras.layers.core.activation.Activation object at 0x7fb49cbc9950> True\n",
            "<keras.layers.convolutional.Conv2D object at 0x7fb49cbec9d0> True\n",
            "<keras.layers.normalization.batch_normalization.BatchNormalization object at 0x7fb3f50f1c10> True\n",
            "<keras.layers.core.activation.Activation object at 0x7fb3f50e1110> True\n",
            "<keras.layers.convolutional.Conv2D object at 0x7fb3f50f8fd0> True\n",
            "<keras.layers.normalization.batch_normalization.BatchNormalization object at 0x7fb3f50e1510> True\n",
            "<keras.layers.core.activation.Activation object at 0x7fb49cbc8490> True\n",
            "<keras.layers.convolutional.Conv2D object at 0x7fb49cbe6d10> True\n",
            "<keras.layers.normalization.batch_normalization.BatchNormalization object at 0x7fb49cbc8510> True\n",
            "<keras.layers.merge.Add object at 0x7fb49cc2e410> True\n",
            "<keras.layers.core.activation.Activation object at 0x7fb49cbf7cd0> True\n",
            "<keras.layers.convolutional.Conv2D object at 0x7fb49d700890> True\n",
            "<keras.layers.normalization.batch_normalization.BatchNormalization object at 0x7fb49c1bcbd0> True\n",
            "<keras.layers.core.activation.Activation object at 0x7fb3dabd6950> True\n",
            "<keras.layers.convolutional.Conv2D object at 0x7fb211add690> True\n",
            "<keras.layers.normalization.batch_normalization.BatchNormalization object at 0x7fb3f5bdea50> True\n",
            "<keras.layers.core.activation.Activation object at 0x7fb4b00e4c90> True\n",
            "<keras.layers.convolutional.Conv2D object at 0x7fb211bb6e50> True\n",
            "<keras.layers.normalization.batch_normalization.BatchNormalization object at 0x7fb49f429fd0> True\n",
            "<keras.layers.merge.Add object at 0x7fb3f511ad90> True\n",
            "<keras.layers.core.activation.Activation object at 0x7fb3f511a6d0> True\n",
            "<keras.layers.convolutional.Conv2D object at 0x7fb211b98150> True\n",
            "<keras.layers.normalization.batch_normalization.BatchNormalization object at 0x7fb3f511a4d0> True\n",
            "<keras.layers.core.activation.Activation object at 0x7fb4565604d0> True\n",
            "<keras.layers.convolutional.Conv2D object at 0x7fb456560550> True\n",
            "<keras.layers.normalization.batch_normalization.BatchNormalization object at 0x7fb456560510> True\n",
            "<keras.layers.core.activation.Activation object at 0x7fb456533cd0> True\n",
            "<keras.layers.convolutional.Conv2D object at 0x7fb456533610> True\n",
            "<keras.layers.normalization.batch_normalization.BatchNormalization object at 0x7fb4565374d0> True\n",
            "<keras.layers.merge.Add object at 0x7fb45656a1d0> True\n",
            "<keras.layers.core.activation.Activation object at 0x7fb456540a50> True\n",
            "<keras.layers.convolutional.Conv2D object at 0x7fb45656bad0> True\n",
            "<keras.layers.normalization.batch_normalization.BatchNormalization object at 0x7fb45656a0d0> True\n",
            "<keras.layers.core.activation.Activation object at 0x7fb214069ed0> True\n",
            "<keras.layers.convolutional.Conv2D object at 0x7fb456534410> True\n",
            "<keras.layers.normalization.batch_normalization.BatchNormalization object at 0x7fb214069c10> True\n",
            "<keras.layers.core.activation.Activation object at 0x7fb2140732d0> True\n",
            "<keras.layers.convolutional.Conv2D object at 0x7fb2140730d0> True\n",
            "<keras.layers.normalization.batch_normalization.BatchNormalization object at 0x7fb21409db90> True\n",
            "<keras.layers.merge.Add object at 0x7fb21406a110> True\n",
            "<keras.layers.core.activation.Activation object at 0x7fb214093650> True\n",
            "<keras.layers.convolutional.Conv2D object at 0x7fb21406a090> True\n",
            "<keras.layers.normalization.batch_normalization.BatchNormalization object at 0x7fb21406a350> True\n",
            "<keras.layers.core.activation.Activation object at 0x7fb3dab619d0> True\n",
            "<keras.layers.convolutional.Conv2D object at 0x7fb214086950> True\n",
            "<keras.layers.normalization.batch_normalization.BatchNormalization object at 0x7fb3dab61a10> True\n",
            "<keras.layers.core.activation.Activation object at 0x7fb214093fd0> True\n",
            "<keras.layers.convolutional.Conv2D object at 0x7fb214093d50> True\n",
            "<keras.layers.normalization.batch_normalization.BatchNormalization object at 0x7fb21409d390> True\n",
            "<keras.layers.merge.Add object at 0x7fb456540f50> True\n",
            "<keras.layers.core.activation.Activation object at 0x7fb45656a5d0> True\n",
            "<keras.layers.convolutional.Conv2D object at 0x7fb49cbfefd0> True\n",
            "<keras.layers.normalization.batch_normalization.BatchNormalization object at 0x7fb3f510fa90> True\n",
            "<keras.layers.core.activation.Activation object at 0x7fb49cbc3cd0> True\n",
            "<keras.layers.convolutional.Conv2D object at 0x7fb49d700c50> True\n",
            "<keras.layers.normalization.batch_normalization.BatchNormalization object at 0x7fb49cc30890> True\n",
            "<keras.layers.core.activation.Activation object at 0x7fb49cbdd390> True\n",
            "<keras.layers.convolutional.Conv2D object at 0x7fb49d736250> True\n",
            "<keras.layers.normalization.batch_normalization.BatchNormalization object at 0x7fb49cbc8b50> True\n",
            "<keras.layers.merge.Add object at 0x7fb3dab63410> True\n",
            "<keras.layers.core.activation.Activation object at 0x7fb3f5110750> True\n",
            "<keras.layers.convolutional.Conv2D object at 0x7fb3dab63310> True\n",
            "<keras.layers.normalization.batch_normalization.BatchNormalization object at 0x7fb3dab6b2d0> True\n",
            "<keras.layers.core.activation.Activation object at 0x7fb3dab588d0> True\n",
            "<keras.layers.convolutional.Conv2D object at 0x7fb3dab5db10> True\n",
            "<keras.layers.normalization.batch_normalization.BatchNormalization object at 0x7fb3dab58c90> True\n",
            "<keras.layers.core.activation.Activation object at 0x7fb3f493d4d0> True\n",
            "<keras.layers.convolutional.Conv2D object at 0x7fb3f4943dd0> True\n",
            "<keras.layers.normalization.batch_normalization.BatchNormalization object at 0x7fb3f4959dd0> True\n",
            "<keras.layers.merge.Add object at 0x7fb3f495c690> True\n",
            "<keras.layers.core.activation.Activation object at 0x7fb3f493b390> True\n",
            "<keras.layers.convolutional.Conv2D object at 0x7fb3f4931c10> True\n",
            "<keras.layers.normalization.batch_normalization.BatchNormalization object at 0x7fb3f4931a10> True\n",
            "<keras.layers.core.activation.Activation object at 0x7fb49d779290> True\n",
            "<keras.layers.convolutional.Conv2D object at 0x7fb3f4947610> True\n",
            "<keras.layers.normalization.batch_normalization.BatchNormalization object at 0x7fb49d779f10> True\n",
            "<keras.layers.core.activation.Activation object at 0x7fb49d766750> True\n",
            "<keras.layers.convolutional.Conv2D object at 0x7fb49d7660d0> True\n",
            "<keras.layers.normalization.batch_normalization.BatchNormalization object at 0x7fb49d76a390> True\n",
            "<keras.layers.merge.Add object at 0x7fb49d7563d0> True\n",
            "<keras.layers.core.activation.Activation object at 0x7fb49d756210> True\n",
            "<keras.layers.convolutional.Conv2D object at 0x7fb49d778350> True\n",
            "<keras.layers.normalization.batch_normalization.BatchNormalization object at 0x7fb49d74da10> True\n",
            "<keras.layers.core.activation.Activation object at 0x7fb3f4103b10> True\n",
            "<keras.layers.convolutional.Conv2D object at 0x7fb49d752d50> True\n",
            "<keras.layers.normalization.batch_normalization.BatchNormalization object at 0x7fb3f4103790> True\n",
            "<keras.layers.core.activation.Activation object at 0x7fb49d74ab50> True\n",
            "<keras.layers.convolutional.Conv2D object at 0x7fb49d766cd0> True\n",
            "<keras.layers.normalization.batch_normalization.BatchNormalization object at 0x7fb49d7662d0> True\n",
            "<keras.layers.merge.Add object at 0x7fb3f495f1d0> True\n",
            "<keras.layers.core.activation.Activation object at 0x7fb3dab73250> True\n",
            "<keras.layers.convolutional.Conv2D object at 0x7fb3dab5df90> True\n",
            "<keras.layers.normalization.batch_normalization.BatchNormalization object at 0x7fb49d71c9d0> True\n",
            "<keras.layers.core.activation.Activation object at 0x7fb49cc02450> True\n",
            "<keras.layers.convolutional.Conv2D object at 0x7fb3dab5bed0> True\n",
            "<keras.layers.normalization.batch_normalization.BatchNormalization object at 0x7fb3f510f5d0> True\n",
            "<keras.layers.core.activation.Activation object at 0x7fb21407ae90> True\n",
            "<keras.layers.convolutional.Conv2D object at 0x7fb49d7358d0> True\n",
            "<keras.layers.normalization.batch_normalization.BatchNormalization object at 0x7fb49d778250> True\n",
            "<keras.layers.merge.Add object at 0x7fb3f40ece10> True\n",
            "<keras.layers.core.activation.Activation object at 0x7fb45656a590> True\n",
            "<keras.layers.convolutional.Conv2D object at 0x7fb49c1d6bd0> True\n",
            "<keras.layers.normalization.batch_normalization.BatchNormalization object at 0x7fb3f40ec0d0> True\n",
            "<keras.layers.core.activation.Activation object at 0x7fb3f40e4490> True\n",
            "<keras.layers.convolutional.Conv2D object at 0x7fb3f493eb50> True\n",
            "<keras.layers.normalization.batch_normalization.BatchNormalization object at 0x7fb3f40e4450> True\n",
            "<keras.layers.core.activation.Activation object at 0x7fb3f5c5e590> True\n",
            "<keras.layers.convolutional.Conv2D object at 0x7fb3f410f650> True\n",
            "<keras.layers.normalization.batch_normalization.BatchNormalization object at 0x7fb3f5c5e550> True\n",
            "<keras.layers.merge.Add object at 0x7fb3f5c47190> True\n",
            "<keras.layers.core.activation.Activation object at 0x7fb3f5c3be50> True\n",
            "<keras.layers.convolutional.Conv2D object at 0x7fb3f5c4e790> True\n",
            "<keras.layers.normalization.batch_normalization.BatchNormalization object at 0x7fb3f5c4e9d0> True\n",
            "<keras.layers.core.activation.Activation object at 0x7fb3dac80710> True\n",
            "<keras.layers.convolutional.Conv2D object at 0x7fb3f5c54ed0> True\n",
            "<keras.layers.normalization.batch_normalization.BatchNormalization object at 0x7fb3dac806d0> True\n",
            "<keras.layers.core.activation.Activation object at 0x7fb3dac49050> True\n",
            "<keras.layers.convolutional.Conv2D object at 0x7fb3dac5acd0> True\n",
            "<keras.layers.normalization.batch_normalization.BatchNormalization object at 0x7fb3f5c56690> True\n",
            "<keras.layers.merge.Add object at 0x7fb3dac6d150> True\n",
            "<keras.layers.core.activation.Activation object at 0x7fb3dac69550> True\n",
            "<keras.layers.convolutional.Conv2D object at 0x7fb3dac6d0d0> True\n",
            "<keras.layers.normalization.batch_normalization.BatchNormalization object at 0x7fb3dac791d0> True\n",
            "<keras.layers.core.activation.Activation object at 0x7fb2119de990> True\n",
            "<keras.layers.convolutional.Conv2D object at 0x7fb3dac61690> True\n",
            "<keras.layers.normalization.batch_normalization.BatchNormalization object at 0x7fb3dac82310> True\n",
            "<keras.layers.core.activation.Activation object at 0x7fb3f5c283d0> True\n",
            "<keras.layers.convolutional.Conv2D object at 0x7fb3dac4a950> True\n",
            "<keras.layers.normalization.batch_normalization.BatchNormalization object at 0x7fb3dac4add0> True\n",
            "<keras.layers.merge.Add object at 0x7fb2119de090> True\n",
            "<keras.layers.core.activation.Activation object at 0x7fb3f5c47590> True\n",
            "<keras.layers.convolutional.Conv2D object at 0x7fb49c1d6890> True\n",
            "<keras.layers.normalization.batch_normalization.BatchNormalization object at 0x7fb3f410f510> True\n",
            "<keras.layers.core.activation.Activation object at 0x7fb3f5c2b290> True\n",
            "<keras.layers.convolutional.Conv2D object at 0x7fb3f5c54c90> True\n",
            "<keras.layers.normalization.batch_normalization.BatchNormalization object at 0x7fb3dab63190> True\n",
            "<keras.layers.core.activation.Activation object at 0x7fb3f4943f90> True\n",
            "<keras.layers.convolutional.Conv2D object at 0x7fb3dab6b610> True\n",
            "<keras.layers.normalization.batch_normalization.BatchNormalization object at 0x7fb3f495c290> True\n",
            "<keras.layers.merge.Add object at 0x7fb2119c32d0> True\n",
            "<keras.layers.core.activation.Activation object at 0x7fb2119dc490> True\n",
            "<keras.layers.convolutional.Conv2D object at 0x7fb3f50e8590> True\n",
            "<keras.layers.normalization.batch_normalization.BatchNormalization object at 0x7fb2119e0250> True\n",
            "<keras.layers.core.activation.Activation object at 0x7fb2119f9890> True\n",
            "<keras.layers.convolutional.Conv2D object at 0x7fb2119f9dd0> True\n",
            "<keras.layers.normalization.batch_normalization.BatchNormalization object at 0x7fb2119f9c50> True\n",
            "<keras.layers.core.activation.Activation object at 0x7fb2119f1b50> True\n",
            "<keras.layers.convolutional.Conv2D object at 0x7fb2119f1e50> True\n",
            "<keras.layers.normalization.batch_normalization.BatchNormalization object at 0x7fb3f5ce2f90> True\n",
            "<keras.layers.merge.Add object at 0x7fb3f5cf0650> True\n",
            "<keras.layers.core.activation.Activation object at 0x7fb3f5d00510> True\n",
            "<keras.layers.convolutional.Conv2D object at 0x7fb3f5cf0510> True\n",
            "<keras.layers.normalization.batch_normalization.BatchNormalization object at 0x7fb3f5ce69d0> True\n",
            "<keras.layers.core.activation.Activation object at 0x7fb3f5cee250> True\n",
            "<keras.layers.convolutional.Conv2D object at 0x7fb3f5cf0690> True\n",
            "<keras.layers.normalization.batch_normalization.BatchNormalization object at 0x7fb3f5ceeed0> True\n",
            "<keras.layers.core.activation.Activation object at 0x7fb49d60fb10> True\n",
            "<keras.layers.convolutional.Conv2D object at 0x7fb49d60f450> True\n",
            "<keras.layers.normalization.batch_normalization.BatchNormalization object at 0x7fb49d6316d0> True\n",
            "<keras.layers.merge.Add object at 0x7fb49d62b7d0> True\n",
            "<keras.layers.core.activation.Activation object at 0x7fb49d61c910> True\n",
            "<keras.layers.convolutional.Conv2D object at 0x7fb49d61ce50> True\n",
            "<keras.layers.normalization.batch_normalization.BatchNormalization object at 0x7fb49d61cc10> True\n",
            "<keras.layers.core.activation.Activation object at 0x7fb49d61f050> True\n",
            "<keras.layers.convolutional.Conv2D object at 0x7fb49d622ad0> True\n",
            "<keras.layers.normalization.batch_normalization.BatchNormalization object at 0x7fb49d61f490> True\n",
            "<keras.layers.core.activation.Activation object at 0x7fb49d604b10> True\n",
            "<keras.layers.convolutional.Conv2D object at 0x7fb3f5cffe90> True\n",
            "<keras.layers.normalization.batch_normalization.BatchNormalization object at 0x7fb49d60f910> True\n",
            "<keras.layers.merge.Add object at 0x7fb3f5d1d090> True\n",
            "<keras.layers.core.activation.Activation object at 0x7fb2119f1ad0> True\n",
            "<keras.layers.convolutional.Conv2D object at 0x7fb3f5d00a50> True\n",
            "<keras.layers.normalization.batch_normalization.BatchNormalization object at 0x7fb2119f1950> True\n",
            "<keras.layers.core.activation.Activation object at 0x7fb49d747f10> True\n",
            "<keras.layers.convolutional.Conv2D object at 0x7fb3f5cf3ed0> True\n",
            "<keras.layers.normalization.batch_normalization.BatchNormalization object at 0x7fb2119dc550> True\n",
            "<keras.layers.core.activation.Activation object at 0x7fb3f5c5e150> True\n",
            "<keras.layers.convolutional.Conv2D object at 0x7fb3f40e6910> True\n",
            "<keras.layers.normalization.batch_normalization.BatchNormalization object at 0x7fb2119dc6d0> True\n",
            "<keras.layers.merge.Add object at 0x7fb3f42be750> True\n",
            "<keras.layers.core.activation.Activation object at 0x7fb3dac69050> True\n",
            "<keras.layers.convolutional.Conv2D object at 0x7fb3f40e6850> True\n",
            "<keras.layers.normalization.batch_normalization.BatchNormalization object at 0x7fb3f42bed50> True\n",
            "<keras.layers.core.activation.Activation object at 0x7fb3f42cb450> True\n",
            "<keras.layers.convolutional.Conv2D object at 0x7fb3f42cb4d0> True\n",
            "<keras.layers.normalization.batch_normalization.BatchNormalization object at 0x7fb3f42cb490> True\n",
            "<keras.layers.core.activation.Activation object at 0x7fb3f42dac50> True\n",
            "<keras.layers.convolutional.Conv2D object at 0x7fb3f42da590> True\n",
            "<keras.layers.normalization.batch_normalization.BatchNormalization object at 0x7fb3f4265450> True\n",
            "<keras.layers.merge.Add object at 0x7fb3f42946d0> True\n",
            "<keras.layers.core.activation.Activation object at 0x7fb3f42c5e10> True\n",
            "<keras.layers.convolutional.Conv2D object at 0x7fb3f4268050> True\n",
            "<keras.layers.normalization.batch_normalization.BatchNormalization object at 0x7fb3f42656d0> True\n",
            "<keras.layers.core.activation.Activation object at 0x7fb3f42956d0> True\n",
            "<keras.layers.convolutional.Conv2D object at 0x7fb3f4286e90> True\n",
            "<keras.layers.normalization.batch_normalization.BatchNormalization object at 0x7fb3f4295690> True\n",
            "<keras.layers.core.activation.Activation object at 0x7fb49cedd110> True\n",
            "<keras.layers.convolutional.Conv2D object at 0x7fb3f429ddd0> True\n",
            "<keras.layers.normalization.batch_normalization.BatchNormalization object at 0x7fb3f4277bd0> True\n",
            "<keras.layers.merge.Add object at 0x7fb49ceee150> True\n",
            "<keras.layers.core.activation.Activation object at 0x7fb49cedb1d0> True\n",
            "<keras.layers.convolutional.Conv2D object at 0x7fb49ceeea90> True\n",
            "<keras.layers.normalization.batch_normalization.BatchNormalization object at 0x7fb49cef9110> True\n",
            "<keras.layers.core.activation.Activation object at 0x7fb49cec1950> True\n",
            "<keras.layers.convolutional.Conv2D object at 0x7fb49cecc690> True\n",
            "<keras.layers.normalization.batch_normalization.BatchNormalization object at 0x7fb49cec1990> True\n",
            "<keras.layers.core.activation.Activation object at 0x7fb49cedbb10> True\n",
            "<keras.layers.convolutional.Conv2D object at 0x7fb49cedb610> True\n",
            "<keras.layers.normalization.batch_normalization.BatchNormalization object at 0x7fb3f4277850> True\n",
            "<keras.layers.merge.Add object at 0x7fb3f42a0ad0> True\n",
            "<keras.layers.core.activation.Activation object at 0x7fb3f42652d0> True\n",
            "<keras.layers.convolutional.Conv2D object at 0x7fb3f42ace50> True\n",
            "<keras.layers.normalization.batch_normalization.BatchNormalization object at 0x7fb3f42da210> True\n",
            "<keras.layers.core.activation.Activation object at 0x7fb3f5c5e3d0> True\n",
            "<keras.layers.convolutional.Conv2D object at 0x7fb49c1d6090> True\n",
            "<keras.layers.normalization.batch_normalization.BatchNormalization object at 0x7fb2119c7350> True\n",
            "<keras.layers.core.activation.Activation object at 0x7fb2119d7090> True\n",
            "<keras.layers.convolutional.Conv2D object at 0x7fb2119e0fd0> True\n",
            "<keras.layers.normalization.batch_normalization.BatchNormalization object at 0x7fb3f5cf0090> True\n",
            "<keras.layers.merge.Add object at 0x7fb3f428e250> True\n",
            "<keras.layers.core.activation.Activation object at 0x7fb49d309990> True\n",
            "<keras.layers.convolutional.Conv2D object at 0x7fb49d3147d0> True\n",
            "<keras.layers.normalization.batch_normalization.BatchNormalization object at 0x7fb3f428e590> True\n",
            "<keras.layers.core.activation.Activation object at 0x7fb2119d7910> True\n",
            "<keras.layers.convolutional.Conv2D object at 0x7fb49d309490> True\n",
            "<keras.layers.normalization.batch_normalization.BatchNormalization object at 0x7fb49d326b10> True\n",
            "<keras.layers.core.activation.Activation object at 0x7fb49d2fe5d0> True\n",
            "<keras.layers.convolutional.Conv2D object at 0x7fb49d2fe450> True\n",
            "<keras.layers.normalization.batch_normalization.BatchNormalization object at 0x7fb49d324dd0> True\n",
            "<keras.layers.merge.Add object at 0x7fb21186a0d0> True\n",
            "<keras.layers.core.activation.Activation object at 0x7fb21186aa10> True\n",
            "<keras.layers.convolutional.Conv2D object at 0x7fb21186cf10> True\n",
            "<keras.layers.normalization.batch_normalization.BatchNormalization object at 0x7fb49d302e50> True\n",
            "<keras.layers.core.activation.Activation object at 0x7fb2118495d0> True\n",
            "<keras.layers.convolutional.Conv2D object at 0x7fb211853e90> True\n",
            "<keras.layers.normalization.batch_normalization.BatchNormalization object at 0x7fb211853150> True\n",
            "<keras.layers.core.activation.Activation object at 0x7fb2118580d0> True\n",
            "<keras.layers.convolutional.Conv2D object at 0x7fb21185a210> True\n",
            "<keras.layers.normalization.batch_normalization.BatchNormalization object at 0x7fb211873dd0> True\n",
            "<keras.layers.merge.Add object at 0x7fb211853050> True\n",
            "<keras.layers.core.activation.Activation object at 0x7fb3f51dca10> True\n",
            "<keras.layers.convolutional.Conv2D object at 0x7fb211873410> True\n",
            "<keras.layers.normalization.batch_normalization.BatchNormalization object at 0x7fb3f51dcf10> True\n",
            "<keras.layers.core.activation.Activation object at 0x7fb3f51d6050> True\n",
            "<keras.layers.convolutional.Conv2D object at 0x7fb3f51d6450> True\n",
            "<keras.layers.normalization.batch_normalization.BatchNormalization object at 0x7fb3f51d6750> True\n",
            "<keras.layers.core.activation.Activation object at 0x7fb3f51b4290> True\n",
            "<keras.layers.convolutional.Conv2D object at 0x7fb3f51cef90> True\n",
            "<keras.layers.normalization.batch_normalization.BatchNormalization object at 0x7fb211858690> True\n",
            "<keras.layers.merge.Add object at 0x7fb49d2ff350> True\n",
            "<keras.layers.core.activation.Activation object at 0x7fb3f51d6810> True\n",
            "<keras.layers.convolutional.Conv2D object at 0x7fb49d309c50> True\n",
            "<keras.layers.normalization.batch_normalization.BatchNormalization object at 0x7fb49d309d10> True\n",
            "<keras.layers.core.activation.Activation object at 0x7fb49d60f250> True\n",
            "<keras.layers.convolutional.Conv2D object at 0x7fb2119f12d0> True\n",
            "<keras.layers.normalization.batch_normalization.BatchNormalization object at 0x7fb2119dcdd0> True\n",
            "<keras.layers.core.activation.Activation object at 0x7fb3f4265150> True\n",
            "<keras.layers.convolutional.Conv2D object at 0x7fb3f429d910> True\n",
            "<keras.layers.normalization.batch_normalization.BatchNormalization object at 0x7fb3f42c09d0> True\n",
            "<keras.layers.merge.Add object at 0x7fb3f51a2110> True\n",
            "<keras.layers.core.activation.Activation object at 0x7fb49cedbe50> True\n",
            "<keras.layers.convolutional.Conv2D object at 0x7fb3db79b990> True\n",
            "<keras.layers.normalization.batch_normalization.BatchNormalization object at 0x7fb3f51a4f50> True\n",
            "<keras.layers.core.activation.Activation object at 0x7fb3db7a62d0> True\n",
            "<keras.layers.convolutional.Conv2D object at 0x7fb3db78ca50> True\n",
            "<keras.layers.normalization.batch_normalization.BatchNormalization object at 0x7fb3db7a6450> True\n",
            "<keras.layers.core.activation.Activation object at 0x7fb3db7c4550> True\n",
            "<keras.layers.convolutional.Conv2D object at 0x7fb3db79e0d0> True\n",
            "<keras.layers.normalization.batch_normalization.BatchNormalization object at 0x7fb3db7c4510> True\n",
            "<keras.layers.merge.Add object at 0x7fb3db799150> True\n",
            "<keras.layers.core.activation.Activation object at 0x7fb3db7b5e10> True\n",
            "<keras.layers.convolutional.Conv2D object at 0x7fb3db7a12d0> True\n",
            "<keras.layers.normalization.batch_normalization.BatchNormalization object at 0x7fb3db7a1550> True\n",
            "<keras.layers.core.activation.Activation object at 0x7fb211b6b6d0> True\n",
            "<keras.layers.convolutional.Conv2D object at 0x7fb3db7b7e90> True\n",
            "<keras.layers.normalization.batch_normalization.BatchNormalization object at 0x7fb211b6b690> True\n",
            "<keras.layers.core.activation.Activation object at 0x7fb211b506d0> True\n",
            "<keras.layers.convolutional.Conv2D object at 0x7fb3db7b6f50> True\n",
            "<keras.layers.normalization.batch_normalization.BatchNormalization object at 0x7fb211b45bd0> True\n",
            "<keras.layers.merge.Add object at 0x7fb211b56f90> True\n",
            "<keras.layers.core.activation.Activation object at 0x7fb211b491d0> True\n",
            "<keras.layers.convolutional.Conv2D object at 0x7fb211b56110> True\n",
            "<keras.layers.normalization.batch_normalization.BatchNormalization object at 0x7fb49c109110> True\n",
            "<keras.layers.core.activation.Activation object at 0x7fb49c12a950> True\n",
            "<keras.layers.convolutional.Conv2D object at 0x7fb211b6a690> True\n",
            "<keras.layers.normalization.batch_normalization.BatchNormalization object at 0x7fb49c12a990> True\n",
            "<keras.layers.core.activation.Activation object at 0x7fb211536ad0> True\n",
            "<keras.layers.convolutional.Conv2D object at 0x7fb211508110> True\n",
            "<keras.layers.normalization.batch_normalization.BatchNormalization object at 0x7fb211edb910> True\n",
            "<keras.layers.merge.Add object at 0x7fb49d0f2d10> True\n",
            "<keras.layers.core.activation.Activation object at 0x7fb4570d6c50> True\n",
            "<keras.layers.convolutional.Conv2D object at 0x7fb3da1a2ed0> True\n",
            "<keras.layers.normalization.batch_normalization.BatchNormalization object at 0x7fb3f5b4cc50> True\n",
            "<keras.layers.core.activation.Activation object at 0x7fb211f75e50> True\n",
            "<keras.layers.convolutional.Conv2D object at 0x7fb3dada97d0> True\n",
            "<keras.layers.normalization.batch_normalization.BatchNormalization object at 0x7fb210f58610> True\n",
            "<keras.layers.core.activation.Activation object at 0x7fb457555c10> True\n",
            "<keras.layers.convolutional.Conv2D object at 0x7fb49c0c6ed0> True\n",
            "<keras.layers.normalization.batch_normalization.BatchNormalization object at 0x7fb3f5af2d50> True\n",
            "<keras.layers.merge.Add object at 0x7fb49d061150> True\n",
            "<keras.layers.core.activation.Activation object at 0x7fb457120790> True\n",
            "<keras.layers.convolutional.Conv2D object at 0x7fb211b45310> True\n",
            "<keras.layers.normalization.batch_normalization.BatchNormalization object at 0x7fb211b49090> True\n",
            "<keras.layers.core.activation.Activation object at 0x7fb49c12a6d0> True\n",
            "<keras.layers.convolutional.Conv2D object at 0x7fb49d6ea350> True\n",
            "<keras.layers.normalization.batch_normalization.BatchNormalization object at 0x7fb49d622510> True\n",
            "<keras.layers.core.activation.Activation object at 0x7fb2119e31d0> True\n",
            "<keras.layers.convolutional.Conv2D object at 0x7fb49d74db90> True\n",
            "<keras.layers.normalization.batch_normalization.BatchNormalization object at 0x7fb2140864d0> True\n",
            "<keras.layers.merge.Add object at 0x7fb3f50e1f90> True\n",
            "<keras.layers.core.activation.Activation object at 0x7fb49c1eb250> True\n",
            "<keras.layers.convolutional.Conv2D object at 0x7fb3dabd31d0> True\n",
            "<keras.layers.normalization.batch_normalization.BatchNormalization object at 0x7fb211a9d950> True\n",
            "<keras.layers.core.activation.Activation object at 0x7fb49d6f4cd0> True\n",
            "<keras.layers.convolutional.Conv2D object at 0x7fb49d6f65d0> True\n",
            "<keras.layers.normalization.batch_normalization.BatchNormalization object at 0x7fb457275b10> True\n",
            "<keras.layers.core.activation.Activation object at 0x7fb49d6d25d0> True\n",
            "<keras.layers.convolutional.Conv2D object at 0x7fb49c1f6d50> True\n",
            "<keras.layers.convolutional.Conv2D object at 0x7fb3f5d99750> True\n",
            "<keras.layers.normalization.batch_normalization.BatchNormalization object at 0x7fb211a36090> True\n",
            "<keras.layers.normalization.batch_normalization.BatchNormalization object at 0x7fb211a80190> True\n",
            "<keras.layers.merge.Add object at 0x7fb3dad87b50> True\n",
            "<keras.layers.core.activation.Activation object at 0x7fb457293610> True\n",
            "<keras.layers.convolutional.Conv2D object at 0x7fb457807690> True\n",
            "<keras.layers.normalization.batch_normalization.BatchNormalization object at 0x7fb211a92490> True\n",
            "<keras.layers.core.activation.Activation object at 0x7fb211a92a10> True\n",
            "<keras.layers.convolutional.Conv2D object at 0x7fb3f5d99410> True\n",
            "<keras.layers.normalization.batch_normalization.BatchNormalization object at 0x7fb49d6d2190> True\n",
            "<keras.layers.core.activation.Activation object at 0x7fb49c1f6890> True\n",
            "<keras.layers.convolutional.Conv2D object at 0x7fb3f5c924d0> True\n",
            "<keras.layers.normalization.batch_normalization.BatchNormalization object at 0x7fb49d61ff90> True\n",
            "<keras.layers.merge.Add object at 0x7fb4574c1250> True\n",
            "<keras.layers.core.activation.Activation object at 0x7fb49cee0650> True\n",
            "<keras.layers.convolutional.Conv2D object at 0x7fb49f1d5d50> True\n",
            "<keras.layers.normalization.batch_normalization.BatchNormalization object at 0x7fb20fba7f90> True\n",
            "<keras.layers.core.activation.Activation object at 0x7fb49f447290> True\n",
            "<keras.layers.convolutional.Conv2D object at 0x7fb457123b50> True\n",
            "<keras.layers.normalization.batch_normalization.BatchNormalization object at 0x7fb457817790> True\n",
            "<keras.layers.core.activation.Activation object at 0x7fb20ee5f550> True\n",
            "<keras.layers.convolutional.Conv2D object at 0x7fb20ee5fe10> True\n",
            "<keras.layers.normalization.batch_normalization.BatchNormalization object at 0x7fb20ee3fc90> True\n",
            "<keras.layers.merge.Add object at 0x7fb4570f7750> True\n",
            "<keras.layers.core.activation.Activation object at 0x7fb211906810> True\n",
            "<keras.layers.pooling.GlobalMaxPooling2D object at 0x7fb49c1f6dd0> True\n"
          ]
        }
      ]
    },
    {
      "cell_type": "code",
      "metadata": {
        "colab": {
          "base_uri": "https://localhost:8080/",
          "height": 298
        },
        "outputId": "26d1f0bc-0bd5-4d1e-e4d0-fd9f240adf32",
        "id": "MW2ZT80RJlgf"
      },
      "source": [
        "category_names = sorted(os.listdir(train_data_dir))\n",
        "nb_categories = len(category_names)\n",
        "img_pr_cat = []\n",
        "for category in category_names:\n",
        "    folder = train_data_dir + '/' + category\n",
        "    img_pr_cat.append(len(os.listdir(folder)))\n",
        "sns.barplot(y=category_names, x=img_pr_cat).set_title(\"Number of training images per category:\")"
      ],
      "execution_count": null,
      "outputs": [
        {
          "output_type": "execute_result",
          "data": {
            "text/plain": [
              "Text(0.5, 1.0, 'Number of training images per category:')"
            ]
          },
          "metadata": {},
          "execution_count": 84
        },
        {
          "output_type": "display_data",
          "data": {
            "text/plain": [
              "<Figure size 432x288 with 1 Axes>"
            ],
            "image/png": "[encoded data removed]"
          },
          "metadata": {
            "needs_background": "light"
          }
        }
      ]
    },
    {
      "cell_type": "code",
      "metadata": {
        "colab": {
          "base_uri": "https://localhost:8080/"
        },
        "outputId": "1e259a56-f8a0-4614-e5e7-c268ece76ebe",
        "id": "xSt8247EJlgf"
      },
      "source": [
        "model = Sequential()\n",
        "model.add(conv_base)\n",
        "model.add(Dense(nb_categories, activation='softmax'))\n",
        "model.summary()\n",
        "\n",
        "\n",
        "# for layer in conv_base.layers:\n",
        "#   layer.trainable = False\n",
        "  \n",
        "\n",
        "  \n",
        "\n",
        "# #folders = glob('/content/drive/My Drive/datasets_image/brain_tumor/train/*')\n",
        "  \n",
        "\n",
        "\n",
        "# x = Flatten()(conv_base.output)\n",
        "\n",
        "# prediction = Dense(nb_categories, activation='softmax')(x)\n",
        "\n",
        "# model = Model(inputs=conv_base.input, outputs=prediction)\n",
        "\n",
        "\n",
        "# model.summary()"
      ],
      "execution_count": null,
      "outputs": [
        {
          "output_type": "stream",
          "name": "stdout",
          "text": [
            "Model: \"sequential_5\"\n",
            "_________________________________________________________________\n",
            " Layer (type)                Output Shape              Param #   \n",
            "=================================================================\n",
            " resnet152 (Functional)      (None, 2048)              58370944  \n",
            "                                                                 \n",
            " dense_5 (Dense)             (None, 3)                 6147      \n",
            "                                                                 \n",
            "=================================================================\n",
            "Total params: 58,377,091\n",
            "Trainable params: 58,225,667\n",
            "Non-trainable params: 151,424\n",
            "_________________________________________________________________\n"
          ]
        }
      ]
    },
    {
      "cell_type": "code",
      "metadata": {
        "id": "FKirhK-fJlgf"
      },
      "source": [
        "#Number of images to load at each iteration\n",
        "batch_size = 32\n",
        "# only rescaling\n",
        "train_datagen = ImageDataGenerator(\n",
        "        rescale=1./255,\n",
        "        rotation_range=10,\n",
        "        zoom_range=0.1,\n",
        "        width_shift_range=0.1,\n",
        "        height_shift_range=0.1,\n",
        "        horizontal_flip=False,\n",
        "        brightness_range = (0.9,1.1),\n",
        "        fill_mode='nearest'\n",
        "        )\n",
        "test_datagen =  ImageDataGenerator(\n",
        "    rescale=1./255\n",
        ")"
      ],
      "execution_count": null,
      "outputs": []
    },
    {
      "cell_type": "code",
      "metadata": {
        "colab": {
          "base_uri": "https://localhost:8080/"
        },
        "outputId": "50087b13-5372-4832-a3a1-26ca915540bb",
        "id": "ymRazpTcJlgg"
      },
      "source": [
        "print('Total number of images for \"training\":')\n",
        "train_generator = train_datagen.flow_from_directory(\n",
        "train_data_dir,\n",
        "target_size = (img_height, img_width),\n",
        "batch_size = batch_size, \n",
        "class_mode = \"categorical\")\n",
        "print('Total number of images for \"validation\":')\n",
        "val_generator = test_datagen.flow_from_directory(\n",
        "val_data_dir,\n",
        "target_size = (img_height, img_width),\n",
        "batch_size = batch_size,\n",
        "class_mode = \"categorical\",\n",
        "shuffle=False)\n",
        "print('Total number of images for \"testing\":')\n",
        "test_generator = test_datagen.flow_from_directory(\n",
        "test_data_dir,\n",
        "target_size = (img_height, img_width),\n",
        "batch_size = batch_size,\n",
        "class_mode = \"categorical\",\n",
        "shuffle=False)"
      ],
      "execution_count": null,
      "outputs": [
        {
          "output_type": "stream",
          "name": "stdout",
          "text": [
            "Total number of images for \"training\":\n",
            "Found 303 images belonging to 3 classes.\n",
            "Total number of images for \"validation\":\n",
            "Found 63 images belonging to 3 classes.\n",
            "Total number of images for \"testing\":\n",
            "Found 63 images belonging to 3 classes.\n"
          ]
        }
      ]
    },
    {
      "cell_type": "code",
      "metadata": {
        "id": "v5A1Vc5NJlgg"
      },
      "source": [],
      "execution_count": null,
      "outputs": []
    },
    {
      "cell_type": "code",
      "metadata": {
        "id": "l2s46VP3Jlgg"
      },
      "source": [],
      "execution_count": null,
      "outputs": []
    },
    {
      "cell_type": "code",
      "metadata": {
        "id": "UqDFl6iZJlgg"
      },
      "source": [],
      "execution_count": null,
      "outputs": []
    },
    {
      "cell_type": "code",
      "metadata": {
        "id": "MPZkl1d7Jlgg"
      },
      "source": [],
      "execution_count": null,
      "outputs": []
    },
    {
      "cell_type": "code",
      "metadata": {
        "id": "80h1cdLwJlgg"
      },
      "source": [
        "learning_rate = .00001\n",
        "epochs =1000\n",
        "#checkpoint = ModelCheckpoint(\"sign_classifier.h5\", monitor = 'val_acc', verbose=1, save_best_only=True, save_weights_only=False, mode='auto', period=1)\n",
        "model.compile(loss=\"categorical_crossentropy\", optimizer=tf.keras.optimizers.Adam(learning_rate=learning_rate), metrics = ['acc','AUC'])\n",
        "\n",
        "\n"
      ],
      "execution_count": null,
      "outputs": []
    },
    {
      "cell_type": "code",
      "metadata": {
        "id": "JeJfXALsJlgg"
      },
      "source": [],
      "execution_count": null,
      "outputs": []
    },
    {
      "cell_type": "code",
      "metadata": {
        "colab": {
          "base_uri": "https://localhost:8080/"
        },
        "outputId": "b502afa7-a0db-4ebe-b038-e78560bb093d",
        "id": "92POx6GrJlgg"
      },
      "source": [
        "history = model.fit_generator(train_generator, \n",
        "                              epochs=epochs, \n",
        "                              shuffle=True, \n",
        "                              validation_data=val_generator,\n",
        "                              callbacks=[keras.callbacks.EarlyStopping(monitor=\"val_loss\",patience=30,verbose=2,restore_best_weights=True)])"
      ],
      "execution_count": null,
      "outputs": [
        {
          "output_type": "stream",
          "name": "stderr",
          "text": [
            "/usr/local/lib/python3.7/dist-packages/ipykernel_launcher.py:5: UserWarning: `Model.fit_generator` is deprecated and will be removed in a future version. Please use `Model.fit`, which supports generators.\n",
            "  \"\"\"\n"
          ]
        },
        {
          "output_type": "stream",
          "name": "stdout",
          "text": [
            "Epoch 1/1000\n",
            "10/10 [==============================] - 29s 1s/step - loss: 2.6607 - acc: 0.6271 - auc: 0.7609 - val_loss: 1.3871 - val_acc: 0.3333 - val_auc: 0.5429\n",
            "Epoch 2/1000\n",
            "10/10 [==============================] - 12s 1s/step - loss: 0.5768 - acc: 0.8779 - auc: 0.9539 - val_loss: 1.3791 - val_acc: 0.3333 - val_auc: 0.5620\n",
            "Epoch 3/1000\n",
            "10/10 [==============================] - 11s 1s/step - loss: 0.1818 - acc: 0.9406 - auc: 0.9906 - val_loss: 1.9508 - val_acc: 0.3333 - val_auc: 0.5305\n",
            "Epoch 4/1000\n",
            "10/10 [==============================] - 11s 1s/step - loss: 0.1368 - acc: 0.9571 - auc: 0.9950 - val_loss: 3.9411 - val_acc: 0.3333 - val_auc: 0.5091\n",
            "Epoch 5/1000\n",
            "10/10 [==============================] - 11s 1s/step - loss: 0.0809 - acc: 0.9802 - auc: 0.9970 - val_loss: 6.3771 - val_acc: 0.3333 - val_auc: 0.5000\n",
            "Epoch 6/1000\n",
            "10/10 [==============================] - 11s 1s/step - loss: 0.1348 - acc: 0.9703 - auc: 0.9894 - val_loss: 8.3156 - val_acc: 0.3333 - val_auc: 0.5000\n",
            "Epoch 7/1000\n",
            "10/10 [==============================] - 12s 1s/step - loss: 0.0086 - acc: 0.9967 - auc: 1.0000 - val_loss: 9.7055 - val_acc: 0.3333 - val_auc: 0.5000\n",
            "Epoch 8/1000\n",
            "10/10 [==============================] - 11s 1s/step - loss: 0.0670 - acc: 0.9835 - auc: 0.9947 - val_loss: 12.9259 - val_acc: 0.3333 - val_auc: 0.5000\n",
            "Epoch 9/1000\n",
            "10/10 [==============================] - 11s 1s/step - loss: 0.0394 - acc: 0.9868 - auc: 0.9996 - val_loss: 15.3528 - val_acc: 0.3333 - val_auc: 0.5000\n",
            "Epoch 10/1000\n",
            "10/10 [==============================] - 11s 1s/step - loss: 0.0343 - acc: 0.9835 - auc: 0.9997 - val_loss: 16.1310 - val_acc: 0.3333 - val_auc: 0.5000\n",
            "Epoch 11/1000\n",
            "10/10 [==============================] - 11s 1s/step - loss: 0.0417 - acc: 0.9868 - auc: 0.9997 - val_loss: 17.6204 - val_acc: 0.3333 - val_auc: 0.5000\n",
            "Epoch 12/1000\n",
            "10/10 [==============================] - 11s 1s/step - loss: 0.0083 - acc: 0.9967 - auc: 1.0000 - val_loss: 18.2037 - val_acc: 0.3333 - val_auc: 0.5000\n",
            "Epoch 13/1000\n",
            "10/10 [==============================] - 11s 1s/step - loss: 0.0273 - acc: 0.9934 - auc: 0.9975 - val_loss: 18.3403 - val_acc: 0.3333 - val_auc: 0.5000\n",
            "Epoch 14/1000\n",
            "10/10 [==============================] - 11s 1s/step - loss: 0.0073 - acc: 0.9967 - auc: 1.0000 - val_loss: 17.8252 - val_acc: 0.3333 - val_auc: 0.5000\n",
            "Epoch 15/1000\n",
            "10/10 [==============================] - 11s 1s/step - loss: 0.0070 - acc: 0.9967 - auc: 1.0000 - val_loss: 17.2844 - val_acc: 0.3333 - val_auc: 0.5000\n",
            "Epoch 16/1000\n",
            "10/10 [==============================] - 11s 1s/step - loss: 0.0076 - acc: 0.9967 - auc: 1.0000 - val_loss: 15.8553 - val_acc: 0.3333 - val_auc: 0.5000\n",
            "Epoch 17/1000\n",
            "10/10 [==============================] - 11s 1s/step - loss: 0.0265 - acc: 0.9901 - auc: 0.9998 - val_loss: 14.7108 - val_acc: 0.3333 - val_auc: 0.5000\n",
            "Epoch 18/1000\n",
            "10/10 [==============================] - 11s 1s/step - loss: 0.0321 - acc: 0.9934 - auc: 0.9974 - val_loss: 13.6347 - val_acc: 0.3333 - val_auc: 0.5000\n",
            "Epoch 19/1000\n",
            "10/10 [==============================] - 11s 1s/step - loss: 0.0088 - acc: 0.9967 - auc: 1.0000 - val_loss: 13.5748 - val_acc: 0.3333 - val_auc: 0.5000\n",
            "Epoch 20/1000\n",
            "10/10 [==============================] - 12s 1s/step - loss: 0.0319 - acc: 0.9934 - auc: 0.9974 - val_loss: 13.7283 - val_acc: 0.3333 - val_auc: 0.4764\n",
            "Epoch 21/1000\n",
            "10/10 [==============================] - 11s 1s/step - loss: 0.0070 - acc: 0.9934 - auc: 1.0000 - val_loss: 13.8729 - val_acc: 0.3333 - val_auc: 0.4965\n",
            "Epoch 22/1000\n",
            "10/10 [==============================] - 11s 1s/step - loss: 0.0176 - acc: 0.9901 - auc: 0.9999 - val_loss: 13.8111 - val_acc: 0.3333 - val_auc: 0.5008\n",
            "Epoch 23/1000\n",
            "10/10 [==============================] - 14s 1s/step - loss: 0.0281 - acc: 0.9934 - auc: 0.9975 - val_loss: 13.9275 - val_acc: 0.3333 - val_auc: 0.5211\n",
            "Epoch 24/1000\n",
            "10/10 [==============================] - 11s 1s/step - loss: 0.0075 - acc: 0.9934 - auc: 1.0000 - val_loss: 14.7237 - val_acc: 0.3333 - val_auc: 0.4960\n",
            "Epoch 25/1000\n",
            "10/10 [==============================] - 11s 1s/step - loss: 0.0049 - acc: 0.9967 - auc: 1.0000 - val_loss: 14.6369 - val_acc: 0.3333 - val_auc: 0.4728\n",
            "Epoch 26/1000\n",
            "10/10 [==============================] - 12s 1s/step - loss: 0.0273 - acc: 0.9901 - auc: 0.9999 - val_loss: 15.3153 - val_acc: 0.3333 - val_auc: 0.4717\n",
            "Epoch 27/1000\n",
            "10/10 [==============================] - 12s 1s/step - loss: 0.0058 - acc: 0.9967 - auc: 1.0000 - val_loss: 15.0909 - val_acc: 0.3333 - val_auc: 0.4635\n",
            "Epoch 28/1000\n",
            "10/10 [==============================] - 14s 1s/step - loss: 0.0301 - acc: 0.9967 - auc: 0.9975 - val_loss: 14.9348 - val_acc: 0.3333 - val_auc: 0.4540\n",
            "Epoch 29/1000\n",
            "10/10 [==============================] - 11s 1s/step - loss: 0.0039 - acc: 1.0000 - auc: 1.0000 - val_loss: 15.7710 - val_acc: 0.3333 - val_auc: 0.4429\n",
            "Epoch 30/1000\n",
            "10/10 [==============================] - 13s 1s/step - loss: 0.0127 - acc: 0.9967 - auc: 1.0000 - val_loss: 16.9840 - val_acc: 0.3333 - val_auc: 0.4546\n",
            "Epoch 31/1000\n",
            "10/10 [==============================] - 11s 1s/step - loss: 0.0021 - acc: 1.0000 - auc: 1.0000 - val_loss: 17.3573 - val_acc: 0.3333 - val_auc: 0.4381\n",
            "Epoch 32/1000\n",
            "10/10 [==============================] - ETA: 0s - loss: 0.0061 - acc: 0.9967 - auc: 1.0000Restoring model weights from the end of the best epoch: 2.\n",
            "10/10 [==============================] - 12s 1s/step - loss: 0.0061 - acc: 0.9967 - auc: 1.0000 - val_loss: 17.4120 - val_acc: 0.2540 - val_auc: 0.4052\n",
            "Epoch 32: early stopping\n"
          ]
        }
      ]
    },
    {
      "cell_type": "code",
      "metadata": {
        "colab": {
          "base_uri": "https://localhost:8080/",
          "height": 809
        },
        "outputId": "ee562957-64f2-4443-a03c-c68100978fc9",
        "id": "Mr4dvM9IJlgg"
      },
      "source": [
        "acc = history.history['acc']\n",
        "val_acc = history.history['val_acc']\n",
        "loss = history.history['loss']\n",
        "val_loss = history.history['val_loss']\n",
        "AUC = history.history['auc']\n",
        "val_AUC = history.history['val_auc']\n",
        "\n",
        "epochs = range(1,len(acc)+1)\n",
        "\n",
        "plt.figure()\n",
        "plt.plot(epochs, acc, 'b', label = 'Training accuracy')\n",
        "plt.plot(epochs, val_acc, 'r', label='Validation accuracy')\n",
        "plt.title('Training and validation accuracy')\n",
        "plt.legend()\n",
        "plt.ylim([0, 1.1])\n",
        "plt.savefig('Accuracy.png')\n",
        "\n",
        "plt.figure()\n",
        "plt.plot(epochs, loss, 'b', label = 'Training loss')\n",
        "plt.plot(epochs, val_loss, 'r', label='Validation loss')\n",
        "plt.title('Training and validation loss')\n",
        "plt.legend()\n",
        "plt.ylim([0, 1.1])\n",
        "plt.savefig('Loss.png')\n",
        "\n",
        "plt.figure()\n",
        "plt.plot(epochs, AUC, 'b', label = 'Training AUC')\n",
        "plt.plot(epochs, val_AUC, 'r', label='Validation AUC')\n",
        "plt.title('Training and validation AUC')\n",
        "plt.legend()\n",
        "plt.ylim([0, 1.1])\n",
        "plt.savefig('AUC.png')\n"
      ],
      "execution_count": null,
      "outputs": [
        {
          "output_type": "display_data",
          "data": {
            "text/plain": [
              "<Figure size 432x288 with 1 Axes>"
            ],
            "image/png": "[encoded data removed]"
          },
          "metadata": {
            "needs_background": "light"
          }
        },
        {
          "output_type": "display_data",
          "data": {
            "text/plain": [
              "<Figure size 432x288 with 1 Axes>"
            ],
            "image/png": "[encoded data removed]"
          },
          "metadata": {
            "needs_background": "light"
          }
        },
        {
          "output_type": "display_data",
          "data": {
            "text/plain": [
              "<Figure size 432x288 with 1 Axes>"
            ],
            "image/png": "[encoded data removed]"
          },
          "metadata": {
            "needs_background": "light"
          }
        }
      ]
    },
    {
      "cell_type": "code",
      "metadata": {
        "id": "npRTItCkJlgh"
      },
      "source": [
        "import numpy as np\n",
        "import matplotlib.pyplot as plt\n",
        "def plot_confusion_matrix(cm, classes, figname,\n",
        " normalize=False,\n",
        " title='Confusion matrix',\n",
        " cmap=plt.cm.Blues):\n",
        "#  “””\n",
        "#  This function prints and plots the confusion matrix.\n",
        "#  Normalization can be applied by setting `normalize=True`.\n",
        "#  “””\n",
        " import numpy as np\n",
        " import matplotlib.pyplot as plt\n",
        " import itertools\n",
        " if normalize:\n",
        "  cm = cm.astype('float')/cm.sum(axis=1)[:, np.newaxis]\n",
        "  print('Normalized confusion matrix')\n",
        " else:\n",
        "  print('Confusion matrix, without normalization')\n",
        "  \n",
        " plt.figure(figsize=(8,8))\n",
        " plt.imshow(cm, interpolation='nearest', cmap=cmap)\n",
        " plt.title(title)\n",
        " #plt.colorbar()\n",
        " tick_marks = np.arange(len(classes))\n",
        " plt.xticks(tick_marks, classes, rotation=90)\n",
        " plt.yticks(tick_marks, classes)\n",
        " fmt = '.2f' if normalize else 'd'\n",
        " thresh = cm.max() / 2.\n",
        " for i, j in itertools.product(range(cm.shape[0]), range(cm.shape[1])):\n",
        "  plt.text(j, i, format(cm[i, j], fmt),\n",
        "  horizontalalignment='center',\n",
        "  color='white' if cm[i, j] > thresh else 'black')\n",
        " plt.ylabel('True label')\n",
        " plt.xlabel('Predicted label')\n",
        " plt.tight_layout()\n",
        " plt.savefig(figname)"
      ],
      "execution_count": null,
      "outputs": []
    },
    {
      "cell_type": "code",
      "metadata": {
        "colab": {
          "base_uri": "https://localhost:8080/"
        },
        "outputId": "4aba7932-75f8-4aa2-f35d-7bc9cdc37d99",
        "id": "XQuyTlKkJlgh"
      },
      "source": [
        "Y_pred = model.predict_generator(test_generator)\n",
        "y_pred = np.argmax(Y_pred, axis=1)\n",
        "\n",
        "cm = confusion_matrix(test_generator.classes, y_pred)\n",
        "#plot_confusion_matrix(cm, labels = category_names, title='Confusion Matrix', normalize=False, figname = 'Confusion_matrix_concrete.jpg')\n",
        "#plot_confusion_matrix(cm, labels = category_names,  normalize=False)#, figname = 'Confusion_matrix_concrete.jpg', title='Confusion Matrix'\n",
        "\n",
        "#plot_confusion_matrix(X = test_generator.classes, y_true = y_pred,labels= category_names, normalize=False)"
      ],
      "execution_count": null,
      "outputs": [
        {
          "output_type": "stream",
          "name": "stderr",
          "text": [
            "/usr/local/lib/python3.7/dist-packages/ipykernel_launcher.py:1: UserWarning: `Model.predict_generator` is deprecated and will be removed in a future version. Please use `Model.predict`, which supports generators.\n",
            "  \"\"\"Entry point for launching an IPython kernel.\n",
            "WARNING:tensorflow:6 out of the last 11 calls to <function Model.make_predict_function.<locals>.predict_function at 0x7fb49ff95ef0> triggered tf.function retracing. Tracing is expensive and the excessive number of tracings could be due to (1) creating @tf.function repeatedly in a loop, (2) passing tensors with different shapes, (3) passing Python objects instead of tensors. For (1), please define your @tf.function outside of the loop. For (2), @tf.function has experimental_relax_shapes=True option that relaxes argument shapes that can avoid unnecessary retracing. For (3), please refer to https://www.tensorflow.org/guide/function#controlling_retracing and https://www.tensorflow.org/api_docs/python/tf/function for  more details.\n"
          ]
        }
      ]
    },
    {
      "cell_type": "code",
      "metadata": {
        "colab": {
          "base_uri": "https://localhost:8080/"
        },
        "outputId": "73b06e5b-d201-4202-fb7d-ef5df374a8a6",
        "id": "cmkN0rl0Jlgh"
      },
      "source": [
        "print(cm)"
      ],
      "execution_count": null,
      "outputs": [
        {
          "output_type": "stream",
          "name": "stdout",
          "text": [
            "[[ 0  0 21]\n",
            " [ 0  0 21]\n",
            " [ 0  1 20]]\n"
          ]
        }
      ]
    },
    {
      "cell_type": "markdown",
      "source": [
        "# Resnet152 performance"
      ],
      "metadata": {
        "id": "51FBxincVTUo"
      }
    },
    {
      "cell_type": "code",
      "metadata": {
        "colab": {
          "base_uri": "https://localhost:8080/"
        },
        "outputId": "8b9f969e-2d51-4b69-e759-c45a95a09092",
        "id": "aFvMAh4_Jlgi"
      },
      "source": [
        "accuracy = accuracy_score(test_generator.classes, y_pred)\n",
        "print(\"Accuracy in test set: %0.1f%% \" % (accuracy * 100))"
      ],
      "execution_count": null,
      "outputs": [
        {
          "output_type": "stream",
          "name": "stdout",
          "text": [
            "Accuracy in test set: 31.7% \n"
          ]
        }
      ]
    },
    {
      "cell_type": "code",
      "metadata": {
        "colab": {
          "base_uri": "https://localhost:8080/"
        },
        "outputId": "13a5872d-10d6-41a9-980e-edb3950b6b88",
        "id": "h_tFPbgEJlgi"
      },
      "source": [
        "confusion_metri=metrics.classification_report(test_generator.classes, y_pred,target_names=category_names)\n",
        "print(confusion_metri)"
      ],
      "execution_count": null,
      "outputs": [
        {
          "output_type": "stream",
          "name": "stdout",
          "text": [
            "              precision    recall  f1-score   support\n",
            "\n",
            "           1       0.00      0.00      0.00        21\n",
            "           2       0.00      0.00      0.00        21\n",
            "           3       0.32      0.95      0.48        21\n",
            "\n",
            "    accuracy                           0.32        63\n",
            "   macro avg       0.11      0.32      0.16        63\n",
            "weighted avg       0.11      0.32      0.16        63\n",
            "\n"
          ]
        },
        {
          "output_type": "stream",
          "name": "stderr",
          "text": [
            "/usr/local/lib/python3.7/dist-packages/sklearn/metrics/_classification.py:1318: UndefinedMetricWarning: Precision and F-score are ill-defined and being set to 0.0 in labels with no predicted samples. Use `zero_division` parameter to control this behavior.\n",
            "  _warn_prf(average, modifier, msg_start, len(result))\n",
            "/usr/local/lib/python3.7/dist-packages/sklearn/metrics/_classification.py:1318: UndefinedMetricWarning: Precision and F-score are ill-defined and being set to 0.0 in labels with no predicted samples. Use `zero_division` parameter to control this behavior.\n",
            "  _warn_prf(average, modifier, msg_start, len(result))\n",
            "/usr/local/lib/python3.7/dist-packages/sklearn/metrics/_classification.py:1318: UndefinedMetricWarning: Precision and F-score are ill-defined and being set to 0.0 in labels with no predicted samples. Use `zero_division` parameter to control this behavior.\n",
            "  _warn_prf(average, modifier, msg_start, len(result))\n"
          ]
        }
      ]
    },
    {
      "cell_type": "markdown",
      "source": [
        "# ekhan theke baad"
      ],
      "metadata": {
        "id": "mmbx8bWVIZil"
      }
    },
    {
      "cell_type": "code",
      "metadata": {
        "id": "jkgkEeYp4xSQ"
      },
      "source": [
        "def read_image(file_path):\n",
        "   print('[INFO] loading and preprocessing image…') \n",
        "   image = load_img(file_path, target_size=(224, 224)) \n",
        "   image = img_to_array(image) \n",
        "   image = np.expand_dims(image, axis=0)\n",
        "   image /= 255. \n",
        "   return image\n",
        "def test_single_image(path):\n",
        "  animals = category_names\n",
        "  \n",
        "  images = read_image(path)\n",
        "\n",
        "  # bt_prediction = model.predict(images) \n",
        "  # preds = model.predict_proba(bt_prediction)\n",
        "\n",
        "  preds = model.predict_generator(images)\n",
        "\n",
        "  bar_animal=[]\n",
        "  bar_prob=[]\n",
        "\n",
        "  for idx, animal, x in zip(range(0,3), animals , preds[0]):\n",
        "    print('ID: {}, Label: {} {}%'.format(idx, animal, round(x*100,3) ))\n",
        "\n",
        "    bar_animal=animal\n",
        "    bar_prob=round(x*100,3)\n",
        "    print(idx,animal)\n",
        "\n",
        "    plt.bar(bar_animal,bar_prob)\n",
        "\n",
        "  print('Final Decision:')\n",
        "  \n",
        "  #print(bar_animal)\n",
        "  \n",
        "  \n",
        "\n",
        "\n",
        "  for x in range(3):\n",
        "   print('.'*(x+1))\n",
        "   \n",
        "  # class_predicted = model.predict_classes(bt_prediction)\n",
        "  # class_dictionary = generator_top.class_indices \n",
        "  # inv_map = {v: k for k, v in class_dictionary.items()} \n",
        "  # print('ID: {}, Label: {}'.format(class_predicted[0],  inv_map[class_predicted[0]])) \n",
        "  return load_img(path)\n"
      ],
      "execution_count": null,
      "outputs": []
    },
    {
      "cell_type": "code",
      "metadata": {
        "id": "bQsG71xH4xTd"
      },
      "source": [
        "# from keras.preprocessing.image import load_img, img_to_array\n",
        "\n",
        "# path = '/content/drive/My Drive/datasets_image/brain_tumor/train/2/96.png'\n",
        "# #path='/content/drive/My Drive/cats_and_dogs/test/dog/dog.232.jpg'\n",
        "# test_single_image(path)"
      ],
      "execution_count": null,
      "outputs": []
    },
    {
      "cell_type": "code",
      "metadata": {
        "id": "beq8sfLJ4xWR"
      },
      "source": [
        "# def get_img_array(img_path, size):\n",
        "#     # `img` is a PIL image of size 299x299\n",
        "#     img = keras.preprocessing.image.load_img(img_path, target_size=size)\n",
        "#     # `array` is a float32 Numpy array of shape (299, 299, 3)\n",
        "#     array = keras.preprocessing.image.img_to_array(img)\n",
        "#     # We add a dimension to transform our array into a \"batch\"\n",
        "#     # of size (1, 299, 299, 3)\n",
        "#     array = np.expand_dims(array, axis=0)\n",
        "#     return array\n",
        "\n",
        "\n",
        "# def make_gradcam_heatmap(img_array, model, last_conv_layer_name, pred_index=None):\n",
        "#     # First, we create a model that maps the input image to the activations\n",
        "#     # of the last conv layer as well as the output predictions\n",
        "#     grad_model = tf.keras.models.Model(\n",
        "#         [model.inputs], [model.get_layer(last_conv_layer_name).output, model.output]\n",
        "#     )\n",
        "\n",
        "#     # Then, we compute the gradient of the top predicted class for our input image\n",
        "#     # with respect to the activations of the last conv layer\n",
        "#     with tf.GradientTape() as tape:\n",
        "#         last_conv_layer_output, preds = grad_model(img_array)\n",
        "#         if pred_index is None:\n",
        "#             pred_index = tf.argmax(preds[0])\n",
        "#         class_channel = preds[:, pred_index]\n",
        "\n",
        "#     # This is the gradient of the output neuron (top predicted or chosen)\n",
        "#     # with regard to the output feature map of the last conv layer\n",
        "#     grads = tape.gradient(class_channel, last_conv_layer_output)\n",
        "\n",
        "#     # This is a vector where each entry is the mean intensity of the gradient\n",
        "#     # over a specific feature map channel\n",
        "#     pooled_grads = tf.reduce_mean(grads, axis=(0, 1, 2))\n",
        "\n",
        "#     # We multiply each channel in the feature map array\n",
        "#     # by \"how important this channel is\" with regard to the top predicted class\n",
        "#     # then sum all the channels to obtain the heatmap class activation\n",
        "#     last_conv_layer_output = last_conv_layer_output[0]\n",
        "#     heatmap = last_conv_layer_output @ pooled_grads[..., tf.newaxis]\n",
        "#     heatmap = tf.squeeze(heatmap)\n",
        "\n",
        "#     # For visualization purpose, we will also normalize the heatmap between 0 & 1\n",
        "#     heatmap = tf.maximum(heatmap, 0) / tf.math.reduce_max(heatmap)\n",
        "#     return heatmap.numpy()"
      ],
      "execution_count": null,
      "outputs": []
    },
    {
      "cell_type": "code",
      "metadata": {
        "id": "d0fbn5WugDWE"
      },
      "source": [
        "# img_size=[224,224]\n",
        "# # Prepare image\n",
        "# img_array = preprocess_input(get_img_array(path, size=img_size))\n",
        "\n",
        "# # Make model\n",
        "# model = model\n",
        "\n",
        "# # # Remove last layer's softmax\n",
        "# # model.layers[-1].activation = None\n",
        "\n",
        "# # # Print what the top predicted class is\n",
        "# # preds = model.predict(img_array)\n",
        "# # print(\"Predicted:\", decode_predictions(preds, top=1)[0])\n",
        "\n",
        "# # Generate class activation heatmap\n",
        "# heatmap = make_gradcam_heatmap(img_array, model, \"block5_conv4\")\n",
        "\n",
        "# # Display heatmap\n",
        "# plt.matshow(heatmap)\n",
        "# plt.show()"
      ],
      "execution_count": null,
      "outputs": []
    },
    {
      "cell_type": "code",
      "metadata": {
        "id": "b7FxKjT6gDXh"
      },
      "source": [
        "\n",
        "# # We load the original image\n",
        "# img = keras.preprocessing.image.load_img(path)\n",
        "# img = keras.preprocessing.image.img_to_array(img)\n",
        "\n",
        "# # We rescale heatmap to a range 0-255\n",
        "# heatmap = np.uint8(255 * heatmap)\n",
        "\n",
        "# # We use jet colormap to colorize heatmap\n",
        "# jet = cm.get_cmap(\"jet\")\n",
        "\n",
        "# # We use RGB values of the colormap\n",
        "# jet_colors = jet(np.arange(256))[:, :3]\n",
        "# jet_heatmap = jet_colors[heatmap]\n",
        "\n",
        "# # We create an image with RGB colorized heatmap\n",
        "# jet_heatmap = keras.preprocessing.image.array_to_img(jet_heatmap)\n",
        "# jet_heatmap = jet_heatmap.resize((img.shape[1], img.shape[0]))\n",
        "# jet_heatmap = keras.preprocessing.image.img_to_array(jet_heatmap)\n",
        "\n",
        "# # Superimpose the heatmap on original image\n",
        "# superimposed_img = jet_heatmap * 0.3 + img\n",
        "# superimposed_img = keras.preprocessing.image.array_to_img(superimposed_img)\n",
        "\n",
        "# # Save the superimposed image\n",
        "# save_path = '/content/drive/My Drive/cats_and_dogs/test/dogtest1.jpg'\n",
        "# superimposed_img.save(save_path)\n",
        "\n",
        "# # Display Grad CAM\n",
        "# display(Image(save_path))\n",
        "\n",
        "# plt.imshow(superimposed_img)"
      ],
      "execution_count": null,
      "outputs": []
    },
    {
      "cell_type": "code",
      "metadata": {
        "id": "tSkQceKKgMqm"
      },
      "source": [],
      "execution_count": null,
      "outputs": []
    },
    {
      "cell_type": "code",
      "metadata": {
        "id": "Uoio6cr5oQ37"
      },
      "source": [
        "model.save('/content/drive/My Drive/datasets_image/brain_conf/res/final/model_final.h5' )"
      ],
      "execution_count": null,
      "outputs": []
    },
    {
      "cell_type": "code",
      "metadata": {
        "id": "9cpLdsMVoUAK"
      },
      "source": [
        "model.save_weights('/content/drive/My Drive/datasets_image/brain_conf/res/final/model_weights_final.h5' )"
      ],
      "execution_count": null,
      "outputs": []
    },
    {
      "cell_type": "code",
      "metadata": {
        "id": "YDSoOKCNodmi"
      },
      "source": [
        "# print([layer.name for layer in model.get_layer('vgg19').layers])"
      ],
      "execution_count": null,
      "outputs": []
    },
    {
      "cell_type": "code",
      "metadata": {
        "id": "k4YpeeHwpCAk"
      },
      "source": [],
      "execution_count": null,
      "outputs": []
    },
    {
      "cell_type": "code",
      "metadata": {
        "id": "hJbZ35BVpfK4"
      },
      "source": [],
      "execution_count": null,
      "outputs": []
    },
    {
      "cell_type": "code",
      "metadata": {
        "id": "0yG6Z23-qlOq"
      },
      "source": [],
      "execution_count": null,
      "outputs": []
    }
  ]
}