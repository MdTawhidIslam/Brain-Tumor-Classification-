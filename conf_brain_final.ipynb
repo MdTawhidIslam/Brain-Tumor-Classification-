{
  "nbformat": 4,
  "nbformat_minor": 0,
  "metadata": {
    "accelerator": "GPU",
    "colab": {
      "provenance": []
    },
    "kernelspec": {
      "display_name": "Python 3",
      "name": "python3"
    },
    "language_info": {
      "name": "python"
    }
  },
  "cells": [
    {
      "cell_type": "code",
      "metadata": {
        "colab": {
          "base_uri": "https://localhost:8080/"
        },
        "id": "DZzy-EtxdgKp",
        "outputId": "d4a8bf2f-283f-4990-e83e-b24a567a45f9"
      },
      "source": [
        "from google.colab import drive\n",
        "drive.mount('/content/drive')"
      ],
      "execution_count": null,
      "outputs": [
        {
          "output_type": "stream",
          "name": "stdout",
          "text": [
            "Mounted at /content/drive\n"
          ]
        }
      ]
    },
    {
      "cell_type": "code",
      "metadata": {
        "id": "o_oYEYRe5omj"
      },
      "source": [
        "import numpy as np\n",
        "import os\n",
        "import matplotlib.pyplot as plt\n",
        "import seaborn as sns\n",
        "\n",
        "from numpy.random import seed\n",
        "\n",
        "\n",
        "# from tensorflow.python.keras.applications import vgg16\n",
        "# from tensorflow.python.keras.applications.vgg16 import preprocess_input\n",
        "# from tensorflow.python.keras.preprocessing.image import ImageDataGenerator, load_img\n",
        "#from tensorflow.python.keras.callbacks import ModelCheckpoint\n",
        "# from tensorflow.python.keras import layers, models, Model,optimizers\n",
        "\n",
        "from sklearn.metrics import classification_report, confusion_matrix, accuracy_score\n",
        "from sklearn.metrics import plot_confusion_matrix\n",
        "\n",
        "#from tensorflow.keras import optimizers\n",
        "\n",
        "#from keras.optimizers import Adam\n",
        "\n",
        "from keras import optimizers\n",
        "\n",
        "\n",
        "\n",
        "import keras\n",
        "from sklearn import metrics\n",
        "import tensorflow as tf\n",
        "from keras.layers import Input, Lambda, Dense, Flatten,GlobalAveragePooling2D,BatchNormalization,Dropout,Activation\n",
        "from keras.models import Model\n",
        "# from keras.applications.densenet201 import DenseNet121\n",
        "from keras.applications.vgg19 import VGG19\n",
        "#from tensorflow.keras.applications.resnet50 import ResNet50\n",
        "from keras.applications.vgg16 import preprocess_input\n",
        "from keras.preprocessing import image\n",
        "from keras.preprocessing.image import ImageDataGenerator\n",
        "from keras.models import Sequential\n",
        "import numpy as np\n",
        "from glob import glob\n",
        "import matplotlib.pyplot as plt\n",
        "import numpy as np\n",
        "import pandas as pd\n",
        "import os\n",
        "import matplotlib.pyplot as plt\n",
        "\n",
        "# from tensorflow.keras import optimizers\n",
        "# from tensorflow.keras.utils import to_categorical\n",
        "# from tensorflow.keras.preprocessing.image import load_img, img_to_array\n",
        "# from tensorflow.python.keras.preprocessing.image import ImageDataGenerator\n",
        "\n",
        "# from IPython.display import Image, display\n",
        "# import matplotlib.pyplot as plt\n",
        "# import matplotlib.cm as cm\n",
        "\n",
        "# from sklearn.metrics import classification_report, log_loss, accuracy_score,confusion_matrix\n",
        "# from sklearn.model_selection import train_test_split\n",
        "# from IPython.display import Image"
      ],
      "execution_count": null,
      "outputs": []
    },
    {
      "cell_type": "code",
      "metadata": {
        "id": "fwt2HeqqguWF"
      },
      "source": [
        "train_data_dir = '/content/drive/My Drive/datasets_image/brain_conf/train' \n",
        "val_data_dir ='/content/drive/My Drive/datasets_image/brain_conf/validation'\n",
        "test_data_dir = '/content/drive/My Drive/datasets_image/brain_conf/test'"
      ],
      "execution_count": null,
      "outputs": []
    },
    {
      "cell_type": "markdown",
      "metadata": {
        "id": "bj13B0Wn7uRx"
      },
      "source": []
    },
    {
      "cell_type": "code",
      "metadata": {
        "colab": {
          "base_uri": "https://localhost:8080/"
        },
        "id": "F189rP_Ggugf",
        "outputId": "6177b8f3-2451-4602-8568-016442149a06"
      },
      "source": [
        "img_height, img_width = 224,224\n",
        "conv_base =VGG19(weights='imagenet', include_top=False, pooling='max', input_shape = (img_width, img_height, 3))"
      ],
      "execution_count": null,
      "outputs": [
        {
          "output_type": "stream",
          "name": "stdout",
          "text": [
            "Downloading data from https://storage.googleapis.com/tensorflow/keras-applications/vgg19/vgg19_weights_tf_dim_ordering_tf_kernels_notop.h5\n",
            "80142336/80134624 [==============================] - 1s 0us/step\n",
            "80150528/80134624 [==============================] - 1s 0us/step\n"
          ]
        }
      ]
    },
    {
      "cell_type": "code",
      "metadata": {
        "colab": {
          "base_uri": "https://localhost:8080/"
        },
        "id": "p2gF5wIfguji",
        "outputId": "29b912d1-ce10-4bbe-cf96-7427b6265a88"
      },
      "source": [
        "for layer in conv_base.layers:\n",
        "    print(layer, layer.trainable)"
      ],
      "execution_count": null,
      "outputs": [
        {
          "output_type": "stream",
          "name": "stdout",
          "text": [
            "<keras.engine.input_layer.InputLayer object at 0x7f687336f3d0> True\n",
            "<keras.layers.convolutional.Conv2D object at 0x7f6872ed9c90> True\n",
            "<keras.layers.convolutional.Conv2D object at 0x7f6872f12850> True\n",
            "<keras.layers.pooling.MaxPooling2D object at 0x7f68c35bac10> True\n",
            "<keras.layers.convolutional.Conv2D object at 0x7f68704c5550> True\n",
            "<keras.layers.convolutional.Conv2D object at 0x7f68704cd210> True\n",
            "<keras.layers.pooling.MaxPooling2D object at 0x7f68704c5090> True\n",
            "<keras.layers.convolutional.Conv2D object at 0x7f68704d1e10> True\n",
            "<keras.layers.convolutional.Conv2D object at 0x7f68704d92d0> True\n",
            "<keras.layers.convolutional.Conv2D object at 0x7f68704d96d0> True\n",
            "<keras.layers.convolutional.Conv2D object at 0x7f68704d1250> True\n",
            "<keras.layers.pooling.MaxPooling2D object at 0x7f68704e7dd0> True\n",
            "<keras.layers.convolutional.Conv2D object at 0x7f68704ec5d0> True\n",
            "<keras.layers.convolutional.Conv2D object at 0x7f68704ea250> True\n",
            "<keras.layers.convolutional.Conv2D object at 0x7f68704f3d90> True\n",
            "<keras.layers.convolutional.Conv2D object at 0x7f68704f9250> True\n",
            "<keras.layers.pooling.MaxPooling2D object at 0x7f68704f7150> True\n",
            "<keras.layers.convolutional.Conv2D object at 0x7f68704ecb10> True\n",
            "<keras.layers.convolutional.Conv2D object at 0x7f68704d1d90> True\n",
            "<keras.layers.convolutional.Conv2D object at 0x7f6872e8a950> True\n",
            "<keras.layers.convolutional.Conv2D object at 0x7f68704ec610> True\n",
            "<keras.layers.pooling.MaxPooling2D object at 0x7f687048ce10> True\n",
            "<keras.layers.pooling.GlobalMaxPooling2D object at 0x7f687048e250> True\n"
          ]
        }
      ]
    },
    {
      "cell_type": "code",
      "metadata": {
        "colab": {
          "base_uri": "https://localhost:8080/",
          "height": 297
        },
        "id": "FVC0iXKM6VdF",
        "outputId": "5be25da6-1264-4ebf-9897-89a4e6fa05f1"
      },
      "source": [
        "category_names = sorted(os.listdir(train_data_dir))\n",
        "nb_categories = len(category_names)\n",
        "img_pr_cat = []\n",
        "for category in category_names:\n",
        "    folder = train_data_dir + '/' + category\n",
        "    img_pr_cat.append(len(os.listdir(folder)))\n",
        "sns.barplot(y=category_names, x=img_pr_cat).set_title(\"Number of training images per category:\")"
      ],
      "execution_count": null,
      "outputs": [
        {
          "output_type": "execute_result",
          "data": {
            "text/plain": [
              "Text(0.5, 1.0, 'Number of training images per category:')"
            ]
          },
          "metadata": {},
          "execution_count": 6
        },
        {
          "output_type": "display_data",
          "data": {
            "image/png": "[encoded data removed]",
            "text/plain": [
              "<Figure size 432x288 with 1 Axes>"
            ]
          },
          "metadata": {
            "needs_background": "light"
          }
        }
      ]
    },
    {
      "cell_type": "code",
      "metadata": {
        "colab": {
          "base_uri": "https://localhost:8080/"
        },
        "id": "Fyh_r6PugunI",
        "outputId": "94e4b160-8f59-4a53-845c-d034bfe6f2ea"
      },
      "source": [
        "model = Sequential()\n",
        "model.add(conv_base)\n",
        "model.add(Dense(nb_categories, activation='softmax'))\n",
        "model.summary()\n",
        "\n",
        "\n",
        "# for layer in conv_base.layers:\n",
        "#   layer.trainable = False\n",
        "  \n",
        "\n",
        "  \n",
        "\n",
        "# #folders = glob('/content/drive/My Drive/datasets_image/brain_tumor/train/*')\n",
        "  \n",
        "\n",
        "\n",
        "# x = Flatten()(conv_base.output)\n",
        "\n",
        "# prediction = Dense(nb_categories, activation='softmax')(x)\n",
        "\n",
        "# model = Model(inputs=conv_base.input, outputs=prediction)\n",
        "\n",
        "\n",
        "# model.summary()"
      ],
      "execution_count": null,
      "outputs": [
        {
          "output_type": "stream",
          "name": "stdout",
          "text": [
            "Model: \"sequential\"\n",
            "_________________________________________________________________\n",
            "Layer (type)                 Output Shape              Param #   \n",
            "=================================================================\n",
            "vgg19 (Functional)           (None, 512)               20024384  \n",
            "_________________________________________________________________\n",
            "dense (Dense)                (None, 3)                 1539      \n",
            "=================================================================\n",
            "Total params: 20,025,923\n",
            "Trainable params: 20,025,923\n",
            "Non-trainable params: 0\n",
            "_________________________________________________________________\n"
          ]
        }
      ]
    },
    {
      "cell_type": "code",
      "metadata": {
        "id": "s-SdOLzXguoT"
      },
      "source": [
        "#Number of images to load at each iteration\n",
        "batch_size = 32\n",
        "# only rescaling\n",
        "train_datagen = ImageDataGenerator(\n",
        "        rescale=1./255,\n",
        "        rotation_range=10,\n",
        "        zoom_range=0.1,\n",
        "        width_shift_range=0.1,\n",
        "        height_shift_range=0.1,\n",
        "        horizontal_flip=False,\n",
        "        brightness_range = (0.9,1.1),\n",
        "        fill_mode='nearest'\n",
        "        )\n",
        "test_datagen =  ImageDataGenerator(\n",
        "    rescale=1./255\n",
        ")"
      ],
      "execution_count": null,
      "outputs": []
    },
    {
      "cell_type": "code",
      "metadata": {
        "colab": {
          "base_uri": "https://localhost:8080/"
        },
        "id": "lAVWtR1qgurk",
        "outputId": "89426a57-36b9-4118-80ae-f037adde193a"
      },
      "source": [
        "print('Total number of images for \"training\":')\n",
        "train_generator = train_datagen.flow_from_directory(\n",
        "train_data_dir,\n",
        "target_size = (img_height, img_width),\n",
        "batch_size = batch_size, \n",
        "class_mode = \"categorical\")\n",
        "print('Total number of images for \"validation\":')\n",
        "val_generator = test_datagen.flow_from_directory(\n",
        "val_data_dir,\n",
        "target_size = (img_height, img_width),\n",
        "batch_size = batch_size,\n",
        "class_mode = \"categorical\",\n",
        "shuffle=False)\n",
        "print('Total number of images for \"testing\":')\n",
        "test_generator = test_datagen.flow_from_directory(\n",
        "test_data_dir,\n",
        "target_size = (img_height, img_width),\n",
        "batch_size = batch_size,\n",
        "class_mode = \"categorical\",\n",
        "shuffle=False)"
      ],
      "execution_count": null,
      "outputs": [
        {
          "output_type": "stream",
          "name": "stdout",
          "text": [
            "Total number of images for \"training\":\n",
            "Found 2458 images belonging to 3 classes.\n",
            "Total number of images for \"validation\":\n",
            "Found 303 images belonging to 3 classes.\n",
            "Total number of images for \"testing\":\n",
            "Found 303 images belonging to 3 classes.\n"
          ]
        }
      ]
    },
    {
      "cell_type": "code",
      "metadata": {
        "id": "OgL91jhK85nF"
      },
      "source": [],
      "execution_count": null,
      "outputs": []
    },
    {
      "cell_type": "code",
      "metadata": {
        "id": "xaFvgSon85w6"
      },
      "source": [],
      "execution_count": null,
      "outputs": []
    },
    {
      "cell_type": "code",
      "metadata": {
        "id": "j6pY0AxD85yI"
      },
      "source": [],
      "execution_count": null,
      "outputs": []
    },
    {
      "cell_type": "code",
      "metadata": {
        "id": "06WSsfNX851f"
      },
      "source": [],
      "execution_count": null,
      "outputs": []
    },
    {
      "cell_type": "code",
      "metadata": {
        "id": "xV0nd-vX4cJk"
      },
      "source": [
        "learning_rate = .00001\n",
        "epochs =100\n",
        "#checkpoint = ModelCheckpoint(\"sign_classifier.h5\", monitor = 'val_acc', verbose=1, save_best_only=True, save_weights_only=False, mode='auto', period=1)\n",
        "model.compile(loss=\"categorical_crossentropy\", optimizer=tf.keras.optimizers.Adam(learning_rate=learning_rate), metrics = ['acc','AUC'])\n",
        "\n",
        "\n"
      ],
      "execution_count": null,
      "outputs": []
    },
    {
      "cell_type": "code",
      "metadata": {
        "id": "TgNs-k5m84tQ"
      },
      "source": [],
      "execution_count": null,
      "outputs": []
    },
    {
      "cell_type": "code",
      "metadata": {
        "id": "McWPq_Kt4cLO",
        "colab": {
          "base_uri": "https://localhost:8080/"
        },
        "outputId": "b7e212cb-6d80-4193-d0f6-1569a8cf82dc"
      },
      "source": [
        "history = model.fit_generator(train_generator, \n",
        "                              epochs=epochs, \n",
        "                              shuffle=True, \n",
        "                              validation_data=val_generator\n",
        "                              #callbacks=[checkpoint]\n",
        "                              )"
      ],
      "execution_count": null,
      "outputs": [
        {
          "output_type": "stream",
          "name": "stderr",
          "text": [
            "/usr/local/lib/python3.7/dist-packages/keras/engine/training.py:1972: UserWarning: `Model.fit_generator` is deprecated and will be removed in a future version. Please use `Model.fit`, which supports generators.\n",
            "  warnings.warn('`Model.fit_generator` is deprecated and '\n"
          ]
        },
        {
          "output_type": "stream",
          "name": "stdout",
          "text": [
            "Epoch 1/100\n",
            "77/77 [==============================] - 623s 8s/step - loss: 0.6488 - acc: 0.7213 - auc: 0.8873 - val_loss: 0.3909 - val_acc: 0.8350 - val_auc: 0.9634\n",
            "Epoch 2/100\n",
            "77/77 [==============================] - 93s 1s/step - loss: 0.2663 - acc: 0.9020 - auc: 0.9807 - val_loss: 0.2960 - val_acc: 0.8845 - val_auc: 0.9742\n",
            "Epoch 3/100\n",
            "77/77 [==============================] - 92s 1s/step - loss: 0.1581 - acc: 0.9402 - auc: 0.9932 - val_loss: 0.1910 - val_acc: 0.9142 - val_auc: 0.9898\n",
            "Epoch 4/100\n",
            "77/77 [==============================] - 91s 1s/step - loss: 0.1225 - acc: 0.9585 - auc: 0.9955 - val_loss: 0.2214 - val_acc: 0.9142 - val_auc: 0.9866\n",
            "Epoch 5/100\n",
            "77/77 [==============================] - 91s 1s/step - loss: 0.0699 - acc: 0.9764 - auc: 0.9986 - val_loss: 0.2573 - val_acc: 0.8977 - val_auc: 0.9848\n",
            "Epoch 6/100\n",
            "77/77 [==============================] - 91s 1s/step - loss: 0.0666 - acc: 0.9736 - auc: 0.9988 - val_loss: 0.1840 - val_acc: 0.9142 - val_auc: 0.9916\n",
            "Epoch 7/100\n",
            "77/77 [==============================] - 91s 1s/step - loss: 0.0414 - acc: 0.9866 - auc: 0.9995 - val_loss: 0.2622 - val_acc: 0.9043 - val_auc: 0.9832\n",
            "Epoch 8/100\n",
            "77/77 [==============================] - 91s 1s/step - loss: 0.0485 - acc: 0.9825 - auc: 0.9994 - val_loss: 0.1778 - val_acc: 0.9274 - val_auc: 0.9919\n",
            "Epoch 9/100\n",
            "77/77 [==============================] - 90s 1s/step - loss: 0.0186 - acc: 0.9963 - auc: 0.9999 - val_loss: 0.3004 - val_acc: 0.9043 - val_auc: 0.9812\n",
            "Epoch 10/100\n",
            "77/77 [==============================] - 92s 1s/step - loss: 0.0183 - acc: 0.9931 - auc: 0.9999 - val_loss: 0.3348 - val_acc: 0.8911 - val_auc: 0.9785\n",
            "Epoch 11/100\n",
            "77/77 [==============================] - 91s 1s/step - loss: 0.0209 - acc: 0.9939 - auc: 0.9999 - val_loss: 0.5284 - val_acc: 0.8581 - val_auc: 0.9497\n",
            "Epoch 12/100\n",
            "77/77 [==============================] - 91s 1s/step - loss: 0.0214 - acc: 0.9927 - auc: 0.9999 - val_loss: 0.2875 - val_acc: 0.8944 - val_auc: 0.9871\n",
            "Epoch 13/100\n",
            "77/77 [==============================] - 93s 1s/step - loss: 0.0265 - acc: 0.9923 - auc: 0.9996 - val_loss: 0.4139 - val_acc: 0.8779 - val_auc: 0.9707\n",
            "Epoch 14/100\n",
            "77/77 [==============================] - 93s 1s/step - loss: 0.0071 - acc: 0.9988 - auc: 1.0000 - val_loss: 0.1278 - val_acc: 0.9538 - val_auc: 0.9967\n",
            "Epoch 15/100\n",
            "77/77 [==============================] - 94s 1s/step - loss: 0.0040 - acc: 0.9992 - auc: 1.0000 - val_loss: 0.3532 - val_acc: 0.9076 - val_auc: 0.9738\n",
            "Epoch 16/100\n",
            "77/77 [==============================] - 94s 1s/step - loss: 0.0053 - acc: 0.9980 - auc: 1.0000 - val_loss: 0.4631 - val_acc: 0.8944 - val_auc: 0.9639\n",
            "Epoch 17/100\n",
            "77/77 [==============================] - 93s 1s/step - loss: 0.0191 - acc: 0.9919 - auc: 0.9999 - val_loss: 0.7575 - val_acc: 0.8416 - val_auc: 0.9392\n",
            "Epoch 18/100\n",
            "77/77 [==============================] - 93s 1s/step - loss: 0.0270 - acc: 0.9894 - auc: 0.9998 - val_loss: 0.2491 - val_acc: 0.9076 - val_auc: 0.9849\n",
            "Epoch 19/100\n",
            "77/77 [==============================] - 94s 1s/step - loss: 0.0149 - acc: 0.9951 - auc: 0.9999 - val_loss: 0.3923 - val_acc: 0.8746 - val_auc: 0.9728\n",
            "Epoch 20/100\n",
            "77/77 [==============================] - 94s 1s/step - loss: 0.0166 - acc: 0.9951 - auc: 0.9999 - val_loss: 0.4717 - val_acc: 0.8746 - val_auc: 0.9666\n",
            "Epoch 21/100\n",
            "77/77 [==============================] - 94s 1s/step - loss: 0.0142 - acc: 0.9943 - auc: 0.9999 - val_loss: 0.6087 - val_acc: 0.8449 - val_auc: 0.9455\n",
            "Epoch 22/100\n",
            "77/77 [==============================] - 94s 1s/step - loss: 0.0096 - acc: 0.9976 - auc: 0.9997 - val_loss: 0.2703 - val_acc: 0.9109 - val_auc: 0.9856\n",
            "Epoch 23/100\n",
            "77/77 [==============================] - 94s 1s/step - loss: 0.0037 - acc: 0.9992 - auc: 1.0000 - val_loss: 0.2395 - val_acc: 0.9241 - val_auc: 0.9868\n",
            "Epoch 24/100\n",
            "77/77 [==============================] - 94s 1s/step - loss: 0.0078 - acc: 0.9976 - auc: 1.0000 - val_loss: 0.1413 - val_acc: 0.9472 - val_auc: 0.9944\n",
            "Epoch 25/100\n",
            "77/77 [==============================] - 94s 1s/step - loss: 0.0030 - acc: 0.9992 - auc: 1.0000 - val_loss: 0.1839 - val_acc: 0.9406 - val_auc: 0.9933\n",
            "Epoch 26/100\n",
            "77/77 [==============================] - 94s 1s/step - loss: 8.0258e-04 - acc: 1.0000 - auc: 1.0000 - val_loss: 0.2741 - val_acc: 0.9241 - val_auc: 0.9837\n",
            "Epoch 27/100\n",
            "77/77 [==============================] - 94s 1s/step - loss: 0.0012 - acc: 1.0000 - auc: 1.0000 - val_loss: 0.3009 - val_acc: 0.9109 - val_auc: 0.9864\n",
            "Epoch 28/100\n",
            "77/77 [==============================] - 94s 1s/step - loss: 0.0221 - acc: 0.9923 - auc: 0.9998 - val_loss: 0.3113 - val_acc: 0.9043 - val_auc: 0.9774\n",
            "Epoch 29/100\n",
            "77/77 [==============================] - 94s 1s/step - loss: 0.0143 - acc: 0.9955 - auc: 0.9996 - val_loss: 0.4679 - val_acc: 0.8878 - val_auc: 0.9678\n",
            "Epoch 30/100\n",
            "77/77 [==============================] - 94s 1s/step - loss: 0.0025 - acc: 1.0000 - auc: 1.0000 - val_loss: 0.1916 - val_acc: 0.9373 - val_auc: 0.9893\n",
            "Epoch 31/100\n",
            "77/77 [==============================] - 94s 1s/step - loss: 0.0012 - acc: 0.9996 - auc: 1.0000 - val_loss: 0.1101 - val_acc: 0.9571 - val_auc: 0.9955\n",
            "Epoch 32/100\n",
            "77/77 [==============================] - 94s 1s/step - loss: 3.1168e-04 - acc: 1.0000 - auc: 1.0000 - val_loss: 0.1937 - val_acc: 0.9505 - val_auc: 0.9891\n",
            "Epoch 33/100\n",
            "77/77 [==============================] - 94s 1s/step - loss: 7.4294e-04 - acc: 1.0000 - auc: 1.0000 - val_loss: 0.2433 - val_acc: 0.9274 - val_auc: 0.9895\n",
            "Epoch 34/100\n",
            "77/77 [==============================] - 93s 1s/step - loss: 7.3847e-04 - acc: 1.0000 - auc: 1.0000 - val_loss: 0.2801 - val_acc: 0.9274 - val_auc: 0.9802\n",
            "Epoch 35/100\n",
            "77/77 [==============================] - 94s 1s/step - loss: 2.5204e-04 - acc: 1.0000 - auc: 1.0000 - val_loss: 0.2969 - val_acc: 0.9340 - val_auc: 0.9782\n",
            "Epoch 36/100\n",
            "77/77 [==============================] - 94s 1s/step - loss: 3.5106e-04 - acc: 1.0000 - auc: 1.0000 - val_loss: 0.3433 - val_acc: 0.9175 - val_auc: 0.9753\n",
            "Epoch 37/100\n",
            "77/77 [==============================] - 94s 1s/step - loss: 0.0014 - acc: 0.9996 - auc: 1.0000 - val_loss: 0.2302 - val_acc: 0.9340 - val_auc: 0.9842\n",
            "Epoch 38/100\n",
            "77/77 [==============================] - 94s 1s/step - loss: 0.0077 - acc: 0.9976 - auc: 0.9997 - val_loss: 0.2095 - val_acc: 0.9373 - val_auc: 0.9873\n",
            "Epoch 39/100\n",
            "77/77 [==============================] - 94s 1s/step - loss: 0.0087 - acc: 0.9976 - auc: 1.0000 - val_loss: 0.2709 - val_acc: 0.9307 - val_auc: 0.9853\n",
            "Epoch 40/100\n",
            "77/77 [==============================] - 95s 1s/step - loss: 0.0213 - acc: 0.9935 - auc: 0.9996 - val_loss: 0.1452 - val_acc: 0.9538 - val_auc: 0.9936\n",
            "Epoch 41/100\n",
            "77/77 [==============================] - 94s 1s/step - loss: 0.0173 - acc: 0.9951 - auc: 0.9997 - val_loss: 0.2465 - val_acc: 0.9208 - val_auc: 0.9884\n",
            "Epoch 42/100\n",
            "77/77 [==============================] - 93s 1s/step - loss: 0.0050 - acc: 0.9984 - auc: 1.0000 - val_loss: 0.3696 - val_acc: 0.9043 - val_auc: 0.9771\n",
            "Epoch 43/100\n",
            "77/77 [==============================] - 92s 1s/step - loss: 0.0044 - acc: 0.9980 - auc: 1.0000 - val_loss: 0.2023 - val_acc: 0.9505 - val_auc: 0.9870\n",
            "Epoch 44/100\n",
            "77/77 [==============================] - 93s 1s/step - loss: 0.0098 - acc: 0.9959 - auc: 1.0000 - val_loss: 0.1881 - val_acc: 0.9439 - val_auc: 0.9883\n",
            "Epoch 45/100\n",
            "77/77 [==============================] - 93s 1s/step - loss: 0.0176 - acc: 0.9935 - auc: 0.9999 - val_loss: 0.1795 - val_acc: 0.9505 - val_auc: 0.9883\n",
            "Epoch 46/100\n",
            "77/77 [==============================] - 93s 1s/step - loss: 0.0048 - acc: 0.9996 - auc: 0.9997 - val_loss: 0.2735 - val_acc: 0.9340 - val_auc: 0.9819\n",
            "Epoch 47/100\n",
            "77/77 [==============================] - 93s 1s/step - loss: 6.2284e-04 - acc: 1.0000 - auc: 1.0000 - val_loss: 0.2590 - val_acc: 0.9373 - val_auc: 0.9813\n",
            "Epoch 48/100\n",
            "77/77 [==============================] - 95s 1s/step - loss: 2.6125e-04 - acc: 1.0000 - auc: 1.0000 - val_loss: 0.2132 - val_acc: 0.9439 - val_auc: 0.9893\n",
            "Epoch 49/100\n",
            "77/77 [==============================] - 93s 1s/step - loss: 1.3836e-04 - acc: 1.0000 - auc: 1.0000 - val_loss: 0.2305 - val_acc: 0.9439 - val_auc: 0.9890\n",
            "Epoch 50/100\n",
            "77/77 [==============================] - 93s 1s/step - loss: 1.4531e-04 - acc: 1.0000 - auc: 1.0000 - val_loss: 0.2160 - val_acc: 0.9439 - val_auc: 0.9895\n",
            "Epoch 51/100\n",
            "77/77 [==============================] - 94s 1s/step - loss: 8.7520e-05 - acc: 1.0000 - auc: 1.0000 - val_loss: 0.2176 - val_acc: 0.9439 - val_auc: 0.9896\n",
            "Epoch 52/100\n",
            "77/77 [==============================] - 92s 1s/step - loss: 9.4184e-05 - acc: 1.0000 - auc: 1.0000 - val_loss: 0.2139 - val_acc: 0.9439 - val_auc: 0.9898\n",
            "Epoch 53/100\n",
            "77/77 [==============================] - 94s 1s/step - loss: 9.2492e-05 - acc: 1.0000 - auc: 1.0000 - val_loss: 0.2445 - val_acc: 0.9439 - val_auc: 0.9868\n",
            "Epoch 54/100\n",
            "77/77 [==============================] - 95s 1s/step - loss: 2.3375e-04 - acc: 1.0000 - auc: 1.0000 - val_loss: 0.3259 - val_acc: 0.9340 - val_auc: 0.9799\n",
            "Epoch 55/100\n",
            "77/77 [==============================] - 92s 1s/step - loss: 9.3276e-05 - acc: 1.0000 - auc: 1.0000 - val_loss: 0.2387 - val_acc: 0.9406 - val_auc: 0.9825\n",
            "Epoch 56/100\n",
            "77/77 [==============================] - 91s 1s/step - loss: 1.0322e-04 - acc: 1.0000 - auc: 1.0000 - val_loss: 0.2974 - val_acc: 0.9373 - val_auc: 0.9812\n",
            "Epoch 57/100\n",
            "77/77 [==============================] - 93s 1s/step - loss: 1.2644e-04 - acc: 1.0000 - auc: 1.0000 - val_loss: 0.3226 - val_acc: 0.9340 - val_auc: 0.9787\n",
            "Epoch 58/100\n",
            "77/77 [==============================] - 93s 1s/step - loss: 4.9541e-05 - acc: 1.0000 - auc: 1.0000 - val_loss: 0.2673 - val_acc: 0.9439 - val_auc: 0.9801\n",
            "Epoch 59/100\n",
            "77/77 [==============================] - 92s 1s/step - loss: 6.3977e-05 - acc: 1.0000 - auc: 1.0000 - val_loss: 0.2543 - val_acc: 0.9439 - val_auc: 0.9849\n",
            "Epoch 60/100\n",
            "77/77 [==============================] - 91s 1s/step - loss: 2.6781e-05 - acc: 1.0000 - auc: 1.0000 - val_loss: 0.2608 - val_acc: 0.9439 - val_auc: 0.9824\n",
            "Epoch 61/100\n",
            "77/77 [==============================] - 92s 1s/step - loss: 3.1763e-05 - acc: 1.0000 - auc: 1.0000 - val_loss: 0.2585 - val_acc: 0.9439 - val_auc: 0.9827\n",
            "Epoch 62/100\n",
            "77/77 [==============================] - 93s 1s/step - loss: 8.2535e-05 - acc: 1.0000 - auc: 1.0000 - val_loss: 0.3677 - val_acc: 0.9307 - val_auc: 0.9744\n",
            "Epoch 63/100\n",
            "77/77 [==============================] - 92s 1s/step - loss: 1.7818e-04 - acc: 1.0000 - auc: 1.0000 - val_loss: 0.2943 - val_acc: 0.9439 - val_auc: 0.9819\n",
            "Epoch 64/100\n",
            "77/77 [==============================] - 91s 1s/step - loss: 1.6563e-04 - acc: 1.0000 - auc: 1.0000 - val_loss: 0.3465 - val_acc: 0.9406 - val_auc: 0.9765\n",
            "Epoch 65/100\n",
            "77/77 [==============================] - 94s 1s/step - loss: 0.0017 - acc: 0.9992 - auc: 1.0000 - val_loss: 0.3012 - val_acc: 0.9241 - val_auc: 0.9792\n",
            "Epoch 66/100\n",
            "77/77 [==============================] - 91s 1s/step - loss: 0.0397 - acc: 0.9874 - auc: 0.9990 - val_loss: 0.2453 - val_acc: 0.9208 - val_auc: 0.9841\n",
            "Epoch 67/100\n",
            "77/77 [==============================] - 90s 1s/step - loss: 0.0394 - acc: 0.9862 - auc: 0.9988 - val_loss: 0.1707 - val_acc: 0.9340 - val_auc: 0.9906\n",
            "Epoch 68/100\n",
            "77/77 [==============================] - 92s 1s/step - loss: 0.0097 - acc: 0.9972 - auc: 1.0000 - val_loss: 0.3283 - val_acc: 0.9208 - val_auc: 0.9766\n",
            "Epoch 69/100\n",
            "77/77 [==============================] - 92s 1s/step - loss: 0.0031 - acc: 0.9996 - auc: 1.0000 - val_loss: 0.1103 - val_acc: 0.9670 - val_auc: 0.9935\n",
            "Epoch 70/100\n",
            "77/77 [==============================] - 94s 1s/step - loss: 0.0015 - acc: 1.0000 - auc: 1.0000 - val_loss: 0.1990 - val_acc: 0.9307 - val_auc: 0.9888\n",
            "Epoch 71/100\n",
            "77/77 [==============================] - 91s 1s/step - loss: 2.3474e-04 - acc: 1.0000 - auc: 1.0000 - val_loss: 0.1622 - val_acc: 0.9472 - val_auc: 0.9900\n",
            "Epoch 72/100\n",
            "77/77 [==============================] - 90s 1s/step - loss: 2.1617e-04 - acc: 1.0000 - auc: 1.0000 - val_loss: 0.1923 - val_acc: 0.9406 - val_auc: 0.9895\n",
            "Epoch 73/100\n",
            "77/77 [==============================] - 91s 1s/step - loss: 5.4690e-04 - acc: 1.0000 - auc: 1.0000 - val_loss: 0.2670 - val_acc: 0.9406 - val_auc: 0.9837\n",
            "Epoch 74/100\n",
            "77/77 [==============================] - 91s 1s/step - loss: 2.1813e-04 - acc: 1.0000 - auc: 1.0000 - val_loss: 0.1692 - val_acc: 0.9472 - val_auc: 0.9903\n",
            "Epoch 75/100\n",
            "77/77 [==============================] - 93s 1s/step - loss: 5.6471e-05 - acc: 1.0000 - auc: 1.0000 - val_loss: 0.2110 - val_acc: 0.9538 - val_auc: 0.9851\n",
            "Epoch 76/100\n",
            "77/77 [==============================] - 93s 1s/step - loss: 4.1221e-05 - acc: 1.0000 - auc: 1.0000 - val_loss: 0.2004 - val_acc: 0.9538 - val_auc: 0.9853\n",
            "Epoch 77/100\n",
            "77/77 [==============================] - 92s 1s/step - loss: 6.1905e-05 - acc: 1.0000 - auc: 1.0000 - val_loss: 0.2210 - val_acc: 0.9472 - val_auc: 0.9851\n",
            "Epoch 78/100\n",
            "77/77 [==============================] - 90s 1s/step - loss: 4.4641e-05 - acc: 1.0000 - auc: 1.0000 - val_loss: 0.1897 - val_acc: 0.9472 - val_auc: 0.9856\n",
            "Epoch 79/100\n",
            "77/77 [==============================] - 92s 1s/step - loss: 5.0344e-04 - acc: 1.0000 - auc: 1.0000 - val_loss: 0.2145 - val_acc: 0.9439 - val_auc: 0.9854\n",
            "Epoch 80/100\n",
            "77/77 [==============================] - 91s 1s/step - loss: 0.0337 - acc: 0.9878 - auc: 0.9995 - val_loss: 0.0897 - val_acc: 0.9703 - val_auc: 0.9979\n",
            "Epoch 81/100\n",
            "77/77 [==============================] - 92s 1s/step - loss: 0.0222 - acc: 0.9923 - auc: 0.9999 - val_loss: 0.1405 - val_acc: 0.9538 - val_auc: 0.9922\n",
            "Epoch 82/100\n",
            "77/77 [==============================] - 91s 1s/step - loss: 0.0024 - acc: 0.9996 - auc: 1.0000 - val_loss: 0.3011 - val_acc: 0.9274 - val_auc: 0.9841\n",
            "Epoch 83/100\n",
            "77/77 [==============================] - 91s 1s/step - loss: 4.7287e-04 - acc: 1.0000 - auc: 1.0000 - val_loss: 0.2434 - val_acc: 0.9373 - val_auc: 0.9891\n",
            "Epoch 84/100\n",
            "77/77 [==============================] - 93s 1s/step - loss: 1.1866e-04 - acc: 1.0000 - auc: 1.0000 - val_loss: 0.2299 - val_acc: 0.9439 - val_auc: 0.9894\n",
            "Epoch 85/100\n",
            "77/77 [==============================] - 91s 1s/step - loss: 1.3212e-04 - acc: 1.0000 - auc: 1.0000 - val_loss: 0.2780 - val_acc: 0.9307 - val_auc: 0.9861\n",
            "Epoch 86/100\n",
            "77/77 [==============================] - 92s 1s/step - loss: 5.2760e-04 - acc: 1.0000 - auc: 1.0000 - val_loss: 0.2501 - val_acc: 0.9373 - val_auc: 0.9854\n",
            "Epoch 87/100\n",
            "77/77 [==============================] - 93s 1s/step - loss: 1.1423e-04 - acc: 1.0000 - auc: 1.0000 - val_loss: 0.2648 - val_acc: 0.9472 - val_auc: 0.9825\n",
            "Epoch 88/100\n",
            "77/77 [==============================] - 93s 1s/step - loss: 1.3046e-04 - acc: 1.0000 - auc: 1.0000 - val_loss: 0.2233 - val_acc: 0.9472 - val_auc: 0.9879\n",
            "Epoch 89/100\n",
            "77/77 [==============================] - 92s 1s/step - loss: 3.3398e-04 - acc: 1.0000 - auc: 1.0000 - val_loss: 0.3305 - val_acc: 0.9340 - val_auc: 0.9815\n",
            "Epoch 90/100\n",
            "77/77 [==============================] - 92s 1s/step - loss: 9.7621e-05 - acc: 1.0000 - auc: 1.0000 - val_loss: 0.4820 - val_acc: 0.9208 - val_auc: 0.9657\n",
            "Epoch 91/100\n",
            "77/77 [==============================] - 92s 1s/step - loss: 6.1481e-05 - acc: 1.0000 - auc: 1.0000 - val_loss: 0.2930 - val_acc: 0.9373 - val_auc: 0.9804\n",
            "Epoch 92/100\n",
            "77/77 [==============================] - 92s 1s/step - loss: 4.4045e-05 - acc: 1.0000 - auc: 1.0000 - val_loss: 0.2980 - val_acc: 0.9373 - val_auc: 0.9803\n",
            "Epoch 93/100\n",
            "77/77 [==============================] - 93s 1s/step - loss: 2.2703e-05 - acc: 1.0000 - auc: 1.0000 - val_loss: 0.2957 - val_acc: 0.9373 - val_auc: 0.9803\n",
            "Epoch 94/100\n",
            "77/77 [==============================] - 92s 1s/step - loss: 3.7085e-05 - acc: 1.0000 - auc: 1.0000 - val_loss: 0.3153 - val_acc: 0.9373 - val_auc: 0.9779\n",
            "Epoch 95/100\n",
            "77/77 [==============================] - 92s 1s/step - loss: 3.9313e-05 - acc: 1.0000 - auc: 1.0000 - val_loss: 0.2996 - val_acc: 0.9373 - val_auc: 0.9804\n",
            "Epoch 96/100\n",
            "77/77 [==============================] - 92s 1s/step - loss: 3.1667e-05 - acc: 1.0000 - auc: 1.0000 - val_loss: 0.2935 - val_acc: 0.9406 - val_auc: 0.9828\n",
            "Epoch 97/100\n",
            "77/77 [==============================] - 92s 1s/step - loss: 2.5605e-05 - acc: 1.0000 - auc: 1.0000 - val_loss: 0.3079 - val_acc: 0.9373 - val_auc: 0.9803\n",
            "Epoch 98/100\n",
            "77/77 [==============================] - 91s 1s/step - loss: 4.9980e-05 - acc: 1.0000 - auc: 1.0000 - val_loss: 0.3022 - val_acc: 0.9373 - val_auc: 0.9803\n",
            "Epoch 99/100\n",
            "77/77 [==============================] - 93s 1s/step - loss: 1.5546e-05 - acc: 1.0000 - auc: 1.0000 - val_loss: 0.3013 - val_acc: 0.9373 - val_auc: 0.9803\n",
            "Epoch 100/100\n",
            "77/77 [==============================] - 97s 1s/step - loss: 4.1970e-05 - acc: 1.0000 - auc: 1.0000 - val_loss: 0.2832 - val_acc: 0.9439 - val_auc: 0.9806\n"
          ]
        }
      ]
    },
    {
      "cell_type": "code",
      "metadata": {
        "id": "lqUllhT64cNe",
        "colab": {
          "base_uri": "https://localhost:8080/",
          "height": 808
        },
        "outputId": "c86c8a3a-eb72-42eb-aef6-d45a1c7f3723"
      },
      "source": [
        "acc = history.history['acc']\n",
        "val_acc = history.history['val_acc']\n",
        "loss = history.history['loss']\n",
        "val_loss = history.history['val_loss']\n",
        "AUC = history.history['auc']\n",
        "val_AUC = history.history['val_auc']\n",
        "\n",
        "epochs = range(1,len(acc)+1)\n",
        "\n",
        "plt.figure()\n",
        "plt.plot(epochs, acc, 'b', label = 'Training accuracy')\n",
        "plt.plot(epochs, val_acc, 'r', label='Validation accuracy')\n",
        "plt.title('Training and validation accuracy')\n",
        "plt.legend()\n",
        "plt.ylim([0, 1.1])\n",
        "plt.savefig('Accuracy.png')\n",
        "\n",
        "plt.figure()\n",
        "plt.plot(epochs, loss, 'b', label = 'Training loss')\n",
        "plt.plot(epochs, val_loss, 'r', label='Validation loss')\n",
        "plt.title('Training and validation loss')\n",
        "plt.legend()\n",
        "plt.ylim([0, 1.1])\n",
        "plt.savefig('Loss.png')\n",
        "\n",
        "plt.figure()\n",
        "plt.plot(epochs, AUC, 'b', label = 'Training AUC')\n",
        "plt.plot(epochs, val_AUC, 'r', label='Validation AUC')\n",
        "plt.title('Training and validation AUC')\n",
        "plt.legend()\n",
        "plt.ylim([0, 1.1])\n",
        "plt.savefig('AUC.png')\n"
      ],
      "execution_count": null,
      "outputs": [
        {
          "output_type": "display_data",
          "data": {
            "image/png": "[encoded data removed]",
            "text/plain": [
              "<Figure size 432x288 with 1 Axes>"
            ]
          },
          "metadata": {
            "needs_background": "light"
          }
        },
        {
          "output_type": "display_data",
          "data": {
            "image/png": "[encoded data removed]",
            "text/plain": [
              "<Figure size 432x288 with 1 Axes>"
            ]
          },
          "metadata": {
            "needs_background": "light"
          }
        },
        {
          "output_type": "display_data",
          "data": {
            "image/png": "[encoded data removed]",
            "text/plain": [
              "<Figure size 432x288 with 1 Axes>"
            ]
          },
          "metadata": {
            "needs_background": "light"
          }
        }
      ]
    },
    {
      "cell_type": "code",
      "metadata": {
        "id": "DgEnmcBSPF5f"
      },
      "source": [
        "import numpy as np\n",
        "import matplotlib.pyplot as plt\n",
        "def plot_confusion_matrix(cm, classes, figname,\n",
        " normalize=False,\n",
        " title='Confusion matrix',\n",
        " cmap=plt.cm.Blues):\n",
        "#  “””\n",
        "#  This function prints and plots the confusion matrix.\n",
        "#  Normalization can be applied by setting `normalize=True`.\n",
        "#  “””\n",
        " import numpy as np\n",
        " import matplotlib.pyplot as plt\n",
        " import itertools\n",
        " if normalize:\n",
        "  cm = cm.astype('float')/cm.sum(axis=1)[:, np.newaxis]\n",
        "  print('Normalized confusion matrix')\n",
        " else:\n",
        "  print('Confusion matrix, without normalization')\n",
        "  \n",
        " plt.figure(figsize=(8,8))\n",
        " plt.imshow(cm, interpolation='nearest', cmap=cmap)\n",
        " plt.title(title)\n",
        " #plt.colorbar()\n",
        " tick_marks = np.arange(len(classes))\n",
        " plt.xticks(tick_marks, classes, rotation=90)\n",
        " plt.yticks(tick_marks, classes)\n",
        " fmt = '.2f' if normalize else 'd'\n",
        " thresh = cm.max() / 2.\n",
        " for i, j in itertools.product(range(cm.shape[0]), range(cm.shape[1])):\n",
        "  plt.text(j, i, format(cm[i, j], fmt),\n",
        "  horizontalalignment='center',\n",
        "  color='white' if cm[i, j] > thresh else 'black')\n",
        " plt.ylabel('True label')\n",
        " plt.xlabel('Predicted label')\n",
        " plt.tight_layout()\n",
        " plt.savefig(figname)"
      ],
      "execution_count": null,
      "outputs": []
    },
    {
      "cell_type": "code",
      "metadata": {
        "id": "2NzLJYEwgut7",
        "colab": {
          "base_uri": "https://localhost:8080/"
        },
        "outputId": "81407109-50c0-4442-d95e-fba8d504b100"
      },
      "source": [
        "Y_pred = model.predict_generator(test_generator)\n",
        "y_pred = np.argmax(Y_pred, axis=1)\n",
        "\n",
        "cm = confusion_matrix(test_generator.classes, y_pred)\n",
        "#plot_confusion_matrix(cm, labels = category_names, title='Confusion Matrix', normalize=False, figname = 'Confusion_matrix_concrete.jpg')\n",
        "#plot_confusion_matrix(cm, labels = category_names,  normalize=False)#, figname = 'Confusion_matrix_concrete.jpg', title='Confusion Matrix'\n",
        "\n",
        "#plot_confusion_matrix(X = test_generator.classes, y_true = y_pred,labels= category_names, normalize=False)"
      ],
      "execution_count": null,
      "outputs": [
        {
          "output_type": "stream",
          "name": "stderr",
          "text": [
            "/usr/local/lib/python3.7/dist-packages/keras/engine/training.py:2035: UserWarning: `Model.predict_generator` is deprecated and will be removed in a future version. Please use `Model.predict`, which supports generators.\n",
            "  warnings.warn('`Model.predict_generator` is deprecated and '\n"
          ]
        }
      ]
    },
    {
      "cell_type": "code",
      "metadata": {
        "id": "qGHunA1f4xHk",
        "colab": {
          "base_uri": "https://localhost:8080/"
        },
        "outputId": "6f06daaa-8656-45a4-d5eb-474926706b78"
      },
      "source": [
        "print(cm)"
      ],
      "execution_count": null,
      "outputs": [
        {
          "output_type": "stream",
          "name": "stdout",
          "text": [
            "[[101   0   0]\n",
            " [ 10  81  10]\n",
            " [  3   0  98]]\n"
          ]
        }
      ]
    },
    {
      "cell_type": "code",
      "metadata": {
        "id": "VGzZSuBC4xNw",
        "colab": {
          "base_uri": "https://localhost:8080/"
        },
        "outputId": "50e08747-9a8e-48c3-909b-84421d391eab"
      },
      "source": [
        "accuracy = accuracy_score(test_generator.classes, y_pred)\n",
        "print(\"Accuracy in test set: %0.1f%% \" % (accuracy * 100))"
      ],
      "execution_count": null,
      "outputs": [
        {
          "output_type": "stream",
          "name": "stdout",
          "text": [
            "Accuracy in test set: 92.4% \n"
          ]
        }
      ]
    },
    {
      "cell_type": "code",
      "metadata": {
        "id": "HX0kXDMx4xO-",
        "colab": {
          "base_uri": "https://localhost:8080/"
        },
        "outputId": "bf149a49-c534-4734-c149-f0571a3135f8"
      },
      "source": [
        "confusion_metri=metrics.classification_report(test_generator.classes, y_pred,target_names=category_names)\n",
        "print(confusion_metri)"
      ],
      "execution_count": null,
      "outputs": [
        {
          "output_type": "stream",
          "name": "stdout",
          "text": [
            "                 precision    recall  f1-score   support\n",
            "\n",
            "         glioma       0.89      1.00      0.94       101\n",
            "     meningioma       1.00      0.80      0.89       101\n",
            "pituitary tumor       0.91      0.97      0.94       101\n",
            "\n",
            "       accuracy                           0.92       303\n",
            "      macro avg       0.93      0.92      0.92       303\n",
            "   weighted avg       0.93      0.92      0.92       303\n",
            "\n"
          ]
        }
      ]
    },
    {
      "cell_type": "code",
      "metadata": {
        "id": "jkgkEeYp4xSQ"
      },
      "source": [
        "def read_image(file_path):\n",
        "   print('[INFO] loading and preprocessing image…') \n",
        "   image = load_img(file_path, target_size=(224, 224)) \n",
        "   image = img_to_array(image) \n",
        "   image = np.expand_dims(image, axis=0)\n",
        "   image /= 255. \n",
        "   return image\n",
        "def test_single_image(path):\n",
        "  animals = category_names\n",
        "  \n",
        "  images = read_image(path)\n",
        "\n",
        "  # bt_prediction = model.predict(images) \n",
        "  # preds = model.predict_proba(bt_prediction)\n",
        "\n",
        "  preds = model.predict_generator(images)\n",
        "\n",
        "  bar_animal=[]\n",
        "  bar_prob=[]\n",
        "\n",
        "  for idx, animal, x in zip(range(0,3), animals , preds[0]):\n",
        "    print('ID: {}, Label: {} {}%'.format(idx, animal, round(x*100,3) ))\n",
        "\n",
        "    bar_animal=animal\n",
        "    bar_prob=round(x*100,3)\n",
        "    print(idx,animal)\n",
        "\n",
        "    plt.bar(bar_animal,bar_prob)\n",
        "\n",
        "  print('Final Decision:')\n",
        "  \n",
        "  #print(bar_animal)\n",
        "  \n",
        "  \n",
        "\n",
        "\n",
        "  for x in range(3):\n",
        "   print('.'*(x+1))\n",
        "   \n",
        "  # class_predicted = model.predict_classes(bt_prediction)\n",
        "  # class_dictionary = generator_top.class_indices \n",
        "  # inv_map = {v: k for k, v in class_dictionary.items()} \n",
        "  # print('ID: {}, Label: {}'.format(class_predicted[0],  inv_map[class_predicted[0]])) \n",
        "  return load_img(path)\n"
      ],
      "execution_count": null,
      "outputs": []
    },
    {
      "cell_type": "code",
      "metadata": {
        "id": "bQsG71xH4xTd"
      },
      "source": [
        "# from keras.preprocessing.image import load_img, img_to_array\n",
        "\n",
        "# path = '/content/drive/My Drive/datasets_image/brain_tumor/train/2/96.png'\n",
        "# #path='/content/drive/My Drive/cats_and_dogs/test/dog/dog.232.jpg'\n",
        "# test_single_image(path)"
      ],
      "execution_count": null,
      "outputs": []
    },
    {
      "cell_type": "code",
      "metadata": {
        "id": "beq8sfLJ4xWR"
      },
      "source": [
        "# def get_img_array(img_path, size):\n",
        "#     # `img` is a PIL image of size 299x299\n",
        "#     img = keras.preprocessing.image.load_img(img_path, target_size=size)\n",
        "#     # `array` is a float32 Numpy array of shape (299, 299, 3)\n",
        "#     array = keras.preprocessing.image.img_to_array(img)\n",
        "#     # We add a dimension to transform our array into a \"batch\"\n",
        "#     # of size (1, 299, 299, 3)\n",
        "#     array = np.expand_dims(array, axis=0)\n",
        "#     return array\n",
        "\n",
        "\n",
        "# def make_gradcam_heatmap(img_array, model, last_conv_layer_name, pred_index=None):\n",
        "#     # First, we create a model that maps the input image to the activations\n",
        "#     # of the last conv layer as well as the output predictions\n",
        "#     grad_model = tf.keras.models.Model(\n",
        "#         [model.inputs], [model.get_layer(last_conv_layer_name).output, model.output]\n",
        "#     )\n",
        "\n",
        "#     # Then, we compute the gradient of the top predicted class for our input image\n",
        "#     # with respect to the activations of the last conv layer\n",
        "#     with tf.GradientTape() as tape:\n",
        "#         last_conv_layer_output, preds = grad_model(img_array)\n",
        "#         if pred_index is None:\n",
        "#             pred_index = tf.argmax(preds[0])\n",
        "#         class_channel = preds[:, pred_index]\n",
        "\n",
        "#     # This is the gradient of the output neuron (top predicted or chosen)\n",
        "#     # with regard to the output feature map of the last conv layer\n",
        "#     grads = tape.gradient(class_channel, last_conv_layer_output)\n",
        "\n",
        "#     # This is a vector where each entry is the mean intensity of the gradient\n",
        "#     # over a specific feature map channel\n",
        "#     pooled_grads = tf.reduce_mean(grads, axis=(0, 1, 2))\n",
        "\n",
        "#     # We multiply each channel in the feature map array\n",
        "#     # by \"how important this channel is\" with regard to the top predicted class\n",
        "#     # then sum all the channels to obtain the heatmap class activation\n",
        "#     last_conv_layer_output = last_conv_layer_output[0]\n",
        "#     heatmap = last_conv_layer_output @ pooled_grads[..., tf.newaxis]\n",
        "#     heatmap = tf.squeeze(heatmap)\n",
        "\n",
        "#     # For visualization purpose, we will also normalize the heatmap between 0 & 1\n",
        "#     heatmap = tf.maximum(heatmap, 0) / tf.math.reduce_max(heatmap)\n",
        "#     return heatmap.numpy()"
      ],
      "execution_count": null,
      "outputs": []
    },
    {
      "cell_type": "code",
      "metadata": {
        "id": "d0fbn5WugDWE"
      },
      "source": [
        "# img_size=[224,224]\n",
        "# # Prepare image\n",
        "# img_array = preprocess_input(get_img_array(path, size=img_size))\n",
        "\n",
        "# # Make model\n",
        "# model = model\n",
        "\n",
        "# # # Remove last layer's softmax\n",
        "# # model.layers[-1].activation = None\n",
        "\n",
        "# # # Print what the top predicted class is\n",
        "# # preds = model.predict(img_array)\n",
        "# # print(\"Predicted:\", decode_predictions(preds, top=1)[0])\n",
        "\n",
        "# # Generate class activation heatmap\n",
        "# heatmap = make_gradcam_heatmap(img_array, model, \"block5_conv4\")\n",
        "\n",
        "# # Display heatmap\n",
        "# plt.matshow(heatmap)\n",
        "# plt.show()"
      ],
      "execution_count": null,
      "outputs": []
    },
    {
      "cell_type": "code",
      "metadata": {
        "id": "b7FxKjT6gDXh"
      },
      "source": [
        "\n",
        "# # We load the original image\n",
        "# img = keras.preprocessing.image.load_img(path)\n",
        "# img = keras.preprocessing.image.img_to_array(img)\n",
        "\n",
        "# # We rescale heatmap to a range 0-255\n",
        "# heatmap = np.uint8(255 * heatmap)\n",
        "\n",
        "# # We use jet colormap to colorize heatmap\n",
        "# jet = cm.get_cmap(\"jet\")\n",
        "\n",
        "# # We use RGB values of the colormap\n",
        "# jet_colors = jet(np.arange(256))[:, :3]\n",
        "# jet_heatmap = jet_colors[heatmap]\n",
        "\n",
        "# # We create an image with RGB colorized heatmap\n",
        "# jet_heatmap = keras.preprocessing.image.array_to_img(jet_heatmap)\n",
        "# jet_heatmap = jet_heatmap.resize((img.shape[1], img.shape[0]))\n",
        "# jet_heatmap = keras.preprocessing.image.img_to_array(jet_heatmap)\n",
        "\n",
        "# # Superimpose the heatmap on original image\n",
        "# superimposed_img = jet_heatmap * 0.3 + img\n",
        "# superimposed_img = keras.preprocessing.image.array_to_img(superimposed_img)\n",
        "\n",
        "# # Save the superimposed image\n",
        "# save_path = '/content/drive/My Drive/cats_and_dogs/test/dogtest1.jpg'\n",
        "# superimposed_img.save(save_path)\n",
        "\n",
        "# # Display Grad CAM\n",
        "# display(Image(save_path))\n",
        "\n",
        "# plt.imshow(superimposed_img)"
      ],
      "execution_count": null,
      "outputs": []
    },
    {
      "cell_type": "code",
      "metadata": {
        "id": "tSkQceKKgMqm"
      },
      "source": [],
      "execution_count": null,
      "outputs": []
    },
    {
      "cell_type": "code",
      "metadata": {
        "id": "Uoio6cr5oQ37"
      },
      "source": [
        "model.save('/content/drive/My Drive/datasets_image/brain_conf/res/final/model_final.h5' )"
      ],
      "execution_count": null,
      "outputs": []
    },
    {
      "cell_type": "code",
      "metadata": {
        "id": "9cpLdsMVoUAK"
      },
      "source": [
        "model.save_weights('/content/drive/My Drive/datasets_image/brain_conf/res/final/model_weights_final.h5' )"
      ],
      "execution_count": null,
      "outputs": []
    },
    {
      "cell_type": "code",
      "metadata": {
        "id": "YDSoOKCNodmi"
      },
      "source": [
        "# print([layer.name for layer in model.get_layer('vgg19').layers])"
      ],
      "execution_count": null,
      "outputs": []
    },
    {
      "cell_type": "code",
      "metadata": {
        "id": "k4YpeeHwpCAk"
      },
      "source": [],
      "execution_count": null,
      "outputs": []
    },
    {
      "cell_type": "code",
      "metadata": {
        "id": "hJbZ35BVpfK4"
      },
      "source": [],
      "execution_count": null,
      "outputs": []
    },
    {
      "cell_type": "code",
      "metadata": {
        "id": "0yG6Z23-qlOq"
      },
      "source": [],
      "execution_count": null,
      "outputs": []
    }
  ]
}